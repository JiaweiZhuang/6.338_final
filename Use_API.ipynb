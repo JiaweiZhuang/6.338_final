{
 "cells": [
  {
   "cell_type": "code",
   "execution_count": 8,
   "metadata": {},
   "outputs": [
    {
     "data": {
      "text/plain": [
       "predict (generic function with 2 methods)"
      ]
     },
     "execution_count": 8,
     "metadata": {},
     "output_type": "execute_result"
    }
   ],
   "source": [
    "include(\"NN_solver.jl\")"
   ]
  },
  {
   "cell_type": "code",
   "execution_count": 9,
   "metadata": {},
   "outputs": [
    {
     "data": {
      "text/plain": [
       "f! (generic function with 1 method)"
      ]
     },
     "execution_count": 9,
     "metadata": {},
     "output_type": "execute_result"
    }
   ],
   "source": [
    "function f!(t, y, dy)\n",
    "    dy[1] = t+998.0*y[1] + 1998.0*y[2]\n",
    "    dy[2] = -999.0*y[1] - 1999.0*y[2]\n",
    "end"
   ]
  },
  {
   "cell_type": "code",
   "execution_count": 10,
   "metadata": {},
   "outputs": [
    {
     "data": {
      "text/plain": [
       "2-element Array{Float64,1}:\n",
       "  2.0\n",
       " -1.0"
      ]
     },
     "execution_count": 10,
     "metadata": {},
     "output_type": "execute_result"
    }
   ],
   "source": [
    "t = [0:0.1:2;]\n",
    "t = reshape(t, 1, :) # shape = [n_input,n_sample]\n",
    "y0_list = [2.0, -1.0]"
   ]
  },
  {
   "cell_type": "code",
   "execution_count": 11,
   "metadata": {},
   "outputs": [
    {
     "name": "stdout",
     "output_type": "stream",
     "text": [
      "Neural ODE Solver\n",
      "Number of equations:       2\n",
      "Initial condition y0:      [2.0, -1.0]\n",
      "Numnber of hidden units:   10\n",
      "Number of training points: 21\n"
     ]
    }
   ],
   "source": [
    "nn = init_nn(f!, t, y0_list);\n",
    "show(nn)"
   ]
  },
  {
   "cell_type": "code",
   "execution_count": 12,
   "metadata": {},
   "outputs": [
    {
     "name": "stderr",
     "output_type": "stream",
     "text": [
      "\u001b[1m\u001b[33mWARNING: \u001b[39m\u001b[22m\u001b[33m`alphainit` is deprecated, use `InitialHagerZhang()` instead\u001b[39m\n"
     ]
    },
    {
     "name": "stdout",
     "output_type": "stream",
     "text": [
      "Iter     Function value   Gradient norm \n",
      "     0     1.193928e+08     1.092781e+08\n",
      "    50     1.575019e+00     7.062500e+03\n",
      "   100     6.041921e-01     1.169872e+03\n",
      "   150     2.896800e-01     1.995412e+03\n",
      "   200     1.656660e-01     8.258156e+01\n",
      "   250     9.759991e-02     7.817629e+02\n",
      "   300     3.920264e-02     6.543519e+02\n",
      "   350     1.708272e-03     1.517783e+02\n",
      "   400     6.946982e-04     8.942418e-01\n",
      "   450     5.602779e-04     2.964746e+01\n",
      "   500     4.693856e-04     1.045068e+01\n",
      " 22.036406 seconds (28.83 M allocations: 4.652 GiB, 3.25% gc time)\n"
     ]
    },
    {
     "data": {
      "text/plain": [
       "2-element Array{Any,1}:\n",
       " Any[[0.58834; 0.063958; … ; -1.90844; -4.76017], [1.28081, 0.713043, 0.658656, 21.2692, -1.1546, 1.4174, 0.354802, 8.34484, -1.83943, -5.9135], [4.75609 5.23243 … 14.2758 -21.5516], [-3.58841]]   \n",
       " Any[[-8.54569; -11.3235; … ; 19.9431; -14.504], [-8.86593, -7.86076, 8.48511, 0.984194, -0.525106, 1.72291, -0.748466, -14.5553, 12.6535, -9.80785], [2.94802 7.32501 … 9.59693 6.81894], [14.3889]]"
      ]
     },
     "execution_count": 12,
     "metadata": {},
     "output_type": "execute_result"
    }
   ],
   "source": [
    "reset_weights!(nn)\n",
    "@time train!(nn)"
   ]
  },
  {
   "cell_type": "code",
   "execution_count": 13,
   "metadata": {},
   "outputs": [
    {
     "data": {
      "text/plain": [
       "(Any[[2.0 1.81523 … 2.3965 2.53606], [-1.0 -0.907598 … -1.19732 -1.26704]], Any[[-1.98581 -1.69957 … 1.3635 1.42769], [0.993864 0.849867 … -0.681225 -0.71308]])"
      ]
     },
     "execution_count": 13,
     "metadata": {},
     "output_type": "execute_result"
    }
   ],
   "source": [
    "y_pred_list, dydt_pred_list = predict(nn)"
   ]
  },
  {
   "cell_type": "code",
   "execution_count": 14,
   "metadata": {
    "collapsed": true
   },
   "outputs": [],
   "source": [
    "using Plots\n",
    "default(size = (300, 200)) # plot size"
   ]
  },
  {
   "cell_type": "code",
   "execution_count": 15,
   "metadata": {},
   "outputs": [
    {
     "data": {
      "text/html": [
       "<?xml version=\"1.0\" encoding=\"utf-8\"?>\n",
       "<svg xmlns=\"http://www.w3.org/2000/svg\" xmlns:xlink=\"http://www.w3.org/1999/xlink\" width=\"300\" height=\"200\" viewBox=\"0 0 300 200\">\n",
       "<defs>\n",
       "  <clipPath id=\"clip00\">\n",
       "    <rect x=\"0\" y=\"0\" width=\"300\" height=\"200\"/>\n",
       "  </clipPath>\n",
       "</defs>\n",
       "<polygon clip-path=\"url(#clip3400)\" points=\"\n",
       "0,200 300,200 300,0 0,0 \n",
       "  \" fill=\"#ffffff\" fill-opacity=\"1\"/>\n",
       "<defs>\n",
       "  <clipPath id=\"clip01\">\n",
       "    <rect x=\"60\" y=\"0\" width=\"211\" height=\"200\"/>\n",
       "  </clipPath>\n",
       "</defs>\n",
       "<polygon clip-path=\"url(#clip3400)\" points=\"\n",
       "38.8117,175.813 280.315,175.813 280.315,11.811 38.8117,11.811 \n",
       "  \" fill=\"#ffffff\" fill-opacity=\"1\"/>\n",
       "<defs>\n",
       "  <clipPath id=\"clip02\">\n",
       "    <rect x=\"38\" y=\"11\" width=\"243\" height=\"165\"/>\n",
       "  </clipPath>\n",
       "</defs>\n",
       "<polyline clip-path=\"url(#clip3402)\" style=\"stroke:#000000; stroke-width:0.5; stroke-opacity:0.1; fill:none\" points=\"\n",
       "  38.8117,173.353 38.8117,14.2711 \n",
       "  \"/>\n",
       "<polyline clip-path=\"url(#clip3402)\" style=\"stroke:#000000; stroke-width:0.5; stroke-opacity:0.1; fill:none\" points=\"\n",
       "  99.1875,173.353 99.1875,14.2711 \n",
       "  \"/>\n",
       "<polyline clip-path=\"url(#clip3402)\" style=\"stroke:#000000; stroke-width:0.5; stroke-opacity:0.1; fill:none\" points=\"\n",
       "  159.563,173.353 159.563,14.2711 \n",
       "  \"/>\n",
       "<polyline clip-path=\"url(#clip3402)\" style=\"stroke:#000000; stroke-width:0.5; stroke-opacity:0.1; fill:none\" points=\"\n",
       "  219.939,173.353 219.939,14.2711 \n",
       "  \"/>\n",
       "<polyline clip-path=\"url(#clip3402)\" style=\"stroke:#000000; stroke-width:0.5; stroke-opacity:0.1; fill:none\" points=\"\n",
       "  280.315,173.353 280.315,14.2711 \n",
       "  \"/>\n",
       "<polyline clip-path=\"url(#clip3402)\" style=\"stroke:#000000; stroke-width:0.5; stroke-opacity:0.1; fill:none\" points=\"\n",
       "  42.4343,156.575 276.692,156.575 \n",
       "  \"/>\n",
       "<polyline clip-path=\"url(#clip3402)\" style=\"stroke:#000000; stroke-width:0.5; stroke-opacity:0.1; fill:none\" points=\"\n",
       "  42.4343,121.644 276.692,121.644 \n",
       "  \"/>\n",
       "<polyline clip-path=\"url(#clip3402)\" style=\"stroke:#000000; stroke-width:0.5; stroke-opacity:0.1; fill:none\" points=\"\n",
       "  42.4343,86.7127 276.692,86.7127 \n",
       "  \"/>\n",
       "<polyline clip-path=\"url(#clip3402)\" style=\"stroke:#000000; stroke-width:0.5; stroke-opacity:0.1; fill:none\" points=\"\n",
       "  42.4343,51.7814 276.692,51.7814 \n",
       "  \"/>\n",
       "<polyline clip-path=\"url(#clip3402)\" style=\"stroke:#000000; stroke-width:0.5; stroke-opacity:0.1; fill:none\" points=\"\n",
       "  42.4343,16.85 276.692,16.85 \n",
       "  \"/>\n",
       "<polyline clip-path=\"url(#clip3400)\" style=\"stroke:#000000; stroke-width:1; stroke-opacity:1; fill:none\" points=\"\n",
       "  38.8117,175.813 280.315,175.813 \n",
       "  \"/>\n",
       "<polyline clip-path=\"url(#clip3400)\" style=\"stroke:#000000; stroke-width:1; stroke-opacity:1; fill:none\" points=\"\n",
       "  38.8117,175.813 38.8117,11.811 \n",
       "  \"/>\n",
       "<polyline clip-path=\"url(#clip3400)\" style=\"stroke:#000000; stroke-width:1; stroke-opacity:1; fill:none\" points=\"\n",
       "  38.8117,175.813 38.8117,173.353 \n",
       "  \"/>\n",
       "<polyline clip-path=\"url(#clip3400)\" style=\"stroke:#000000; stroke-width:1; stroke-opacity:1; fill:none\" points=\"\n",
       "  99.1875,175.813 99.1875,173.353 \n",
       "  \"/>\n",
       "<polyline clip-path=\"url(#clip3400)\" style=\"stroke:#000000; stroke-width:1; stroke-opacity:1; fill:none\" points=\"\n",
       "  159.563,175.813 159.563,173.353 \n",
       "  \"/>\n",
       "<polyline clip-path=\"url(#clip3400)\" style=\"stroke:#000000; stroke-width:1; stroke-opacity:1; fill:none\" points=\"\n",
       "  219.939,175.813 219.939,173.353 \n",
       "  \"/>\n",
       "<polyline clip-path=\"url(#clip3400)\" style=\"stroke:#000000; stroke-width:1; stroke-opacity:1; fill:none\" points=\"\n",
       "  280.315,175.813 280.315,173.353 \n",
       "  \"/>\n",
       "<polyline clip-path=\"url(#clip3400)\" style=\"stroke:#000000; stroke-width:1; stroke-opacity:1; fill:none\" points=\"\n",
       "  38.8117,156.575 42.4343,156.575 \n",
       "  \"/>\n",
       "<polyline clip-path=\"url(#clip3400)\" style=\"stroke:#000000; stroke-width:1; stroke-opacity:1; fill:none\" points=\"\n",
       "  38.8117,121.644 42.4343,121.644 \n",
       "  \"/>\n",
       "<polyline clip-path=\"url(#clip3400)\" style=\"stroke:#000000; stroke-width:1; stroke-opacity:1; fill:none\" points=\"\n",
       "  38.8117,86.7127 42.4343,86.7127 \n",
       "  \"/>\n",
       "<polyline clip-path=\"url(#clip3400)\" style=\"stroke:#000000; stroke-width:1; stroke-opacity:1; fill:none\" points=\"\n",
       "  38.8117,51.7814 42.4343,51.7814 \n",
       "  \"/>\n",
       "<polyline clip-path=\"url(#clip3400)\" style=\"stroke:#000000; stroke-width:1; stroke-opacity:1; fill:none\" points=\"\n",
       "  38.8117,16.85 42.4343,16.85 \n",
       "  \"/>\n",
       "<g clip-path=\"url(#clip3400)\">\n",
       "<text style=\"fill:#000000; fill-opacity:1; font-family:Arial,Helvetica Neue,Helvetica,sans-serif; font-size:12; text-anchor:middle;\" transform=\"rotate(0, 38.8117, 188.113)\" x=\"38.8117\" y=\"188.113\">0.0</text>\n",
       "</g>\n",
       "<g clip-path=\"url(#clip3400)\">\n",
       "<text style=\"fill:#000000; fill-opacity:1; font-family:Arial,Helvetica Neue,Helvetica,sans-serif; font-size:12; text-anchor:middle;\" transform=\"rotate(0, 99.1875, 188.113)\" x=\"99.1875\" y=\"188.113\">0.5</text>\n",
       "</g>\n",
       "<g clip-path=\"url(#clip3400)\">\n",
       "<text style=\"fill:#000000; fill-opacity:1; font-family:Arial,Helvetica Neue,Helvetica,sans-serif; font-size:12; text-anchor:middle;\" transform=\"rotate(0, 159.563, 188.113)\" x=\"159.563\" y=\"188.113\">1.0</text>\n",
       "</g>\n",
       "<g clip-path=\"url(#clip3400)\">\n",
       "<text style=\"fill:#000000; fill-opacity:1; font-family:Arial,Helvetica Neue,Helvetica,sans-serif; font-size:12; text-anchor:middle;\" transform=\"rotate(0, 219.939, 188.113)\" x=\"219.939\" y=\"188.113\">1.5</text>\n",
       "</g>\n",
       "<g clip-path=\"url(#clip3400)\">\n",
       "<text style=\"fill:#000000; fill-opacity:1; font-family:Arial,Helvetica Neue,Helvetica,sans-serif; font-size:12; text-anchor:middle;\" transform=\"rotate(0, 280.315, 188.113)\" x=\"280.315\" y=\"188.113\">2.0</text>\n",
       "</g>\n",
       "<g clip-path=\"url(#clip3400)\">\n",
       "<text style=\"fill:#000000; fill-opacity:1; font-family:Arial,Helvetica Neue,Helvetica,sans-serif; font-size:12; text-anchor:end;\" transform=\"rotate(0, 35.8117, 161.075)\" x=\"35.8117\" y=\"161.075\">1.50</text>\n",
       "</g>\n",
       "<g clip-path=\"url(#clip3400)\">\n",
       "<text style=\"fill:#000000; fill-opacity:1; font-family:Arial,Helvetica Neue,Helvetica,sans-serif; font-size:12; text-anchor:end;\" transform=\"rotate(0, 35.8117, 126.144)\" x=\"35.8117\" y=\"126.144\">1.75</text>\n",
       "</g>\n",
       "<g clip-path=\"url(#clip3400)\">\n",
       "<text style=\"fill:#000000; fill-opacity:1; font-family:Arial,Helvetica Neue,Helvetica,sans-serif; font-size:12; text-anchor:end;\" transform=\"rotate(0, 35.8117, 91.2127)\" x=\"35.8117\" y=\"91.2127\">2.00</text>\n",
       "</g>\n",
       "<g clip-path=\"url(#clip3400)\">\n",
       "<text style=\"fill:#000000; fill-opacity:1; font-family:Arial,Helvetica Neue,Helvetica,sans-serif; font-size:12; text-anchor:end;\" transform=\"rotate(0, 35.8117, 56.2814)\" x=\"35.8117\" y=\"56.2814\">2.25</text>\n",
       "</g>\n",
       "<g clip-path=\"url(#clip3400)\">\n",
       "<text style=\"fill:#000000; fill-opacity:1; font-family:Arial,Helvetica Neue,Helvetica,sans-serif; font-size:12; text-anchor:end;\" transform=\"rotate(0, 35.8117, 21.35)\" x=\"35.8117\" y=\"21.35\">2.50</text>\n",
       "</g>\n",
       "<polyline clip-path=\"url(#clip3402)\" style=\"stroke:#009af9; stroke-width:1; stroke-opacity:1; fill:none\" points=\"\n",
       "  38.8117,86.7127 50.8869,112.529 \n",
       "  \"/>\n",
       "<polyline clip-path=\"url(#clip3402)\" style=\"stroke:#009af9; stroke-width:1; stroke-opacity:1; fill:none\" points=\"\n",
       "  50.8869,112.529 62.9621,134.032 \n",
       "  \"/>\n",
       "<polyline clip-path=\"url(#clip3402)\" style=\"stroke:#009af9; stroke-width:1; stroke-opacity:1; fill:none\" points=\"\n",
       "  62.9621,134.032 75.0372,150.919 \n",
       "  \"/>\n",
       "<polyline clip-path=\"url(#clip3402)\" style=\"stroke:#009af9; stroke-width:1; stroke-opacity:1; fill:none\" points=\"\n",
       "  75.0372,150.919 87.1124,163.229 \n",
       "  \"/>\n",
       "<polyline clip-path=\"url(#clip3402)\" style=\"stroke:#009af9; stroke-width:1; stroke-opacity:1; fill:none\" points=\"\n",
       "  87.1124,163.229 99.1875,171.215 \n",
       "  \"/>\n",
       "<polyline clip-path=\"url(#clip3402)\" style=\"stroke:#009af9; stroke-width:1; stroke-opacity:1; fill:none\" points=\"\n",
       "  99.1875,171.215 111.263,175.261 \n",
       "  \"/>\n",
       "<polyline clip-path=\"url(#clip3402)\" style=\"stroke:#009af9; stroke-width:1; stroke-opacity:1; fill:none\" points=\"\n",
       "  111.263,175.261 123.338,175.813 \n",
       "  \"/>\n",
       "<polyline clip-path=\"url(#clip3402)\" style=\"stroke:#009af9; stroke-width:1; stroke-opacity:1; fill:none\" points=\"\n",
       "  123.338,175.813 135.413,173.326 \n",
       "  \"/>\n",
       "<polyline clip-path=\"url(#clip3402)\" style=\"stroke:#009af9; stroke-width:1; stroke-opacity:1; fill:none\" points=\"\n",
       "  135.413,173.326 147.488,168.224 \n",
       "  \"/>\n",
       "<polyline clip-path=\"url(#clip3402)\" style=\"stroke:#009af9; stroke-width:1; stroke-opacity:1; fill:none\" points=\"\n",
       "  147.488,168.224 159.563,160.889 \n",
       "  \"/>\n",
       "<polyline clip-path=\"url(#clip3402)\" style=\"stroke:#009af9; stroke-width:1; stroke-opacity:1; fill:none\" points=\"\n",
       "  159.563,160.889 171.639,151.644 \n",
       "  \"/>\n",
       "<polyline clip-path=\"url(#clip3402)\" style=\"stroke:#009af9; stroke-width:1; stroke-opacity:1; fill:none\" points=\"\n",
       "  171.639,151.644 183.714,140.754 \n",
       "  \"/>\n",
       "<polyline clip-path=\"url(#clip3402)\" style=\"stroke:#009af9; stroke-width:1; stroke-opacity:1; fill:none\" points=\"\n",
       "  183.714,140.754 195.789,128.433 \n",
       "  \"/>\n",
       "<polyline clip-path=\"url(#clip3402)\" style=\"stroke:#009af9; stroke-width:1; stroke-opacity:1; fill:none\" points=\"\n",
       "  195.789,128.433 207.864,114.847 \n",
       "  \"/>\n",
       "<polyline clip-path=\"url(#clip3402)\" style=\"stroke:#009af9; stroke-width:1; stroke-opacity:1; fill:none\" points=\"\n",
       "  207.864,114.847 219.939,100.123 \n",
       "  \"/>\n",
       "<polyline clip-path=\"url(#clip3402)\" style=\"stroke:#009af9; stroke-width:1; stroke-opacity:1; fill:none\" points=\"\n",
       "  219.939,100.123 232.014,84.3523 \n",
       "  \"/>\n",
       "<polyline clip-path=\"url(#clip3402)\" style=\"stroke:#009af9; stroke-width:1; stroke-opacity:1; fill:none\" points=\"\n",
       "  232.014,84.3523 244.089,67.6009 \n",
       "  \"/>\n",
       "<polyline clip-path=\"url(#clip3402)\" style=\"stroke:#009af9; stroke-width:1; stroke-opacity:1; fill:none\" points=\"\n",
       "  244.089,67.6009 256.165,49.9119 \n",
       "  \"/>\n",
       "<polyline clip-path=\"url(#clip3402)\" style=\"stroke:#009af9; stroke-width:1; stroke-opacity:1; fill:none\" points=\"\n",
       "  256.165,49.9119 268.24,31.3111 \n",
       "  \"/>\n",
       "<polyline clip-path=\"url(#clip3402)\" style=\"stroke:#009af9; stroke-width:1; stroke-opacity:1; fill:none\" points=\"\n",
       "  268.24,31.3111 280.315,11.811 \n",
       "  \"/>\n",
       "<polygon clip-path=\"url(#clip3400)\" points=\"\n",
       "228.799,44.931 271.315,44.931 271.315,14.691 228.799,14.691 \n",
       "  \" fill=\"#ffffff\" fill-opacity=\"1\"/>\n",
       "<polyline clip-path=\"url(#clip3400)\" style=\"stroke:#000000; stroke-width:0.5; stroke-opacity:1; fill:none\" points=\"\n",
       "  228.799,44.931 271.315,44.931 271.315,14.691 228.799,14.691 228.799,44.931 \n",
       "  \"/>\n",
       "<polyline clip-path=\"url(#clip3400)\" style=\"stroke:#009af9; stroke-width:1; stroke-opacity:1; fill:none\" points=\"\n",
       "  231.799,29.811 249.799,29.811 \n",
       "  \"/>\n",
       "<g clip-path=\"url(#clip3400)\">\n",
       "<text style=\"fill:#000000; fill-opacity:1; font-family:Arial,Helvetica Neue,Helvetica,sans-serif; font-size:12; text-anchor:start;\" transform=\"rotate(0, 252.799, 34.311)\" x=\"252.799\" y=\"34.311\">y1</text>\n",
       "</g>\n",
       "</svg>\n"
      ]
     },
     "execution_count": 15,
     "metadata": {},
     "output_type": "execute_result"
    }
   ],
   "source": [
    "plot(nn.t[:], y_pred_list[1][:])"
   ]
  },
  {
   "cell_type": "code",
   "execution_count": null,
   "metadata": {
    "collapsed": true
   },
   "outputs": [],
   "source": []
  }
 ],
 "metadata": {
  "kernelspec": {
   "display_name": "Julia 0.6.1",
   "language": "julia",
   "name": "julia-0.6"
  },
  "language_info": {
   "file_extension": ".jl",
   "mimetype": "application/julia",
   "name": "julia",
   "version": "0.6.1"
  },
  "toc": {
   "nav_menu": {},
   "number_sections": true,
   "sideBar": true,
   "skip_h1_title": false,
   "toc_cell": false,
   "toc_position": {},
   "toc_section_display": "block",
   "toc_window_display": false
  }
 },
 "nbformat": 4,
 "nbformat_minor": 2
}
