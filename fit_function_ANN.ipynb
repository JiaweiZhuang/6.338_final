{
 "cells": [
  {
   "cell_type": "code",
   "execution_count": 1,
   "metadata": {
    "collapsed": true
   },
   "outputs": [],
   "source": [
    "using Optim\n",
    "using Plots"
   ]
  },
  {
   "cell_type": "code",
   "execution_count": 2,
   "metadata": {
    "collapsed": true
   },
   "outputs": [],
   "source": [
    "default(size = (300, 200)) # plot size"
   ]
  },
  {
   "cell_type": "markdown",
   "metadata": {},
   "source": [
    "# Generate data"
   ]
  },
  {
   "cell_type": "code",
   "execution_count": 3,
   "metadata": {},
   "outputs": [
    {
     "data": {
      "text/plain": [
       "f1 (generic function with 1 method)"
      ]
     },
     "execution_count": 3,
     "metadata": {},
     "output_type": "execute_result"
    }
   ],
   "source": [
    "f1(x) = x^2/20 + sin(2*x)"
   ]
  },
  {
   "cell_type": "code",
   "execution_count": 4,
   "metadata": {},
   "outputs": [
    {
     "name": "stdout",
     "output_type": "stream",
     "text": [
      "(1, 201)(1, 201)"
     ]
    },
    {
     "data": {
      "text/html": [
       "<?xml version=\"1.0\" encoding=\"utf-8\"?>\n",
       "<svg xmlns=\"http://www.w3.org/2000/svg\" xmlns:xlink=\"http://www.w3.org/1999/xlink\" width=\"300\" height=\"200\" viewBox=\"0 0 300 200\">\n",
       "<defs>\n",
       "  <clipPath id=\"clip00\">\n",
       "    <rect x=\"0\" y=\"0\" width=\"300\" height=\"200\"/>\n",
       "  </clipPath>\n",
       "</defs>\n",
       "<polygon clip-path=\"url(#clip00)\" points=\"\n",
       "0,200 300,200 300,0 0,0 \n",
       "  \" fill=\"#ffffff\" fill-opacity=\"1\"/>\n",
       "<defs>\n",
       "  <clipPath id=\"clip01\">\n",
       "    <rect x=\"60\" y=\"0\" width=\"211\" height=\"200\"/>\n",
       "  </clipPath>\n",
       "</defs>\n",
       "<polygon clip-path=\"url(#clip00)\" points=\"\n",
       "22.3377,175.813 280.315,175.813 280.315,11.811 22.3377,11.811 \n",
       "  \" fill=\"#ffffff\" fill-opacity=\"1\"/>\n",
       "<defs>\n",
       "  <clipPath id=\"clip02\">\n",
       "    <rect x=\"22\" y=\"11\" width=\"259\" height=\"165\"/>\n",
       "  </clipPath>\n",
       "</defs>\n",
       "<polyline clip-path=\"url(#clip02)\" style=\"stroke:#000000; stroke-width:0.5; stroke-opacity:0.1; fill:none\" points=\"\n",
       "  22.3377,173.353 22.3377,14.2711 \n",
       "  \"/>\n",
       "<polyline clip-path=\"url(#clip02)\" style=\"stroke:#000000; stroke-width:0.5; stroke-opacity:0.1; fill:none\" points=\"\n",
       "  86.832,173.353 86.832,14.2711 \n",
       "  \"/>\n",
       "<polyline clip-path=\"url(#clip02)\" style=\"stroke:#000000; stroke-width:0.5; stroke-opacity:0.1; fill:none\" points=\"\n",
       "  151.326,173.353 151.326,14.2711 \n",
       "  \"/>\n",
       "<polyline clip-path=\"url(#clip02)\" style=\"stroke:#000000; stroke-width:0.5; stroke-opacity:0.1; fill:none\" points=\"\n",
       "  215.821,173.353 215.821,14.2711 \n",
       "  \"/>\n",
       "<polyline clip-path=\"url(#clip02)\" style=\"stroke:#000000; stroke-width:0.5; stroke-opacity:0.1; fill:none\" points=\"\n",
       "  280.315,173.353 280.315,14.2711 \n",
       "  \"/>\n",
       "<polyline clip-path=\"url(#clip02)\" style=\"stroke:#000000; stroke-width:0.5; stroke-opacity:0.1; fill:none\" points=\"\n",
       "  26.2073,152.751 276.445,152.751 \n",
       "  \"/>\n",
       "<polyline clip-path=\"url(#clip02)\" style=\"stroke:#000000; stroke-width:0.5; stroke-opacity:0.1; fill:none\" points=\"\n",
       "  26.2073,105.079 276.445,105.079 \n",
       "  \"/>\n",
       "<polyline clip-path=\"url(#clip02)\" style=\"stroke:#000000; stroke-width:0.5; stroke-opacity:0.1; fill:none\" points=\"\n",
       "  26.2073,57.4075 276.445,57.4075 \n",
       "  \"/>\n",
       "<polyline clip-path=\"url(#clip00)\" style=\"stroke:#000000; stroke-width:1; stroke-opacity:1; fill:none\" points=\"\n",
       "  22.3377,175.813 280.315,175.813 \n",
       "  \"/>\n",
       "<polyline clip-path=\"url(#clip00)\" style=\"stroke:#000000; stroke-width:1; stroke-opacity:1; fill:none\" points=\"\n",
       "  22.3377,175.813 22.3377,173.353 \n",
       "  \"/>\n",
       "<polyline clip-path=\"url(#clip00)\" style=\"stroke:#000000; stroke-width:1; stroke-opacity:1; fill:none\" points=\"\n",
       "  86.832,175.813 86.832,173.353 \n",
       "  \"/>\n",
       "<polyline clip-path=\"url(#clip00)\" style=\"stroke:#000000; stroke-width:1; stroke-opacity:1; fill:none\" points=\"\n",
       "  151.326,175.813 151.326,173.353 \n",
       "  \"/>\n",
       "<polyline clip-path=\"url(#clip00)\" style=\"stroke:#000000; stroke-width:1; stroke-opacity:1; fill:none\" points=\"\n",
       "  215.821,175.813 215.821,173.353 \n",
       "  \"/>\n",
       "<polyline clip-path=\"url(#clip00)\" style=\"stroke:#000000; stroke-width:1; stroke-opacity:1; fill:none\" points=\"\n",
       "  280.315,175.813 280.315,173.353 \n",
       "  \"/>\n",
       "<polyline clip-path=\"url(#clip00)\" style=\"stroke:#000000; stroke-width:1; stroke-opacity:1; fill:none\" points=\"\n",
       "  22.3377,175.813 22.3377,11.811 \n",
       "  \"/>\n",
       "<polyline clip-path=\"url(#clip00)\" style=\"stroke:#000000; stroke-width:1; stroke-opacity:1; fill:none\" points=\"\n",
       "  22.3377,152.751 26.2073,152.751 \n",
       "  \"/>\n",
       "<polyline clip-path=\"url(#clip00)\" style=\"stroke:#000000; stroke-width:1; stroke-opacity:1; fill:none\" points=\"\n",
       "  22.3377,105.079 26.2073,105.079 \n",
       "  \"/>\n",
       "<polyline clip-path=\"url(#clip00)\" style=\"stroke:#000000; stroke-width:1; stroke-opacity:1; fill:none\" points=\"\n",
       "  22.3377,57.4075 26.2073,57.4075 \n",
       "  \"/>\n",
       "<g clip-path=\"url(#clip00)\">\n",
       "<text style=\"fill:#000000; fill-opacity:1; font-family:Arial,Helvetica Neue,Helvetica,sans-serif; font-size:12; text-anchor:middle;\" transform=\"rotate(0, 22.3377, 188.113)\" x=\"22.3377\" y=\"188.113\">-10</text>\n",
       "</g>\n",
       "<g clip-path=\"url(#clip00)\">\n",
       "<text style=\"fill:#000000; fill-opacity:1; font-family:Arial,Helvetica Neue,Helvetica,sans-serif; font-size:12; text-anchor:middle;\" transform=\"rotate(0, 86.832, 188.113)\" x=\"86.832\" y=\"188.113\">-5</text>\n",
       "</g>\n",
       "<g clip-path=\"url(#clip00)\">\n",
       "<text style=\"fill:#000000; fill-opacity:1; font-family:Arial,Helvetica Neue,Helvetica,sans-serif; font-size:12; text-anchor:middle;\" transform=\"rotate(0, 151.326, 188.113)\" x=\"151.326\" y=\"188.113\">0</text>\n",
       "</g>\n",
       "<g clip-path=\"url(#clip00)\">\n",
       "<text style=\"fill:#000000; fill-opacity:1; font-family:Arial,Helvetica Neue,Helvetica,sans-serif; font-size:12; text-anchor:middle;\" transform=\"rotate(0, 215.821, 188.113)\" x=\"215.821\" y=\"188.113\">5</text>\n",
       "</g>\n",
       "<g clip-path=\"url(#clip00)\">\n",
       "<text style=\"fill:#000000; fill-opacity:1; font-family:Arial,Helvetica Neue,Helvetica,sans-serif; font-size:12; text-anchor:middle;\" transform=\"rotate(0, 280.315, 188.113)\" x=\"280.315\" y=\"188.113\">10</text>\n",
       "</g>\n",
       "<g clip-path=\"url(#clip00)\">\n",
       "<text style=\"fill:#000000; fill-opacity:1; font-family:Arial,Helvetica Neue,Helvetica,sans-serif; font-size:12; text-anchor:end;\" transform=\"rotate(0, 19.3377, 157.251)\" x=\"19.3377\" y=\"157.251\">0</text>\n",
       "</g>\n",
       "<g clip-path=\"url(#clip00)\">\n",
       "<text style=\"fill:#000000; fill-opacity:1; font-family:Arial,Helvetica Neue,Helvetica,sans-serif; font-size:12; text-anchor:end;\" transform=\"rotate(0, 19.3377, 109.579)\" x=\"19.3377\" y=\"109.579\">2</text>\n",
       "</g>\n",
       "<g clip-path=\"url(#clip00)\">\n",
       "<text style=\"fill:#000000; fill-opacity:1; font-family:Arial,Helvetica Neue,Helvetica,sans-serif; font-size:12; text-anchor:end;\" transform=\"rotate(0, 19.3377, 61.9075)\" x=\"19.3377\" y=\"61.9075\">4</text>\n",
       "</g>\n",
       "<polyline clip-path=\"url(#clip02)\" style=\"stroke:#009af9; stroke-width:1; stroke-opacity:1; fill:none\" points=\"\n",
       "  22.3377,55.3325 23.6275,55.338 24.9174,54.5464 26.2073,53.0829 27.4972,51.0986 28.7871,48.7641 30.077,46.2635 31.3669,43.786 32.6568,41.5194 33.9466,39.642 \n",
       "  35.2365,38.3154 36.5264,37.6786 37.8163,37.8421 39.1062,38.8833 40.3961,40.8441 41.686,43.7283 42.9758,47.5022 44.2657,52.0957 45.5556,57.405 46.8455,63.2968 \n",
       "  48.1354,69.6138 49.4253,76.1804 50.7152,82.8106 52.0051,89.3145 53.2949,95.5066 54.5848,101.213 55.8747,106.277 57.1646,110.568 58.4545,113.985 59.7444,116.461 \n",
       "  61.0343,117.965 62.3241,118.503 63.614,118.121 64.9039,116.899 66.1938,114.949 67.4837,112.413 68.7736,109.453 70.0635,106.25 71.3533,102.991 72.6432,99.8655 \n",
       "  73.9331,97.0566 75.223,94.7337 76.5129,93.0461 77.8028,92.1165 79.0927,92.0367 80.3826,92.8635 81.6724,94.6167 82.9623,97.2782 84.2522,100.793 85.5421,105.07 \n",
       "  86.832,109.989 88.1219,115.4 89.4118,121.137 90.7016,127.015 91.9915,132.845 93.2814,138.44 94.5713,143.62 95.8612,148.219 97.1511,152.097 98.441,155.14 \n",
       "  99.7309,157.264 101.021,158.425 102.311,158.612 103.601,157.856 104.89,156.223 106.18,153.811 107.47,150.751 108.76,147.198 110.05,143.325 111.34,139.317 \n",
       "  112.63,135.364 113.92,131.654 115.209,128.36 116.499,125.643 117.789,123.636 119.079,122.445 120.369,122.142 121.659,122.761 122.949,124.3 124.239,126.72 \n",
       "  125.529,129.944 126.818,133.864 128.108,138.341 129.398,143.215 130.688,148.308 131.978,153.433 133.268,158.399 134.558,163.024 135.848,167.135 137.138,170.58 \n",
       "  138.427,173.233 139.717,174.998 141.007,175.813 142.297,175.656 143.587,174.537 144.877,172.51 146.167,169.659 147.457,166.102 148.747,161.985 150.036,157.474 \n",
       "  151.326,152.751 152.616,148.003 153.906,143.421 155.196,139.185 156.486,135.461 157.776,132.396 159.066,130.106 160.356,128.678 161.645,128.162 162.935,128.573 \n",
       "  164.225,129.885 165.515,132.037 166.805,134.934 168.095,138.449 169.385,142.43 170.675,146.705 171.964,151.091 173.254,155.397 174.544,159.437 175.834,163.032 \n",
       "  177.124,166.022 178.414,168.269 179.704,169.665 180.994,170.131 182.284,169.63 183.573,168.159 184.863,165.752 186.153,162.482 187.443,158.454 188.733,153.802 \n",
       "  190.023,148.685 191.313,143.278 192.603,137.769 193.893,132.346 195.182,127.196 196.472,122.491 197.762,118.387 199.052,115.014 200.342,112.47 201.632,110.822 \n",
       "  202.922,110.1 204.212,110.294 205.502,111.357 206.791,113.21 208.081,115.736 209.371,118.794 210.661,122.22 211.951,125.833 213.241,129.447 214.531,132.871 \n",
       "  215.821,135.923 217.111,138.434 218.4,140.257 219.69,141.268 220.98,141.379 222.27,140.535 223.56,138.716 224.85,135.942 226.14,132.272 227.43,127.795 \n",
       "  228.72,122.636 230.009,116.943 231.299,110.886 232.589,104.647 233.879,98.4167 235.169,92.3825 236.459,86.7238 237.749,81.6038 239.039,77.1635 240.328,73.5158 \n",
       "  241.618,70.7411 242.908,68.8838 244.198,67.9511 245.488,67.9122 246.778,68.6997 248.068,70.2124 249.358,72.3192 250.648,74.8644 251.937,77.6738 253.227,80.5618 \n",
       "  254.517,83.3385 255.807,85.8179 257.097,87.8245 258.387,89.2009 259.677,89.8139 260.967,89.5595 262.257,88.3678 263.546,86.2049 264.836,83.0749 266.126,79.0195 \n",
       "  267.416,74.1161 268.706,68.4753 269.996,62.2358 271.286,55.5596 272.576,48.6249 273.866,41.6193 275.155,34.7322 276.445,28.1476 277.735,22.0361 279.025,16.5489 \n",
       "  280.315,11.811 \n",
       "  \"/>\n",
       "<polygon clip-path=\"url(#clip00)\" points=\"\n",
       "228.799,44.931 271.315,44.931 271.315,14.691 228.799,14.691 \n",
       "  \" fill=\"#ffffff\" fill-opacity=\"1\"/>\n",
       "<polyline clip-path=\"url(#clip00)\" style=\"stroke:#000000; stroke-width:0.5; stroke-opacity:1; fill:none\" points=\"\n",
       "  228.799,44.931 271.315,44.931 271.315,14.691 228.799,14.691 228.799,44.931 \n",
       "  \"/>\n",
       "<polyline clip-path=\"url(#clip00)\" style=\"stroke:#009af9; stroke-width:1; stroke-opacity:1; fill:none\" points=\"\n",
       "  231.799,29.811 249.799,29.811 \n",
       "  \"/>\n",
       "<g clip-path=\"url(#clip00)\">\n",
       "<text style=\"fill:#000000; fill-opacity:1; font-family:Arial,Helvetica Neue,Helvetica,sans-serif; font-size:12; text-anchor:start;\" transform=\"rotate(0, 252.799, 34.311)\" x=\"252.799\" y=\"34.311\">y1</text>\n",
       "</g>\n",
       "</svg>\n"
      ]
     },
     "execution_count": 4,
     "metadata": {},
     "output_type": "execute_result"
    }
   ],
   "source": [
    "x = reshape([-10:0.1:10;],1,:) # shape = [n_input,n_sample]\n",
    "y_true = f1.(x)\n",
    "print(size(x), size(y_true))\n",
    "plot(x[:], y_true[:])"
   ]
  },
  {
   "cell_type": "markdown",
   "metadata": {},
   "source": [
    "# Build NN"
   ]
  },
  {
   "cell_type": "code",
   "execution_count": 5,
   "metadata": {},
   "outputs": [
    {
     "data": {
      "text/plain": [
       "4-element Array{Array{Float64,N} where N,1}:\n",
       " [-0.640009; 0.425072; … ; 0.3167; 0.456613]       \n",
       " [0.0, 0.0, 0.0, 0.0, 0.0, 0.0, 0.0, 0.0, 0.0, 0.0]\n",
       " [0.923676 -0.486418 … 0.782281 -0.254022]         \n",
       " [0.0]                                             "
      ]
     },
     "execution_count": 5,
     "metadata": {},
     "output_type": "execute_result"
    }
   ],
   "source": [
    "function init_weights(;n_in=1, n_hidden=10, n_out=1)\n",
    "    W1 = randn(n_hidden, n_in) # for left multiply W1*x\n",
    "    b1 = zeros(n_hidden)\n",
    "    W2 = randn(n_out, n_hidden)\n",
    "    b2 = zeros(n_out)\n",
    "    params = [W1, b1, W2, b2]\n",
    "    return params\n",
    "end\n",
    "\n",
    "params = init_weights()"
   ]
  },
  {
   "cell_type": "code",
   "execution_count": 6,
   "metadata": {},
   "outputs": [
    {
     "data": {
      "text/plain": [
       "4-element Array{Tuple{Int64,Vararg{Int64,N} where N},1}:\n",
       " (10, 1)\n",
       " (10,)  \n",
       " (1, 10)\n",
       " (1,)   "
      ]
     },
     "execution_count": 6,
     "metadata": {},
     "output_type": "execute_result"
    }
   ],
   "source": [
    "params_flat = collect(Iterators.flatten(params))\n",
    "sizes = map(size, params)"
   ]
  },
  {
   "cell_type": "code",
   "execution_count": 7,
   "metadata": {},
   "outputs": [
    {
     "data": {
      "text/plain": [
       "predict (generic function with 1 method)"
      ]
     },
     "execution_count": 7,
     "metadata": {},
     "output_type": "execute_result"
    }
   ],
   "source": [
    "function predict(params_flat, x; act=tanh)\n",
    "    # unflatten\n",
    "    params = []\n",
    "    i1 = 1\n",
    "    for s in sizes # sizes is defined outside of the function\n",
    "        l = reduce(*, s) # size -> length\n",
    "        i2 = i1+l\n",
    "        p = reshape(params_flat[i1:i2-1], s)\n",
    "        push!(params, p)\n",
    "        i1 = i2\n",
    "    end \n",
    "    \n",
    "    W1, b1, W2, b2 = params\n",
    "    \n",
    "    # normal NN calculation\n",
    "    \n",
    "    a = act.(W1*x .+ b1)\n",
    "    y = W2*a .+ b2\n",
    "    return y\n",
    "end"
   ]
  },
  {
   "cell_type": "code",
   "execution_count": 8,
   "metadata": {},
   "outputs": [
    {
     "data": {
      "text/plain": [
       "1×201 Array{Float64,2}:\n",
       " 4.54692  4.54711  4.54731  4.54752  4.54774  …  -4.54731  -4.54711  -4.54692"
      ]
     },
     "execution_count": 8,
     "metadata": {},
     "output_type": "execute_result"
    }
   ],
   "source": [
    "y_pred = predict(params_flat, x)"
   ]
  },
  {
   "cell_type": "code",
   "execution_count": 9,
   "metadata": {},
   "outputs": [
    {
     "data": {
      "text/html": [
       "<?xml version=\"1.0\" encoding=\"utf-8\"?>\n",
       "<svg xmlns=\"http://www.w3.org/2000/svg\" xmlns:xlink=\"http://www.w3.org/1999/xlink\" width=\"300\" height=\"200\" viewBox=\"0 0 300 200\">\n",
       "<defs>\n",
       "  <clipPath id=\"clip00\">\n",
       "    <rect x=\"0\" y=\"0\" width=\"300\" height=\"200\"/>\n",
       "  </clipPath>\n",
       "</defs>\n",
       "<polygon clip-path=\"url(#clip00)\" points=\"\n",
       "0,200 300,200 300,0 0,0 \n",
       "  \" fill=\"#ffffff\" fill-opacity=\"1\"/>\n",
       "<defs>\n",
       "  <clipPath id=\"clip01\">\n",
       "    <rect x=\"60\" y=\"0\" width=\"211\" height=\"200\"/>\n",
       "  </clipPath>\n",
       "</defs>\n",
       "<polygon clip-path=\"url(#clip00)\" points=\"\n",
       "39.1436,175.813 280.315,175.813 280.315,11.811 39.1436,11.811 \n",
       "  \" fill=\"#ffffff\" fill-opacity=\"1\"/>\n",
       "<defs>\n",
       "  <clipPath id=\"clip02\">\n",
       "    <rect x=\"39\" y=\"11\" width=\"242\" height=\"165\"/>\n",
       "  </clipPath>\n",
       "</defs>\n",
       "<polyline clip-path=\"url(#clip02)\" style=\"stroke:#000000; stroke-width:0.5; stroke-opacity:0.1; fill:none\" points=\"\n",
       "  39.1436,173.353 39.1436,14.2711 \n",
       "  \"/>\n",
       "<polyline clip-path=\"url(#clip02)\" style=\"stroke:#000000; stroke-width:0.5; stroke-opacity:0.1; fill:none\" points=\"\n",
       "  99.4364,173.353 99.4364,14.2711 \n",
       "  \"/>\n",
       "<polyline clip-path=\"url(#clip02)\" style=\"stroke:#000000; stroke-width:0.5; stroke-opacity:0.1; fill:none\" points=\"\n",
       "  159.729,173.353 159.729,14.2711 \n",
       "  \"/>\n",
       "<polyline clip-path=\"url(#clip02)\" style=\"stroke:#000000; stroke-width:0.5; stroke-opacity:0.1; fill:none\" points=\"\n",
       "  220.022,173.353 220.022,14.2711 \n",
       "  \"/>\n",
       "<polyline clip-path=\"url(#clip02)\" style=\"stroke:#000000; stroke-width:0.5; stroke-opacity:0.1; fill:none\" points=\"\n",
       "  280.315,173.353 280.315,14.2711 \n",
       "  \"/>\n",
       "<polyline clip-path=\"url(#clip02)\" style=\"stroke:#000000; stroke-width:0.5; stroke-opacity:0.1; fill:none\" points=\"\n",
       "  42.7612,137.604 276.697,137.604 \n",
       "  \"/>\n",
       "<polyline clip-path=\"url(#clip02)\" style=\"stroke:#000000; stroke-width:0.5; stroke-opacity:0.1; fill:none\" points=\"\n",
       "  42.7612,93.8122 276.697,93.8122 \n",
       "  \"/>\n",
       "<polyline clip-path=\"url(#clip02)\" style=\"stroke:#000000; stroke-width:0.5; stroke-opacity:0.1; fill:none\" points=\"\n",
       "  42.7612,50.0205 276.697,50.0205 \n",
       "  \"/>\n",
       "<polyline clip-path=\"url(#clip00)\" style=\"stroke:#000000; stroke-width:1; stroke-opacity:1; fill:none\" points=\"\n",
       "  39.1436,175.813 280.315,175.813 \n",
       "  \"/>\n",
       "<polyline clip-path=\"url(#clip00)\" style=\"stroke:#000000; stroke-width:1; stroke-opacity:1; fill:none\" points=\"\n",
       "  39.1436,175.813 39.1436,173.353 \n",
       "  \"/>\n",
       "<polyline clip-path=\"url(#clip00)\" style=\"stroke:#000000; stroke-width:1; stroke-opacity:1; fill:none\" points=\"\n",
       "  99.4364,175.813 99.4364,173.353 \n",
       "  \"/>\n",
       "<polyline clip-path=\"url(#clip00)\" style=\"stroke:#000000; stroke-width:1; stroke-opacity:1; fill:none\" points=\"\n",
       "  159.729,175.813 159.729,173.353 \n",
       "  \"/>\n",
       "<polyline clip-path=\"url(#clip00)\" style=\"stroke:#000000; stroke-width:1; stroke-opacity:1; fill:none\" points=\"\n",
       "  220.022,175.813 220.022,173.353 \n",
       "  \"/>\n",
       "<polyline clip-path=\"url(#clip00)\" style=\"stroke:#000000; stroke-width:1; stroke-opacity:1; fill:none\" points=\"\n",
       "  280.315,175.813 280.315,173.353 \n",
       "  \"/>\n",
       "<polyline clip-path=\"url(#clip00)\" style=\"stroke:#000000; stroke-width:1; stroke-opacity:1; fill:none\" points=\"\n",
       "  39.1436,175.813 39.1436,11.811 \n",
       "  \"/>\n",
       "<polyline clip-path=\"url(#clip00)\" style=\"stroke:#000000; stroke-width:1; stroke-opacity:1; fill:none\" points=\"\n",
       "  39.1436,137.604 42.7612,137.604 \n",
       "  \"/>\n",
       "<polyline clip-path=\"url(#clip00)\" style=\"stroke:#000000; stroke-width:1; stroke-opacity:1; fill:none\" points=\"\n",
       "  39.1436,93.8122 42.7612,93.8122 \n",
       "  \"/>\n",
       "<polyline clip-path=\"url(#clip00)\" style=\"stroke:#000000; stroke-width:1; stroke-opacity:1; fill:none\" points=\"\n",
       "  39.1436,50.0205 42.7612,50.0205 \n",
       "  \"/>\n",
       "<g clip-path=\"url(#clip00)\">\n",
       "<text style=\"fill:#000000; fill-opacity:1; font-family:Arial,Helvetica Neue,Helvetica,sans-serif; font-size:12; text-anchor:middle;\" transform=\"rotate(0, 39.1436, 188.113)\" x=\"39.1436\" y=\"188.113\">-10</text>\n",
       "</g>\n",
       "<g clip-path=\"url(#clip00)\">\n",
       "<text style=\"fill:#000000; fill-opacity:1; font-family:Arial,Helvetica Neue,Helvetica,sans-serif; font-size:12; text-anchor:middle;\" transform=\"rotate(0, 99.4364, 188.113)\" x=\"99.4364\" y=\"188.113\">-5</text>\n",
       "</g>\n",
       "<g clip-path=\"url(#clip00)\">\n",
       "<text style=\"fill:#000000; fill-opacity:1; font-family:Arial,Helvetica Neue,Helvetica,sans-serif; font-size:12; text-anchor:middle;\" transform=\"rotate(0, 159.729, 188.113)\" x=\"159.729\" y=\"188.113\">0</text>\n",
       "</g>\n",
       "<g clip-path=\"url(#clip00)\">\n",
       "<text style=\"fill:#000000; fill-opacity:1; font-family:Arial,Helvetica Neue,Helvetica,sans-serif; font-size:12; text-anchor:middle;\" transform=\"rotate(0, 220.022, 188.113)\" x=\"220.022\" y=\"188.113\">5</text>\n",
       "</g>\n",
       "<g clip-path=\"url(#clip00)\">\n",
       "<text style=\"fill:#000000; fill-opacity:1; font-family:Arial,Helvetica Neue,Helvetica,sans-serif; font-size:12; text-anchor:middle;\" transform=\"rotate(0, 280.315, 188.113)\" x=\"280.315\" y=\"188.113\">10</text>\n",
       "</g>\n",
       "<g clip-path=\"url(#clip00)\">\n",
       "<text style=\"fill:#000000; fill-opacity:1; font-family:Arial,Helvetica Neue,Helvetica,sans-serif; font-size:12; text-anchor:end;\" transform=\"rotate(0, 36.1436, 142.104)\" x=\"36.1436\" y=\"142.104\">-2.5</text>\n",
       "</g>\n",
       "<g clip-path=\"url(#clip00)\">\n",
       "<text style=\"fill:#000000; fill-opacity:1; font-family:Arial,Helvetica Neue,Helvetica,sans-serif; font-size:12; text-anchor:end;\" transform=\"rotate(0, 36.1436, 98.3122)\" x=\"36.1436\" y=\"98.3122\">0.0</text>\n",
       "</g>\n",
       "<g clip-path=\"url(#clip00)\">\n",
       "<text style=\"fill:#000000; fill-opacity:1; font-family:Arial,Helvetica Neue,Helvetica,sans-serif; font-size:12; text-anchor:end;\" transform=\"rotate(0, 36.1436, 54.5205)\" x=\"36.1436\" y=\"54.5205\">2.5</text>\n",
       "</g>\n",
       "<polyline clip-path=\"url(#clip02)\" style=\"stroke:#009af9; stroke-width:1; stroke-opacity:1; fill:none\" points=\"\n",
       "  39.1436,14.1651 40.3494,14.1619 41.5553,14.1584 42.7612,14.1547 43.967,14.1507 45.1729,14.1465 46.3787,14.1421 47.5846,14.1373 48.7904,14.1322 49.9963,14.1269 \n",
       "  51.2022,14.1211 52.408,14.115 53.6139,14.1085 54.8197,14.1016 56.0256,14.0943 57.2314,14.0865 58.4373,14.0782 59.6432,14.0694 60.849,14.06 62.0549,14.05 \n",
       "  63.2607,14.0394 64.4666,14.0281 65.6724,14.0161 66.8783,14.0034 68.0842,13.9899 69.29,13.9755 70.4959,13.9603 71.7017,13.9441 72.9076,13.9269 74.1134,13.9087 \n",
       "  75.3193,13.8894 76.5251,13.8689 77.731,13.8472 78.9369,13.8241 80.1427,13.7997 81.3486,13.7739 82.5544,13.7465 83.7603,13.7176 84.9661,13.687 86.172,13.6546 \n",
       "  87.3779,13.6205 88.5837,13.5844 89.7896,13.5463 90.9954,13.5062 92.2013,13.4639 93.4071,13.4194 94.613,13.3726 95.8189,13.3235 97.0247,13.2719 98.2306,13.2179 \n",
       "  99.4364,13.1614 100.642,13.1023 101.848,13.0408 103.054,12.9768 104.26,12.9103 105.466,12.8414 106.672,12.7704 107.877,12.6973 109.083,12.6223 110.289,12.5459 \n",
       "  111.495,12.4684 112.701,12.3903 113.907,12.3122 115.113,12.2349 116.318,12.1594 117.524,12.0867 118.73,12.0182 119.936,11.9557 121.142,11.9011 122.348,11.8567 \n",
       "  123.554,11.8256 124.759,11.811 125.965,11.8171 127.171,11.8488 128.377,11.9118 129.583,12.0131 130.789,12.1608 131.995,12.3645 133.2,12.6359 134.406,12.9885 \n",
       "  135.612,13.4383 136.818,14.0044 138.024,14.7088 139.23,15.5776 140.436,16.6411 141.641,17.9342 142.847,19.4969 144.053,21.3744 145.259,23.6174 146.465,26.2808 \n",
       "  147.671,29.4228 148.877,33.1027 150.082,37.3769 151.288,42.294 152.494,47.8879 153.7,54.1698 154.906,61.1198 156.112,68.6795 157.318,76.748 158.523,85.1838 \n",
       "  159.729,93.8122 160.935,102.441 162.141,110.876 163.347,118.945 164.553,126.505 165.759,133.455 166.964,139.737 168.17,145.331 169.376,150.248 170.582,154.522 \n",
       "  171.788,158.202 172.994,161.344 174.2,164.007 175.405,166.25 176.611,168.128 177.817,169.69 179.023,170.983 180.229,172.047 181.435,172.916 182.641,173.62 \n",
       "  183.846,174.186 185.052,174.636 186.258,174.989 187.464,175.26 188.67,175.464 189.876,175.611 191.082,175.713 192.287,175.776 193.493,175.807 194.699,175.813 \n",
       "  195.905,175.799 197.111,175.768 198.317,175.723 199.523,175.669 200.728,175.606 201.934,175.538 203.14,175.465 204.346,175.39 205.552,175.312 206.758,175.234 \n",
       "  207.964,175.156 209.169,175.079 210.375,175.002 211.581,174.927 212.787,174.854 213.993,174.783 215.199,174.714 216.405,174.648 217.61,174.584 218.816,174.522 \n",
       "  220.022,174.463 221.228,174.407 222.434,174.353 223.64,174.301 224.846,174.252 226.051,174.205 227.257,174.161 228.463,174.118 229.669,174.078 230.875,174.04 \n",
       "  232.081,174.004 233.287,173.97 234.492,173.937 235.698,173.907 236.904,173.878 238.11,173.851 239.316,173.825 240.522,173.8 241.728,173.777 242.933,173.756 \n",
       "  244.139,173.735 245.345,173.716 246.551,173.698 247.757,173.68 248.963,173.664 250.169,173.649 251.374,173.635 252.58,173.621 253.786,173.608 254.992,173.596 \n",
       "  256.198,173.585 257.404,173.574 258.61,173.564 259.815,173.555 261.021,173.546 262.227,173.538 263.433,173.53 264.639,173.523 265.845,173.516 267.051,173.509 \n",
       "  268.256,173.503 269.462,173.498 270.668,173.492 271.874,173.487 273.08,173.482 274.286,173.478 275.492,173.474 276.697,173.47 277.903,173.466 279.109,173.463 \n",
       "  280.315,173.459 \n",
       "  \"/>\n",
       "<polygon clip-path=\"url(#clip00)\" points=\"\n",
       "228.799,44.931 271.315,44.931 271.315,14.691 228.799,14.691 \n",
       "  \" fill=\"#ffffff\" fill-opacity=\"1\"/>\n",
       "<polyline clip-path=\"url(#clip00)\" style=\"stroke:#000000; stroke-width:0.5; stroke-opacity:1; fill:none\" points=\"\n",
       "  228.799,44.931 271.315,44.931 271.315,14.691 228.799,14.691 228.799,44.931 \n",
       "  \"/>\n",
       "<polyline clip-path=\"url(#clip00)\" style=\"stroke:#009af9; stroke-width:1; stroke-opacity:1; fill:none\" points=\"\n",
       "  231.799,29.811 249.799,29.811 \n",
       "  \"/>\n",
       "<g clip-path=\"url(#clip00)\">\n",
       "<text style=\"fill:#000000; fill-opacity:1; font-family:Arial,Helvetica Neue,Helvetica,sans-serif; font-size:12; text-anchor:start;\" transform=\"rotate(0, 252.799, 34.311)\" x=\"252.799\" y=\"34.311\">y1</text>\n",
       "</g>\n",
       "</svg>\n"
      ]
     },
     "execution_count": 9,
     "metadata": {},
     "output_type": "execute_result"
    }
   ],
   "source": [
    "plot(x[:], y_pred[:])"
   ]
  },
  {
   "cell_type": "code",
   "execution_count": 10,
   "metadata": {},
   "outputs": [
    {
     "data": {
      "text/plain": [
       "loss_func (generic function with 1 method)"
      ]
     },
     "execution_count": 10,
     "metadata": {},
     "output_type": "execute_result"
    }
   ],
   "source": [
    "function loss_func(params_flat, x, y_true)\n",
    "    y_pred = predict(params_flat, x)\n",
    "    loss = mean(abs2, y_pred - y_true)\n",
    "    return loss\n",
    "end"
   ]
  },
  {
   "cell_type": "code",
   "execution_count": 11,
   "metadata": {},
   "outputs": [
    {
     "data": {
      "text/plain": [
       "24.879755157570564"
      ]
     },
     "execution_count": 11,
     "metadata": {},
     "output_type": "execute_result"
    }
   ],
   "source": [
    "loss_func(params_flat, x, y_true)"
   ]
  },
  {
   "cell_type": "markdown",
   "metadata": {},
   "source": [
    "# Optim.jl"
   ]
  },
  {
   "cell_type": "markdown",
   "metadata": {},
   "source": [
    "Objective function should only take one variable."
   ]
  },
  {
   "cell_type": "code",
   "execution_count": 12,
   "metadata": {
    "scrolled": true
   },
   "outputs": [
    {
     "data": {
      "text/plain": [
       "loss_wrap (generic function with 1 method)"
      ]
     },
     "execution_count": 12,
     "metadata": {},
     "output_type": "execute_result"
    }
   ],
   "source": [
    "# use global x and y for now\n",
    "loss_wrap(params_flat) = loss_func(params_flat, x, y_true)"
   ]
  },
  {
   "cell_type": "code",
   "execution_count": 13,
   "metadata": {},
   "outputs": [
    {
     "data": {
      "text/plain": [
       "24.879755157570564"
      ]
     },
     "execution_count": 13,
     "metadata": {},
     "output_type": "execute_result"
    }
   ],
   "source": [
    "loss_wrap(params_flat)"
   ]
  },
  {
   "cell_type": "markdown",
   "metadata": {},
   "source": [
    "## Built-in Forward autodiff\n",
    "\n",
    "- http://julianlsolvers.github.io/Optim.jl/stable/algo/autodiff/\n",
    "\n",
    "Seems to speed up the optimizer by 200%"
   ]
  },
  {
   "cell_type": "code",
   "execution_count": 14,
   "metadata": {},
   "outputs": [
    {
     "data": {
      "text/plain": [
       "NLSolversBase.OnceDifferentiable{Float64,Array{Float64,1}}"
      ]
     },
     "execution_count": 14,
     "metadata": {},
     "output_type": "execute_result"
    }
   ],
   "source": [
    "od = OnceDifferentiable(loss_wrap, params_flat; autodiff =:forward);\n",
    "typeof(od)"
   ]
  },
  {
   "cell_type": "markdown",
   "metadata": {},
   "source": [
    "Do several steps of Momentum Gradient Descent to approach minimum, and then use BFGS to converge to minimum."
   ]
  },
  {
   "cell_type": "code",
   "execution_count": 15,
   "metadata": {
    "scrolled": true
   },
   "outputs": [
    {
     "data": {
      "text/plain": [
       "Optim.Options{Void}(1.0e-32, 1.0e-32, 1.0e-8, 0, 0, 0, false, 1000, false, true, false, 100, nothing, NaN)"
      ]
     },
     "execution_count": 15,
     "metadata": {},
     "output_type": "execute_result"
    }
   ],
   "source": [
    "option1 = Optim.Options(iterations = 50, show_trace=true, show_every=10)\n",
    "option2 = Optim.Options(iterations = 1000, show_trace=true, show_every=100)"
   ]
  },
  {
   "cell_type": "code",
   "execution_count": 16,
   "metadata": {
    "collapsed": true
   },
   "outputs": [],
   "source": [
    "params = init_weights(n_hidden = 10) # re-initialize weight\n",
    "params_flat = collect(Iterators.flatten(params));"
   ]
  },
  {
   "cell_type": "code",
   "execution_count": 17,
   "metadata": {},
   "outputs": [
    {
     "name": "stdout",
     "output_type": "stream",
     "text": [
      "Iter     Function value   Gradient norm \n",
      "     0     2.032426e+01     2.405921e+01\n",
      "    10     2.343938e+00     3.999395e-01\n",
      "    20     1.448974e+00     1.297228e+00\n",
      "    30     1.107180e+00     3.921268e-01\n",
      "    40     1.009295e+00     7.779538e-01\n",
      "    50     9.083122e-01     4.809192e-01\n",
      "  1.457071 seconds (781.87 k allocations: 285.053 MiB, 4.63% gc time)\n",
      "Iter     Function value   Gradient norm \n",
      "     0     9.083122e-01     4.809192e-01\n",
      "   100     2.617834e-01     4.013173e-01\n",
      "   200     7.790859e-02     1.125882e+00\n",
      "   300     1.945089e-02     6.483519e-02\n",
      "   400     5.268841e-03     6.294765e-02\n",
      "   500     3.904397e-03     4.336522e-02\n",
      "   600     3.141282e-03     3.175272e-02\n",
      "   700     1.980956e-03     1.642679e-01\n",
      "   800     1.106409e-03     2.438346e-01\n",
      "   900     7.620568e-04     8.962014e-01\n",
      "  1000     5.384803e-04     7.126505e-02\n",
      "  5.395178 seconds (1.86 M allocations: 3.178 GiB, 10.86% gc time)\n"
     ]
    },
    {
     "data": {
      "text/plain": [
       "Results of Optimization Algorithm\n",
       " * Algorithm: BFGS\n",
       " * Starting Point: [-0.5853012685728401,0.7480566170552126, ...]\n",
       " * Minimizer: [-1.040658988007112,0.6470231812939712, ...]\n",
       " * Minimum: 5.384803e-04\n",
       " * Iterations: 1000\n",
       " * Convergence: false\n",
       "   * |x - x'| < 1.0e-32: false \n",
       "     |x - x'| = 1.55e-01 \n",
       "   * |f(x) - f(x')| / |f(x)| < 1.0e-32: false\n",
       "     |f(x) - f(x')| / |f(x)| = NaN \n",
       "   * |g(x)| < 1.0e-08: false \n",
       "     |g(x)| = 7.13e-02 \n",
       "   * stopped by an increasing objective: false\n",
       "   * Reached Maximum Number of Iterations: true\n",
       " * Objective Calls: 2672\n",
       " * Gradient Calls: 2672"
      ]
     },
     "execution_count": 17,
     "metadata": {},
     "output_type": "execute_result"
    }
   ],
   "source": [
    "@time opt = optimize(od, params_flat, MomentumGradientDescent(), option1)\n",
    "@time opt = optimize(od, opt.minimizer, BFGS(), option2)"
   ]
  },
  {
   "cell_type": "code",
   "execution_count": 18,
   "metadata": {
    "scrolled": true
   },
   "outputs": [
    {
     "data": {
      "text/plain": [
       "0.0005384802837396676"
      ]
     },
     "execution_count": 18,
     "metadata": {},
     "output_type": "execute_result"
    }
   ],
   "source": [
    "loss_wrap(opt.minimizer)"
   ]
  },
  {
   "cell_type": "code",
   "execution_count": 19,
   "metadata": {},
   "outputs": [
    {
     "data": {
      "text/html": [
       "<?xml version=\"1.0\" encoding=\"utf-8\"?>\n",
       "<svg xmlns=\"http://www.w3.org/2000/svg\" xmlns:xlink=\"http://www.w3.org/1999/xlink\" width=\"300\" height=\"200\" viewBox=\"0 0 300 200\">\n",
       "<defs>\n",
       "  <clipPath id=\"clip00\">\n",
       "    <rect x=\"0\" y=\"0\" width=\"300\" height=\"200\"/>\n",
       "  </clipPath>\n",
       "</defs>\n",
       "<polygon clip-path=\"url(#clip00)\" points=\"\n",
       "0,200 300,200 300,0 0,0 \n",
       "  \" fill=\"#ffffff\" fill-opacity=\"1\"/>\n",
       "<defs>\n",
       "  <clipPath id=\"clip01\">\n",
       "    <rect x=\"60\" y=\"0\" width=\"211\" height=\"200\"/>\n",
       "  </clipPath>\n",
       "</defs>\n",
       "<polygon clip-path=\"url(#clip00)\" points=\"\n",
       "32.2221,175.813 280.315,175.813 280.315,11.811 32.2221,11.811 \n",
       "  \" fill=\"#ffffff\" fill-opacity=\"1\"/>\n",
       "<defs>\n",
       "  <clipPath id=\"clip02\">\n",
       "    <rect x=\"32\" y=\"11\" width=\"249\" height=\"165\"/>\n",
       "  </clipPath>\n",
       "</defs>\n",
       "<polyline clip-path=\"url(#clip02)\" style=\"stroke:#000000; stroke-width:0.5; stroke-opacity:0.1; fill:none\" points=\"\n",
       "  39.2436,173.353 39.2436,14.2711 \n",
       "  \"/>\n",
       "<polyline clip-path=\"url(#clip02)\" style=\"stroke:#000000; stroke-width:0.5; stroke-opacity:0.1; fill:none\" points=\"\n",
       "  156.269,173.353 156.269,14.2711 \n",
       "  \"/>\n",
       "<polyline clip-path=\"url(#clip02)\" style=\"stroke:#000000; stroke-width:0.5; stroke-opacity:0.1; fill:none\" points=\"\n",
       "  273.293,173.353 273.293,14.2711 \n",
       "  \"/>\n",
       "<polyline clip-path=\"url(#clip02)\" style=\"stroke:#000000; stroke-width:0.5; stroke-opacity:0.1; fill:none\" points=\"\n",
       "  35.9435,149.476 276.594,149.476 \n",
       "  \"/>\n",
       "<polyline clip-path=\"url(#clip02)\" style=\"stroke:#000000; stroke-width:0.5; stroke-opacity:0.1; fill:none\" points=\"\n",
       "  35.9435,93.419 276.594,93.419 \n",
       "  \"/>\n",
       "<polyline clip-path=\"url(#clip02)\" style=\"stroke:#000000; stroke-width:0.5; stroke-opacity:0.1; fill:none\" points=\"\n",
       "  35.9435,37.3619 276.594,37.3619 \n",
       "  \"/>\n",
       "<polyline clip-path=\"url(#clip00)\" style=\"stroke:#000000; stroke-width:1; stroke-opacity:1; fill:none\" points=\"\n",
       "  32.2221,175.813 280.315,175.813 \n",
       "  \"/>\n",
       "<polyline clip-path=\"url(#clip00)\" style=\"stroke:#000000; stroke-width:1; stroke-opacity:1; fill:none\" points=\"\n",
       "  39.2436,175.813 39.2436,173.353 \n",
       "  \"/>\n",
       "<polyline clip-path=\"url(#clip00)\" style=\"stroke:#000000; stroke-width:1; stroke-opacity:1; fill:none\" points=\"\n",
       "  156.269,175.813 156.269,173.353 \n",
       "  \"/>\n",
       "<polyline clip-path=\"url(#clip00)\" style=\"stroke:#000000; stroke-width:1; stroke-opacity:1; fill:none\" points=\"\n",
       "  273.293,175.813 273.293,173.353 \n",
       "  \"/>\n",
       "<polyline clip-path=\"url(#clip00)\" style=\"stroke:#000000; stroke-width:1; stroke-opacity:1; fill:none\" points=\"\n",
       "  32.2221,175.813 32.2221,11.811 \n",
       "  \"/>\n",
       "<polyline clip-path=\"url(#clip00)\" style=\"stroke:#000000; stroke-width:1; stroke-opacity:1; fill:none\" points=\"\n",
       "  32.2221,149.476 35.9435,149.476 \n",
       "  \"/>\n",
       "<polyline clip-path=\"url(#clip00)\" style=\"stroke:#000000; stroke-width:1; stroke-opacity:1; fill:none\" points=\"\n",
       "  32.2221,93.419 35.9435,93.419 \n",
       "  \"/>\n",
       "<polyline clip-path=\"url(#clip00)\" style=\"stroke:#000000; stroke-width:1; stroke-opacity:1; fill:none\" points=\"\n",
       "  32.2221,37.3619 35.9435,37.3619 \n",
       "  \"/>\n",
       "<g clip-path=\"url(#clip00)\">\n",
       "<text style=\"fill:#000000; fill-opacity:1; font-family:Arial,Helvetica Neue,Helvetica,sans-serif; font-size:12; text-anchor:middle;\" transform=\"rotate(0, 39.2436, 188.113)\" x=\"39.2436\" y=\"188.113\">-10</text>\n",
       "</g>\n",
       "<g clip-path=\"url(#clip00)\">\n",
       "<text style=\"fill:#000000; fill-opacity:1; font-family:Arial,Helvetica Neue,Helvetica,sans-serif; font-size:12; text-anchor:middle;\" transform=\"rotate(0, 156.269, 188.113)\" x=\"156.269\" y=\"188.113\">0</text>\n",
       "</g>\n",
       "<g clip-path=\"url(#clip00)\">\n",
       "<text style=\"fill:#000000; fill-opacity:1; font-family:Arial,Helvetica Neue,Helvetica,sans-serif; font-size:12; text-anchor:middle;\" transform=\"rotate(0, 273.293, 188.113)\" x=\"273.293\" y=\"188.113\">10</text>\n",
       "</g>\n",
       "<g clip-path=\"url(#clip00)\">\n",
       "<text style=\"fill:#000000; fill-opacity:1; font-family:Arial,Helvetica Neue,Helvetica,sans-serif; font-size:12; text-anchor:end;\" transform=\"rotate(0, 29.2221, 153.976)\" x=\"29.2221\" y=\"153.976\">0.0</text>\n",
       "</g>\n",
       "<g clip-path=\"url(#clip00)\">\n",
       "<text style=\"fill:#000000; fill-opacity:1; font-family:Arial,Helvetica Neue,Helvetica,sans-serif; font-size:12; text-anchor:end;\" transform=\"rotate(0, 29.2221, 97.919)\" x=\"29.2221\" y=\"97.919\">2.5</text>\n",
       "</g>\n",
       "<g clip-path=\"url(#clip00)\">\n",
       "<text style=\"fill:#000000; fill-opacity:1; font-family:Arial,Helvetica Neue,Helvetica,sans-serif; font-size:12; text-anchor:end;\" transform=\"rotate(0, 29.2221, 41.8619)\" x=\"29.2221\" y=\"41.8619\">5.0</text>\n",
       "</g>\n",
       "<polyline clip-path=\"url(#clip02)\" style=\"stroke:#009af9; stroke-width:2; stroke-opacity:1; fill:none\" points=\"\n",
       "  39.2436,57.8327 40.4139,57.8379 41.5841,57.0932 42.7543,55.7165 43.9246,53.8498 45.0948,51.6537 46.2651,49.3013 47.4353,46.9707 48.6056,44.8385 49.7758,43.0723 \n",
       "  50.9461,41.8243 52.1163,41.2253 53.2866,41.3791 54.4568,42.3586 55.6271,44.2031 56.7973,46.9163 57.9676,50.4666 59.1378,54.7878 60.3081,59.7824 61.4783,65.3249 \n",
       "  62.6486,71.2674 63.8188,77.4448 64.9891,83.682 66.1593,89.8004 67.3296,95.6254 68.4998,100.993 69.6701,105.757 70.8403,109.794 72.0106,113.009 73.1808,115.338 \n",
       "  74.3511,116.752 75.5213,117.259 76.6916,116.899 77.8618,115.749 79.0321,113.915 80.2023,111.529 81.3726,108.745 82.5428,105.732 83.7131,102.666 84.8833,99.7259 \n",
       "  86.0536,97.0835 87.2238,94.8984 88.3941,93.3107 89.5643,92.4363 90.7346,92.3612 91.9048,93.139 93.0751,94.7882 94.2453,97.292 95.4156,100.598 96.5858,104.622 \n",
       "  97.7561,109.249 98.9263,114.34 100.097,119.736 101.267,125.266 102.437,130.751 103.607,136.014 104.778,140.886 105.948,145.213 107.118,148.862 108.288,151.724 \n",
       "  109.459,153.722 110.629,154.814 111.799,154.99 112.969,154.279 114.14,152.742 115.31,150.474 116.48,147.595 117.65,144.253 118.821,140.609 119.991,136.839 \n",
       "  121.161,133.121 122.331,129.63 123.502,126.532 124.672,123.975 125.842,122.088 127.012,120.967 128.183,120.682 129.353,121.264 130.523,122.712 131.693,124.989 \n",
       "  132.864,128.022 134.034,131.709 135.204,135.921 136.374,140.506 137.545,145.297 138.715,150.118 139.885,154.79 141.055,159.14 142.226,163.007 143.396,166.248 \n",
       "  144.566,168.744 145.736,170.404 146.907,171.172 148.077,171.023 149.247,169.971 150.417,168.064 151.588,165.382 152.758,162.036 153.928,158.163 155.098,153.92 \n",
       "  156.269,149.476 157.439,145.01 158.609,140.699 159.779,136.714 160.95,133.212 162.12,130.328 163.29,128.174 164.46,126.83 165.631,126.345 166.801,126.732 \n",
       "  167.971,127.966 169.141,129.991 170.312,132.716 171.482,136.022 172.652,139.767 173.822,143.789 174.993,147.915 176.163,151.966 177.333,155.766 178.503,159.148 \n",
       "  179.674,161.961 180.844,164.075 182.014,165.387 183.184,165.827 184.355,165.355 185.525,163.971 186.695,161.707 187.865,158.631 189.036,154.841 190.206,150.465 \n",
       "  191.376,145.651 192.546,140.565 193.717,135.382 194.887,130.281 196.057,125.436 197.227,121.011 198.398,117.15 199.568,113.976 200.738,111.583 201.908,110.033 \n",
       "  203.079,109.354 204.249,109.536 205.419,110.537 206.589,112.279 207.76,114.655 208.93,117.532 210.1,120.755 211.27,124.155 212.441,127.554 213.611,130.775 \n",
       "  214.781,133.646 215.951,136.008 217.121,137.723 218.292,138.674 219.462,138.779 220.632,137.984 221.802,136.273 222.973,133.664 224.143,130.211 225.313,126 \n",
       "  226.483,121.146 227.654,115.791 228.824,110.093 229.994,104.224 231.164,98.363 232.335,92.6865 233.505,87.3632 234.675,82.5467 235.845,78.3697 237.016,74.9382 \n",
       "  238.186,72.3279 239.356,70.5808 240.526,69.7033 241.697,69.6667 242.867,70.4075 244.037,71.8306 245.207,73.8125 246.378,76.2068 247.548,78.8497 248.718,81.5665 \n",
       "  249.888,84.1786 251.059,86.511 252.229,88.3987 253.399,89.6935 254.569,90.2701 255.74,90.0309 256.91,88.9098 258.08,86.8751 259.25,83.9307 260.421,80.1156 \n",
       "  261.591,75.5029 262.761,70.1964 263.931,64.3269 265.102,58.0464 266.272,51.5227 267.442,44.9324 268.612,38.4536 269.783,32.2592 270.953,26.5101 272.123,21.3481 \n",
       "  273.293,16.8911 \n",
       "  \"/>\n",
       "<polyline clip-path=\"url(#clip02)\" style=\"stroke:#e26f46; stroke-width:0; stroke-opacity:1; fill:none\" points=\"\n",
       "  39.2436,60.7469 40.4139,58.5235 41.5841,56.3111 42.7543,54.1316 43.9246,52.0121 45.0948,49.9854 46.2651,48.0911 47.4353,46.3763 48.6056,44.8963 49.7758,43.7145 \n",
       "  50.9461,42.9027 52.1163,42.5396 53.2866,42.7089 54.4568,43.4952 55.6271,44.9788 56.7973,47.2278 57.9676,50.2891 59.1378,54.1775 60.3081,58.8659 61.4783,64.2769 \n",
       "  62.6486,70.2794 63.8188,76.6908 64.9891,83.2871 66.1593,89.8194 67.3296,96.0356 68.4998,101.702 69.6701,106.623 70.8403,110.655 72.0106,113.711 73.1808,115.763 \n",
       "  74.3511,116.835 75.5213,116.989 76.6916,116.325 77.8618,114.96 79.0321,113.028 80.2023,110.671 81.3726,108.031 82.5428,105.253 83.7131,102.477 84.8833,99.8395 \n",
       "  86.0536,97.4726 87.2238,95.4999 88.3941,94.0361 89.5643,93.1835 90.7346,93.0291 91.9048,93.6406 93.0751,95.0616 94.2453,97.3078 95.4156,100.363 96.5858,104.175 \n",
       "  97.7561,108.656 98.9263,113.685 100.097,119.105 101.267,124.738 102.437,130.386 103.607,135.847 104.778,140.922 105.948,145.431 107.118,149.216 108.288,152.159 \n",
       "  109.459,154.176 110.629,155.23 111.799,155.323 112.969,154.5 114.14,152.84 115.31,150.454 116.48,147.477 117.65,144.063 118.821,140.377 119.991,136.594 \n",
       "  121.161,132.885 122.331,129.418 123.502,126.352 124.672,123.829 125.842,121.97 127.012,120.873 128.183,120.607 129.353,121.208 130.523,122.677 131.693,124.982 \n",
       "  132.864,128.053 134.034,131.786 135.204,136.049 136.374,140.684 137.545,145.517 138.715,150.362 139.885,155.034 141.055,159.354 142.226,163.159 143.396,166.31 \n",
       "  144.566,168.695 145.736,170.237 146.907,170.892 148.077,170.65 149.247,169.538 150.417,167.614 151.588,164.963 152.758,161.696 153.928,157.943 155.098,153.848 \n",
       "  156.269,149.566 157.439,145.257 158.609,141.079 159.779,137.188 160.95,133.728 162.12,130.829 163.29,128.603 164.46,127.138 165.631,126.494 166.801,126.703 \n",
       "  167.971,127.761 169.141,129.631 170.312,132.243 171.482,135.491 172.652,139.239 173.822,143.326 174.993,147.571 176.163,151.782 177.333,155.763 178.503,159.326 \n",
       "  179.674,162.298 180.844,164.53 182.014,165.906 183.184,166.348 184.355,165.817 185.525,164.32 186.695,161.903 187.865,158.652 189.036,154.686 190.206,150.152 \n",
       "  191.376,145.217 192.546,140.059 193.717,134.861 194.887,129.803 196.057,125.053 197.227,120.763 198.398,117.064 199.568,114.06 200.738,111.828 201.908,110.412 \n",
       "  203.079,109.826 204.249,110.053 205.419,111.045 206.589,112.727 207.76,114.999 208.93,117.739 210.1,120.806 211.27,124.047 212.441,127.302 213.611,130.406 \n",
       "  214.781,133.2 215.951,135.531 217.121,137.262 218.292,138.277 219.462,138.482 220.632,137.816 221.802,136.246 222.973,133.778 224.143,130.45 225.313,126.337 \n",
       "  226.483,121.544 227.654,116.209 228.824,110.488 229.994,104.558 231.164,98.6054 232.335,92.8162 233.505,87.3715 234.675,82.4373 235.845,78.1577 237.016,74.6487 \n",
       "  238.186,71.9923 239.356,70.2341 240.526,69.3806 241.697,69.3993 242.867,70.2206 244.037,71.7406 245.207,73.8262 246.378,76.3206 247.548,79.0501 248.718,81.8315 \n",
       "  249.888,84.4801 251.059,86.8168 252.229,88.676 253.399,89.9123 254.569,90.406 255.74,90.0682 256.91,88.844 258.08,86.7139 259.25,83.6941 260.421,79.8351 \n",
       "  261.591,75.2182 262.761,69.9512 263.931,64.1629 265.102,57.9965 266.272,51.6033 267.442,45.1364 268.612,38.7439 269.783,32.5641 270.953,26.7211 272.123,21.3216 \n",
       "  273.293,16.4526 \n",
       "  \"/>\n",
       "<circle clip-path=\"url(#clip02)\" style=\"fill:#e26f46; stroke:none; fill-opacity:1\" cx=\"39.2436\" cy=\"60.7469\" r=\"2\"/>\n",
       "<circle clip-path=\"url(#clip02)\" style=\"fill:#e26f46; stroke:none; fill-opacity:1\" cx=\"40.4139\" cy=\"58.5235\" r=\"2\"/>\n",
       "<circle clip-path=\"url(#clip02)\" style=\"fill:#e26f46; stroke:none; fill-opacity:1\" cx=\"41.5841\" cy=\"56.3111\" r=\"2\"/>\n",
       "<circle clip-path=\"url(#clip02)\" style=\"fill:#e26f46; stroke:none; fill-opacity:1\" cx=\"42.7543\" cy=\"54.1316\" r=\"2\"/>\n",
       "<circle clip-path=\"url(#clip02)\" style=\"fill:#e26f46; stroke:none; fill-opacity:1\" cx=\"43.9246\" cy=\"52.0121\" r=\"2\"/>\n",
       "<circle clip-path=\"url(#clip02)\" style=\"fill:#e26f46; stroke:none; fill-opacity:1\" cx=\"45.0948\" cy=\"49.9854\" r=\"2\"/>\n",
       "<circle clip-path=\"url(#clip02)\" style=\"fill:#e26f46; stroke:none; fill-opacity:1\" cx=\"46.2651\" cy=\"48.0911\" r=\"2\"/>\n",
       "<circle clip-path=\"url(#clip02)\" style=\"fill:#e26f46; stroke:none; fill-opacity:1\" cx=\"47.4353\" cy=\"46.3763\" r=\"2\"/>\n",
       "<circle clip-path=\"url(#clip02)\" style=\"fill:#e26f46; stroke:none; fill-opacity:1\" cx=\"48.6056\" cy=\"44.8963\" r=\"2\"/>\n",
       "<circle clip-path=\"url(#clip02)\" style=\"fill:#e26f46; stroke:none; fill-opacity:1\" cx=\"49.7758\" cy=\"43.7145\" r=\"2\"/>\n",
       "<circle clip-path=\"url(#clip02)\" style=\"fill:#e26f46; stroke:none; fill-opacity:1\" cx=\"50.9461\" cy=\"42.9027\" r=\"2\"/>\n",
       "<circle clip-path=\"url(#clip02)\" style=\"fill:#e26f46; stroke:none; fill-opacity:1\" cx=\"52.1163\" cy=\"42.5396\" r=\"2\"/>\n",
       "<circle clip-path=\"url(#clip02)\" style=\"fill:#e26f46; stroke:none; fill-opacity:1\" cx=\"53.2866\" cy=\"42.7089\" r=\"2\"/>\n",
       "<circle clip-path=\"url(#clip02)\" style=\"fill:#e26f46; stroke:none; fill-opacity:1\" cx=\"54.4568\" cy=\"43.4952\" r=\"2\"/>\n",
       "<circle clip-path=\"url(#clip02)\" style=\"fill:#e26f46; stroke:none; fill-opacity:1\" cx=\"55.6271\" cy=\"44.9788\" r=\"2\"/>\n",
       "<circle clip-path=\"url(#clip02)\" style=\"fill:#e26f46; stroke:none; fill-opacity:1\" cx=\"56.7973\" cy=\"47.2278\" r=\"2\"/>\n",
       "<circle clip-path=\"url(#clip02)\" style=\"fill:#e26f46; stroke:none; fill-opacity:1\" cx=\"57.9676\" cy=\"50.2891\" r=\"2\"/>\n",
       "<circle clip-path=\"url(#clip02)\" style=\"fill:#e26f46; stroke:none; fill-opacity:1\" cx=\"59.1378\" cy=\"54.1775\" r=\"2\"/>\n",
       "<circle clip-path=\"url(#clip02)\" style=\"fill:#e26f46; stroke:none; fill-opacity:1\" cx=\"60.3081\" cy=\"58.8659\" r=\"2\"/>\n",
       "<circle clip-path=\"url(#clip02)\" style=\"fill:#e26f46; stroke:none; fill-opacity:1\" cx=\"61.4783\" cy=\"64.2769\" r=\"2\"/>\n",
       "<circle clip-path=\"url(#clip02)\" style=\"fill:#e26f46; stroke:none; fill-opacity:1\" cx=\"62.6486\" cy=\"70.2794\" r=\"2\"/>\n",
       "<circle clip-path=\"url(#clip02)\" style=\"fill:#e26f46; stroke:none; fill-opacity:1\" cx=\"63.8188\" cy=\"76.6908\" r=\"2\"/>\n",
       "<circle clip-path=\"url(#clip02)\" style=\"fill:#e26f46; stroke:none; fill-opacity:1\" cx=\"64.9891\" cy=\"83.2871\" r=\"2\"/>\n",
       "<circle clip-path=\"url(#clip02)\" style=\"fill:#e26f46; stroke:none; fill-opacity:1\" cx=\"66.1593\" cy=\"89.8194\" r=\"2\"/>\n",
       "<circle clip-path=\"url(#clip02)\" style=\"fill:#e26f46; stroke:none; fill-opacity:1\" cx=\"67.3296\" cy=\"96.0356\" r=\"2\"/>\n",
       "<circle clip-path=\"url(#clip02)\" style=\"fill:#e26f46; stroke:none; fill-opacity:1\" cx=\"68.4998\" cy=\"101.702\" r=\"2\"/>\n",
       "<circle clip-path=\"url(#clip02)\" style=\"fill:#e26f46; stroke:none; fill-opacity:1\" cx=\"69.6701\" cy=\"106.623\" r=\"2\"/>\n",
       "<circle clip-path=\"url(#clip02)\" style=\"fill:#e26f46; stroke:none; fill-opacity:1\" cx=\"70.8403\" cy=\"110.655\" r=\"2\"/>\n",
       "<circle clip-path=\"url(#clip02)\" style=\"fill:#e26f46; stroke:none; fill-opacity:1\" cx=\"72.0106\" cy=\"113.711\" r=\"2\"/>\n",
       "<circle clip-path=\"url(#clip02)\" style=\"fill:#e26f46; stroke:none; fill-opacity:1\" cx=\"73.1808\" cy=\"115.763\" r=\"2\"/>\n",
       "<circle clip-path=\"url(#clip02)\" style=\"fill:#e26f46; stroke:none; fill-opacity:1\" cx=\"74.3511\" cy=\"116.835\" r=\"2\"/>\n",
       "<circle clip-path=\"url(#clip02)\" style=\"fill:#e26f46; stroke:none; fill-opacity:1\" cx=\"75.5213\" cy=\"116.989\" r=\"2\"/>\n",
       "<circle clip-path=\"url(#clip02)\" style=\"fill:#e26f46; stroke:none; fill-opacity:1\" cx=\"76.6916\" cy=\"116.325\" r=\"2\"/>\n",
       "<circle clip-path=\"url(#clip02)\" style=\"fill:#e26f46; stroke:none; fill-opacity:1\" cx=\"77.8618\" cy=\"114.96\" r=\"2\"/>\n",
       "<circle clip-path=\"url(#clip02)\" style=\"fill:#e26f46; stroke:none; fill-opacity:1\" cx=\"79.0321\" cy=\"113.028\" r=\"2\"/>\n",
       "<circle clip-path=\"url(#clip02)\" style=\"fill:#e26f46; stroke:none; fill-opacity:1\" cx=\"80.2023\" cy=\"110.671\" r=\"2\"/>\n",
       "<circle clip-path=\"url(#clip02)\" style=\"fill:#e26f46; stroke:none; fill-opacity:1\" cx=\"81.3726\" cy=\"108.031\" r=\"2\"/>\n",
       "<circle clip-path=\"url(#clip02)\" style=\"fill:#e26f46; stroke:none; fill-opacity:1\" cx=\"82.5428\" cy=\"105.253\" r=\"2\"/>\n",
       "<circle clip-path=\"url(#clip02)\" style=\"fill:#e26f46; stroke:none; fill-opacity:1\" cx=\"83.7131\" cy=\"102.477\" r=\"2\"/>\n",
       "<circle clip-path=\"url(#clip02)\" style=\"fill:#e26f46; stroke:none; fill-opacity:1\" cx=\"84.8833\" cy=\"99.8395\" r=\"2\"/>\n",
       "<circle clip-path=\"url(#clip02)\" style=\"fill:#e26f46; stroke:none; fill-opacity:1\" cx=\"86.0536\" cy=\"97.4726\" r=\"2\"/>\n",
       "<circle clip-path=\"url(#clip02)\" style=\"fill:#e26f46; stroke:none; fill-opacity:1\" cx=\"87.2238\" cy=\"95.4999\" r=\"2\"/>\n",
       "<circle clip-path=\"url(#clip02)\" style=\"fill:#e26f46; stroke:none; fill-opacity:1\" cx=\"88.3941\" cy=\"94.0361\" r=\"2\"/>\n",
       "<circle clip-path=\"url(#clip02)\" style=\"fill:#e26f46; stroke:none; fill-opacity:1\" cx=\"89.5643\" cy=\"93.1835\" r=\"2\"/>\n",
       "<circle clip-path=\"url(#clip02)\" style=\"fill:#e26f46; stroke:none; fill-opacity:1\" cx=\"90.7346\" cy=\"93.0291\" r=\"2\"/>\n",
       "<circle clip-path=\"url(#clip02)\" style=\"fill:#e26f46; stroke:none; fill-opacity:1\" cx=\"91.9048\" cy=\"93.6406\" r=\"2\"/>\n",
       "<circle clip-path=\"url(#clip02)\" style=\"fill:#e26f46; stroke:none; fill-opacity:1\" cx=\"93.0751\" cy=\"95.0616\" r=\"2\"/>\n",
       "<circle clip-path=\"url(#clip02)\" style=\"fill:#e26f46; stroke:none; fill-opacity:1\" cx=\"94.2453\" cy=\"97.3078\" r=\"2\"/>\n",
       "<circle clip-path=\"url(#clip02)\" style=\"fill:#e26f46; stroke:none; fill-opacity:1\" cx=\"95.4156\" cy=\"100.363\" r=\"2\"/>\n",
       "<circle clip-path=\"url(#clip02)\" style=\"fill:#e26f46; stroke:none; fill-opacity:1\" cx=\"96.5858\" cy=\"104.175\" r=\"2\"/>\n",
       "<circle clip-path=\"url(#clip02)\" style=\"fill:#e26f46; stroke:none; fill-opacity:1\" cx=\"97.7561\" cy=\"108.656\" r=\"2\"/>\n",
       "<circle clip-path=\"url(#clip02)\" style=\"fill:#e26f46; stroke:none; fill-opacity:1\" cx=\"98.9263\" cy=\"113.685\" r=\"2\"/>\n",
       "<circle clip-path=\"url(#clip02)\" style=\"fill:#e26f46; stroke:none; fill-opacity:1\" cx=\"100.097\" cy=\"119.105\" r=\"2\"/>\n",
       "<circle clip-path=\"url(#clip02)\" style=\"fill:#e26f46; stroke:none; fill-opacity:1\" cx=\"101.267\" cy=\"124.738\" r=\"2\"/>\n",
       "<circle clip-path=\"url(#clip02)\" style=\"fill:#e26f46; stroke:none; fill-opacity:1\" cx=\"102.437\" cy=\"130.386\" r=\"2\"/>\n",
       "<circle clip-path=\"url(#clip02)\" style=\"fill:#e26f46; stroke:none; fill-opacity:1\" cx=\"103.607\" cy=\"135.847\" r=\"2\"/>\n",
       "<circle clip-path=\"url(#clip02)\" style=\"fill:#e26f46; stroke:none; fill-opacity:1\" cx=\"104.778\" cy=\"140.922\" r=\"2\"/>\n",
       "<circle clip-path=\"url(#clip02)\" style=\"fill:#e26f46; stroke:none; fill-opacity:1\" cx=\"105.948\" cy=\"145.431\" r=\"2\"/>\n",
       "<circle clip-path=\"url(#clip02)\" style=\"fill:#e26f46; stroke:none; fill-opacity:1\" cx=\"107.118\" cy=\"149.216\" r=\"2\"/>\n",
       "<circle clip-path=\"url(#clip02)\" style=\"fill:#e26f46; stroke:none; fill-opacity:1\" cx=\"108.288\" cy=\"152.159\" r=\"2\"/>\n",
       "<circle clip-path=\"url(#clip02)\" style=\"fill:#e26f46; stroke:none; fill-opacity:1\" cx=\"109.459\" cy=\"154.176\" r=\"2\"/>\n",
       "<circle clip-path=\"url(#clip02)\" style=\"fill:#e26f46; stroke:none; fill-opacity:1\" cx=\"110.629\" cy=\"155.23\" r=\"2\"/>\n",
       "<circle clip-path=\"url(#clip02)\" style=\"fill:#e26f46; stroke:none; fill-opacity:1\" cx=\"111.799\" cy=\"155.323\" r=\"2\"/>\n",
       "<circle clip-path=\"url(#clip02)\" style=\"fill:#e26f46; stroke:none; fill-opacity:1\" cx=\"112.969\" cy=\"154.5\" r=\"2\"/>\n",
       "<circle clip-path=\"url(#clip02)\" style=\"fill:#e26f46; stroke:none; fill-opacity:1\" cx=\"114.14\" cy=\"152.84\" r=\"2\"/>\n",
       "<circle clip-path=\"url(#clip02)\" style=\"fill:#e26f46; stroke:none; fill-opacity:1\" cx=\"115.31\" cy=\"150.454\" r=\"2\"/>\n",
       "<circle clip-path=\"url(#clip02)\" style=\"fill:#e26f46; stroke:none; fill-opacity:1\" cx=\"116.48\" cy=\"147.477\" r=\"2\"/>\n",
       "<circle clip-path=\"url(#clip02)\" style=\"fill:#e26f46; stroke:none; fill-opacity:1\" cx=\"117.65\" cy=\"144.063\" r=\"2\"/>\n",
       "<circle clip-path=\"url(#clip02)\" style=\"fill:#e26f46; stroke:none; fill-opacity:1\" cx=\"118.821\" cy=\"140.377\" r=\"2\"/>\n",
       "<circle clip-path=\"url(#clip02)\" style=\"fill:#e26f46; stroke:none; fill-opacity:1\" cx=\"119.991\" cy=\"136.594\" r=\"2\"/>\n",
       "<circle clip-path=\"url(#clip02)\" style=\"fill:#e26f46; stroke:none; fill-opacity:1\" cx=\"121.161\" cy=\"132.885\" r=\"2\"/>\n",
       "<circle clip-path=\"url(#clip02)\" style=\"fill:#e26f46; stroke:none; fill-opacity:1\" cx=\"122.331\" cy=\"129.418\" r=\"2\"/>\n",
       "<circle clip-path=\"url(#clip02)\" style=\"fill:#e26f46; stroke:none; fill-opacity:1\" cx=\"123.502\" cy=\"126.352\" r=\"2\"/>\n",
       "<circle clip-path=\"url(#clip02)\" style=\"fill:#e26f46; stroke:none; fill-opacity:1\" cx=\"124.672\" cy=\"123.829\" r=\"2\"/>\n",
       "<circle clip-path=\"url(#clip02)\" style=\"fill:#e26f46; stroke:none; fill-opacity:1\" cx=\"125.842\" cy=\"121.97\" r=\"2\"/>\n",
       "<circle clip-path=\"url(#clip02)\" style=\"fill:#e26f46; stroke:none; fill-opacity:1\" cx=\"127.012\" cy=\"120.873\" r=\"2\"/>\n",
       "<circle clip-path=\"url(#clip02)\" style=\"fill:#e26f46; stroke:none; fill-opacity:1\" cx=\"128.183\" cy=\"120.607\" r=\"2\"/>\n",
       "<circle clip-path=\"url(#clip02)\" style=\"fill:#e26f46; stroke:none; fill-opacity:1\" cx=\"129.353\" cy=\"121.208\" r=\"2\"/>\n",
       "<circle clip-path=\"url(#clip02)\" style=\"fill:#e26f46; stroke:none; fill-opacity:1\" cx=\"130.523\" cy=\"122.677\" r=\"2\"/>\n",
       "<circle clip-path=\"url(#clip02)\" style=\"fill:#e26f46; stroke:none; fill-opacity:1\" cx=\"131.693\" cy=\"124.982\" r=\"2\"/>\n",
       "<circle clip-path=\"url(#clip02)\" style=\"fill:#e26f46; stroke:none; fill-opacity:1\" cx=\"132.864\" cy=\"128.053\" r=\"2\"/>\n",
       "<circle clip-path=\"url(#clip02)\" style=\"fill:#e26f46; stroke:none; fill-opacity:1\" cx=\"134.034\" cy=\"131.786\" r=\"2\"/>\n",
       "<circle clip-path=\"url(#clip02)\" style=\"fill:#e26f46; stroke:none; fill-opacity:1\" cx=\"135.204\" cy=\"136.049\" r=\"2\"/>\n",
       "<circle clip-path=\"url(#clip02)\" style=\"fill:#e26f46; stroke:none; fill-opacity:1\" cx=\"136.374\" cy=\"140.684\" r=\"2\"/>\n",
       "<circle clip-path=\"url(#clip02)\" style=\"fill:#e26f46; stroke:none; fill-opacity:1\" cx=\"137.545\" cy=\"145.517\" r=\"2\"/>\n",
       "<circle clip-path=\"url(#clip02)\" style=\"fill:#e26f46; stroke:none; fill-opacity:1\" cx=\"138.715\" cy=\"150.362\" r=\"2\"/>\n",
       "<circle clip-path=\"url(#clip02)\" style=\"fill:#e26f46; stroke:none; fill-opacity:1\" cx=\"139.885\" cy=\"155.034\" r=\"2\"/>\n",
       "<circle clip-path=\"url(#clip02)\" style=\"fill:#e26f46; stroke:none; fill-opacity:1\" cx=\"141.055\" cy=\"159.354\" r=\"2\"/>\n",
       "<circle clip-path=\"url(#clip02)\" style=\"fill:#e26f46; stroke:none; fill-opacity:1\" cx=\"142.226\" cy=\"163.159\" r=\"2\"/>\n",
       "<circle clip-path=\"url(#clip02)\" style=\"fill:#e26f46; stroke:none; fill-opacity:1\" cx=\"143.396\" cy=\"166.31\" r=\"2\"/>\n",
       "<circle clip-path=\"url(#clip02)\" style=\"fill:#e26f46; stroke:none; fill-opacity:1\" cx=\"144.566\" cy=\"168.695\" r=\"2\"/>\n",
       "<circle clip-path=\"url(#clip02)\" style=\"fill:#e26f46; stroke:none; fill-opacity:1\" cx=\"145.736\" cy=\"170.237\" r=\"2\"/>\n",
       "<circle clip-path=\"url(#clip02)\" style=\"fill:#e26f46; stroke:none; fill-opacity:1\" cx=\"146.907\" cy=\"170.892\" r=\"2\"/>\n",
       "<circle clip-path=\"url(#clip02)\" style=\"fill:#e26f46; stroke:none; fill-opacity:1\" cx=\"148.077\" cy=\"170.65\" r=\"2\"/>\n",
       "<circle clip-path=\"url(#clip02)\" style=\"fill:#e26f46; stroke:none; fill-opacity:1\" cx=\"149.247\" cy=\"169.538\" r=\"2\"/>\n",
       "<circle clip-path=\"url(#clip02)\" style=\"fill:#e26f46; stroke:none; fill-opacity:1\" cx=\"150.417\" cy=\"167.614\" r=\"2\"/>\n",
       "<circle clip-path=\"url(#clip02)\" style=\"fill:#e26f46; stroke:none; fill-opacity:1\" cx=\"151.588\" cy=\"164.963\" r=\"2\"/>\n",
       "<circle clip-path=\"url(#clip02)\" style=\"fill:#e26f46; stroke:none; fill-opacity:1\" cx=\"152.758\" cy=\"161.696\" r=\"2\"/>\n",
       "<circle clip-path=\"url(#clip02)\" style=\"fill:#e26f46; stroke:none; fill-opacity:1\" cx=\"153.928\" cy=\"157.943\" r=\"2\"/>\n",
       "<circle clip-path=\"url(#clip02)\" style=\"fill:#e26f46; stroke:none; fill-opacity:1\" cx=\"155.098\" cy=\"153.848\" r=\"2\"/>\n",
       "<circle clip-path=\"url(#clip02)\" style=\"fill:#e26f46; stroke:none; fill-opacity:1\" cx=\"156.269\" cy=\"149.566\" r=\"2\"/>\n",
       "<circle clip-path=\"url(#clip02)\" style=\"fill:#e26f46; stroke:none; fill-opacity:1\" cx=\"157.439\" cy=\"145.257\" r=\"2\"/>\n",
       "<circle clip-path=\"url(#clip02)\" style=\"fill:#e26f46; stroke:none; fill-opacity:1\" cx=\"158.609\" cy=\"141.079\" r=\"2\"/>\n",
       "<circle clip-path=\"url(#clip02)\" style=\"fill:#e26f46; stroke:none; fill-opacity:1\" cx=\"159.779\" cy=\"137.188\" r=\"2\"/>\n",
       "<circle clip-path=\"url(#clip02)\" style=\"fill:#e26f46; stroke:none; fill-opacity:1\" cx=\"160.95\" cy=\"133.728\" r=\"2\"/>\n",
       "<circle clip-path=\"url(#clip02)\" style=\"fill:#e26f46; stroke:none; fill-opacity:1\" cx=\"162.12\" cy=\"130.829\" r=\"2\"/>\n",
       "<circle clip-path=\"url(#clip02)\" style=\"fill:#e26f46; stroke:none; fill-opacity:1\" cx=\"163.29\" cy=\"128.603\" r=\"2\"/>\n",
       "<circle clip-path=\"url(#clip02)\" style=\"fill:#e26f46; stroke:none; fill-opacity:1\" cx=\"164.46\" cy=\"127.138\" r=\"2\"/>\n",
       "<circle clip-path=\"url(#clip02)\" style=\"fill:#e26f46; stroke:none; fill-opacity:1\" cx=\"165.631\" cy=\"126.494\" r=\"2\"/>\n",
       "<circle clip-path=\"url(#clip02)\" style=\"fill:#e26f46; stroke:none; fill-opacity:1\" cx=\"166.801\" cy=\"126.703\" r=\"2\"/>\n",
       "<circle clip-path=\"url(#clip02)\" style=\"fill:#e26f46; stroke:none; fill-opacity:1\" cx=\"167.971\" cy=\"127.761\" r=\"2\"/>\n",
       "<circle clip-path=\"url(#clip02)\" style=\"fill:#e26f46; stroke:none; fill-opacity:1\" cx=\"169.141\" cy=\"129.631\" r=\"2\"/>\n",
       "<circle clip-path=\"url(#clip02)\" style=\"fill:#e26f46; stroke:none; fill-opacity:1\" cx=\"170.312\" cy=\"132.243\" r=\"2\"/>\n",
       "<circle clip-path=\"url(#clip02)\" style=\"fill:#e26f46; stroke:none; fill-opacity:1\" cx=\"171.482\" cy=\"135.491\" r=\"2\"/>\n",
       "<circle clip-path=\"url(#clip02)\" style=\"fill:#e26f46; stroke:none; fill-opacity:1\" cx=\"172.652\" cy=\"139.239\" r=\"2\"/>\n",
       "<circle clip-path=\"url(#clip02)\" style=\"fill:#e26f46; stroke:none; fill-opacity:1\" cx=\"173.822\" cy=\"143.326\" r=\"2\"/>\n",
       "<circle clip-path=\"url(#clip02)\" style=\"fill:#e26f46; stroke:none; fill-opacity:1\" cx=\"174.993\" cy=\"147.571\" r=\"2\"/>\n",
       "<circle clip-path=\"url(#clip02)\" style=\"fill:#e26f46; stroke:none; fill-opacity:1\" cx=\"176.163\" cy=\"151.782\" r=\"2\"/>\n",
       "<circle clip-path=\"url(#clip02)\" style=\"fill:#e26f46; stroke:none; fill-opacity:1\" cx=\"177.333\" cy=\"155.763\" r=\"2\"/>\n",
       "<circle clip-path=\"url(#clip02)\" style=\"fill:#e26f46; stroke:none; fill-opacity:1\" cx=\"178.503\" cy=\"159.326\" r=\"2\"/>\n",
       "<circle clip-path=\"url(#clip02)\" style=\"fill:#e26f46; stroke:none; fill-opacity:1\" cx=\"179.674\" cy=\"162.298\" r=\"2\"/>\n",
       "<circle clip-path=\"url(#clip02)\" style=\"fill:#e26f46; stroke:none; fill-opacity:1\" cx=\"180.844\" cy=\"164.53\" r=\"2\"/>\n",
       "<circle clip-path=\"url(#clip02)\" style=\"fill:#e26f46; stroke:none; fill-opacity:1\" cx=\"182.014\" cy=\"165.906\" r=\"2\"/>\n",
       "<circle clip-path=\"url(#clip02)\" style=\"fill:#e26f46; stroke:none; fill-opacity:1\" cx=\"183.184\" cy=\"166.348\" r=\"2\"/>\n",
       "<circle clip-path=\"url(#clip02)\" style=\"fill:#e26f46; stroke:none; fill-opacity:1\" cx=\"184.355\" cy=\"165.817\" r=\"2\"/>\n",
       "<circle clip-path=\"url(#clip02)\" style=\"fill:#e26f46; stroke:none; fill-opacity:1\" cx=\"185.525\" cy=\"164.32\" r=\"2\"/>\n",
       "<circle clip-path=\"url(#clip02)\" style=\"fill:#e26f46; stroke:none; fill-opacity:1\" cx=\"186.695\" cy=\"161.903\" r=\"2\"/>\n",
       "<circle clip-path=\"url(#clip02)\" style=\"fill:#e26f46; stroke:none; fill-opacity:1\" cx=\"187.865\" cy=\"158.652\" r=\"2\"/>\n",
       "<circle clip-path=\"url(#clip02)\" style=\"fill:#e26f46; stroke:none; fill-opacity:1\" cx=\"189.036\" cy=\"154.686\" r=\"2\"/>\n",
       "<circle clip-path=\"url(#clip02)\" style=\"fill:#e26f46; stroke:none; fill-opacity:1\" cx=\"190.206\" cy=\"150.152\" r=\"2\"/>\n",
       "<circle clip-path=\"url(#clip02)\" style=\"fill:#e26f46; stroke:none; fill-opacity:1\" cx=\"191.376\" cy=\"145.217\" r=\"2\"/>\n",
       "<circle clip-path=\"url(#clip02)\" style=\"fill:#e26f46; stroke:none; fill-opacity:1\" cx=\"192.546\" cy=\"140.059\" r=\"2\"/>\n",
       "<circle clip-path=\"url(#clip02)\" style=\"fill:#e26f46; stroke:none; fill-opacity:1\" cx=\"193.717\" cy=\"134.861\" r=\"2\"/>\n",
       "<circle clip-path=\"url(#clip02)\" style=\"fill:#e26f46; stroke:none; fill-opacity:1\" cx=\"194.887\" cy=\"129.803\" r=\"2\"/>\n",
       "<circle clip-path=\"url(#clip02)\" style=\"fill:#e26f46; stroke:none; fill-opacity:1\" cx=\"196.057\" cy=\"125.053\" r=\"2\"/>\n",
       "<circle clip-path=\"url(#clip02)\" style=\"fill:#e26f46; stroke:none; fill-opacity:1\" cx=\"197.227\" cy=\"120.763\" r=\"2\"/>\n",
       "<circle clip-path=\"url(#clip02)\" style=\"fill:#e26f46; stroke:none; fill-opacity:1\" cx=\"198.398\" cy=\"117.064\" r=\"2\"/>\n",
       "<circle clip-path=\"url(#clip02)\" style=\"fill:#e26f46; stroke:none; fill-opacity:1\" cx=\"199.568\" cy=\"114.06\" r=\"2\"/>\n",
       "<circle clip-path=\"url(#clip02)\" style=\"fill:#e26f46; stroke:none; fill-opacity:1\" cx=\"200.738\" cy=\"111.828\" r=\"2\"/>\n",
       "<circle clip-path=\"url(#clip02)\" style=\"fill:#e26f46; stroke:none; fill-opacity:1\" cx=\"201.908\" cy=\"110.412\" r=\"2\"/>\n",
       "<circle clip-path=\"url(#clip02)\" style=\"fill:#e26f46; stroke:none; fill-opacity:1\" cx=\"203.079\" cy=\"109.826\" r=\"2\"/>\n",
       "<circle clip-path=\"url(#clip02)\" style=\"fill:#e26f46; stroke:none; fill-opacity:1\" cx=\"204.249\" cy=\"110.053\" r=\"2\"/>\n",
       "<circle clip-path=\"url(#clip02)\" style=\"fill:#e26f46; stroke:none; fill-opacity:1\" cx=\"205.419\" cy=\"111.045\" r=\"2\"/>\n",
       "<circle clip-path=\"url(#clip02)\" style=\"fill:#e26f46; stroke:none; fill-opacity:1\" cx=\"206.589\" cy=\"112.727\" r=\"2\"/>\n",
       "<circle clip-path=\"url(#clip02)\" style=\"fill:#e26f46; stroke:none; fill-opacity:1\" cx=\"207.76\" cy=\"114.999\" r=\"2\"/>\n",
       "<circle clip-path=\"url(#clip02)\" style=\"fill:#e26f46; stroke:none; fill-opacity:1\" cx=\"208.93\" cy=\"117.739\" r=\"2\"/>\n",
       "<circle clip-path=\"url(#clip02)\" style=\"fill:#e26f46; stroke:none; fill-opacity:1\" cx=\"210.1\" cy=\"120.806\" r=\"2\"/>\n",
       "<circle clip-path=\"url(#clip02)\" style=\"fill:#e26f46; stroke:none; fill-opacity:1\" cx=\"211.27\" cy=\"124.047\" r=\"2\"/>\n",
       "<circle clip-path=\"url(#clip02)\" style=\"fill:#e26f46; stroke:none; fill-opacity:1\" cx=\"212.441\" cy=\"127.302\" r=\"2\"/>\n",
       "<circle clip-path=\"url(#clip02)\" style=\"fill:#e26f46; stroke:none; fill-opacity:1\" cx=\"213.611\" cy=\"130.406\" r=\"2\"/>\n",
       "<circle clip-path=\"url(#clip02)\" style=\"fill:#e26f46; stroke:none; fill-opacity:1\" cx=\"214.781\" cy=\"133.2\" r=\"2\"/>\n",
       "<circle clip-path=\"url(#clip02)\" style=\"fill:#e26f46; stroke:none; fill-opacity:1\" cx=\"215.951\" cy=\"135.531\" r=\"2\"/>\n",
       "<circle clip-path=\"url(#clip02)\" style=\"fill:#e26f46; stroke:none; fill-opacity:1\" cx=\"217.121\" cy=\"137.262\" r=\"2\"/>\n",
       "<circle clip-path=\"url(#clip02)\" style=\"fill:#e26f46; stroke:none; fill-opacity:1\" cx=\"218.292\" cy=\"138.277\" r=\"2\"/>\n",
       "<circle clip-path=\"url(#clip02)\" style=\"fill:#e26f46; stroke:none; fill-opacity:1\" cx=\"219.462\" cy=\"138.482\" r=\"2\"/>\n",
       "<circle clip-path=\"url(#clip02)\" style=\"fill:#e26f46; stroke:none; fill-opacity:1\" cx=\"220.632\" cy=\"137.816\" r=\"2\"/>\n",
       "<circle clip-path=\"url(#clip02)\" style=\"fill:#e26f46; stroke:none; fill-opacity:1\" cx=\"221.802\" cy=\"136.246\" r=\"2\"/>\n",
       "<circle clip-path=\"url(#clip02)\" style=\"fill:#e26f46; stroke:none; fill-opacity:1\" cx=\"222.973\" cy=\"133.778\" r=\"2\"/>\n",
       "<circle clip-path=\"url(#clip02)\" style=\"fill:#e26f46; stroke:none; fill-opacity:1\" cx=\"224.143\" cy=\"130.45\" r=\"2\"/>\n",
       "<circle clip-path=\"url(#clip02)\" style=\"fill:#e26f46; stroke:none; fill-opacity:1\" cx=\"225.313\" cy=\"126.337\" r=\"2\"/>\n",
       "<circle clip-path=\"url(#clip02)\" style=\"fill:#e26f46; stroke:none; fill-opacity:1\" cx=\"226.483\" cy=\"121.544\" r=\"2\"/>\n",
       "<circle clip-path=\"url(#clip02)\" style=\"fill:#e26f46; stroke:none; fill-opacity:1\" cx=\"227.654\" cy=\"116.209\" r=\"2\"/>\n",
       "<circle clip-path=\"url(#clip02)\" style=\"fill:#e26f46; stroke:none; fill-opacity:1\" cx=\"228.824\" cy=\"110.488\" r=\"2\"/>\n",
       "<circle clip-path=\"url(#clip02)\" style=\"fill:#e26f46; stroke:none; fill-opacity:1\" cx=\"229.994\" cy=\"104.558\" r=\"2\"/>\n",
       "<circle clip-path=\"url(#clip02)\" style=\"fill:#e26f46; stroke:none; fill-opacity:1\" cx=\"231.164\" cy=\"98.6054\" r=\"2\"/>\n",
       "<circle clip-path=\"url(#clip02)\" style=\"fill:#e26f46; stroke:none; fill-opacity:1\" cx=\"232.335\" cy=\"92.8162\" r=\"2\"/>\n",
       "<circle clip-path=\"url(#clip02)\" style=\"fill:#e26f46; stroke:none; fill-opacity:1\" cx=\"233.505\" cy=\"87.3715\" r=\"2\"/>\n",
       "<circle clip-path=\"url(#clip02)\" style=\"fill:#e26f46; stroke:none; fill-opacity:1\" cx=\"234.675\" cy=\"82.4373\" r=\"2\"/>\n",
       "<circle clip-path=\"url(#clip02)\" style=\"fill:#e26f46; stroke:none; fill-opacity:1\" cx=\"235.845\" cy=\"78.1577\" r=\"2\"/>\n",
       "<circle clip-path=\"url(#clip02)\" style=\"fill:#e26f46; stroke:none; fill-opacity:1\" cx=\"237.016\" cy=\"74.6487\" r=\"2\"/>\n",
       "<circle clip-path=\"url(#clip02)\" style=\"fill:#e26f46; stroke:none; fill-opacity:1\" cx=\"238.186\" cy=\"71.9923\" r=\"2\"/>\n",
       "<circle clip-path=\"url(#clip02)\" style=\"fill:#e26f46; stroke:none; fill-opacity:1\" cx=\"239.356\" cy=\"70.2341\" r=\"2\"/>\n",
       "<circle clip-path=\"url(#clip02)\" style=\"fill:#e26f46; stroke:none; fill-opacity:1\" cx=\"240.526\" cy=\"69.3806\" r=\"2\"/>\n",
       "<circle clip-path=\"url(#clip02)\" style=\"fill:#e26f46; stroke:none; fill-opacity:1\" cx=\"241.697\" cy=\"69.3993\" r=\"2\"/>\n",
       "<circle clip-path=\"url(#clip02)\" style=\"fill:#e26f46; stroke:none; fill-opacity:1\" cx=\"242.867\" cy=\"70.2206\" r=\"2\"/>\n",
       "<circle clip-path=\"url(#clip02)\" style=\"fill:#e26f46; stroke:none; fill-opacity:1\" cx=\"244.037\" cy=\"71.7406\" r=\"2\"/>\n",
       "<circle clip-path=\"url(#clip02)\" style=\"fill:#e26f46; stroke:none; fill-opacity:1\" cx=\"245.207\" cy=\"73.8262\" r=\"2\"/>\n",
       "<circle clip-path=\"url(#clip02)\" style=\"fill:#e26f46; stroke:none; fill-opacity:1\" cx=\"246.378\" cy=\"76.3206\" r=\"2\"/>\n",
       "<circle clip-path=\"url(#clip02)\" style=\"fill:#e26f46; stroke:none; fill-opacity:1\" cx=\"247.548\" cy=\"79.0501\" r=\"2\"/>\n",
       "<circle clip-path=\"url(#clip02)\" style=\"fill:#e26f46; stroke:none; fill-opacity:1\" cx=\"248.718\" cy=\"81.8315\" r=\"2\"/>\n",
       "<circle clip-path=\"url(#clip02)\" style=\"fill:#e26f46; stroke:none; fill-opacity:1\" cx=\"249.888\" cy=\"84.4801\" r=\"2\"/>\n",
       "<circle clip-path=\"url(#clip02)\" style=\"fill:#e26f46; stroke:none; fill-opacity:1\" cx=\"251.059\" cy=\"86.8168\" r=\"2\"/>\n",
       "<circle clip-path=\"url(#clip02)\" style=\"fill:#e26f46; stroke:none; fill-opacity:1\" cx=\"252.229\" cy=\"88.676\" r=\"2\"/>\n",
       "<circle clip-path=\"url(#clip02)\" style=\"fill:#e26f46; stroke:none; fill-opacity:1\" cx=\"253.399\" cy=\"89.9123\" r=\"2\"/>\n",
       "<circle clip-path=\"url(#clip02)\" style=\"fill:#e26f46; stroke:none; fill-opacity:1\" cx=\"254.569\" cy=\"90.406\" r=\"2\"/>\n",
       "<circle clip-path=\"url(#clip02)\" style=\"fill:#e26f46; stroke:none; fill-opacity:1\" cx=\"255.74\" cy=\"90.0682\" r=\"2\"/>\n",
       "<circle clip-path=\"url(#clip02)\" style=\"fill:#e26f46; stroke:none; fill-opacity:1\" cx=\"256.91\" cy=\"88.844\" r=\"2\"/>\n",
       "<circle clip-path=\"url(#clip02)\" style=\"fill:#e26f46; stroke:none; fill-opacity:1\" cx=\"258.08\" cy=\"86.7139\" r=\"2\"/>\n",
       "<circle clip-path=\"url(#clip02)\" style=\"fill:#e26f46; stroke:none; fill-opacity:1\" cx=\"259.25\" cy=\"83.6941\" r=\"2\"/>\n",
       "<circle clip-path=\"url(#clip02)\" style=\"fill:#e26f46; stroke:none; fill-opacity:1\" cx=\"260.421\" cy=\"79.8351\" r=\"2\"/>\n",
       "<circle clip-path=\"url(#clip02)\" style=\"fill:#e26f46; stroke:none; fill-opacity:1\" cx=\"261.591\" cy=\"75.2182\" r=\"2\"/>\n",
       "<circle clip-path=\"url(#clip02)\" style=\"fill:#e26f46; stroke:none; fill-opacity:1\" cx=\"262.761\" cy=\"69.9512\" r=\"2\"/>\n",
       "<circle clip-path=\"url(#clip02)\" style=\"fill:#e26f46; stroke:none; fill-opacity:1\" cx=\"263.931\" cy=\"64.1629\" r=\"2\"/>\n",
       "<circle clip-path=\"url(#clip02)\" style=\"fill:#e26f46; stroke:none; fill-opacity:1\" cx=\"265.102\" cy=\"57.9965\" r=\"2\"/>\n",
       "<circle clip-path=\"url(#clip02)\" style=\"fill:#e26f46; stroke:none; fill-opacity:1\" cx=\"266.272\" cy=\"51.6033\" r=\"2\"/>\n",
       "<circle clip-path=\"url(#clip02)\" style=\"fill:#e26f46; stroke:none; fill-opacity:1\" cx=\"267.442\" cy=\"45.1364\" r=\"2\"/>\n",
       "<circle clip-path=\"url(#clip02)\" style=\"fill:#e26f46; stroke:none; fill-opacity:1\" cx=\"268.612\" cy=\"38.7439\" r=\"2\"/>\n",
       "<circle clip-path=\"url(#clip02)\" style=\"fill:#e26f46; stroke:none; fill-opacity:1\" cx=\"269.783\" cy=\"32.5641\" r=\"2\"/>\n",
       "<circle clip-path=\"url(#clip02)\" style=\"fill:#e26f46; stroke:none; fill-opacity:1\" cx=\"270.953\" cy=\"26.7211\" r=\"2\"/>\n",
       "<circle clip-path=\"url(#clip02)\" style=\"fill:#e26f46; stroke:none; fill-opacity:1\" cx=\"272.123\" cy=\"21.3216\" r=\"2\"/>\n",
       "<circle clip-path=\"url(#clip02)\" style=\"fill:#e26f46; stroke:none; fill-opacity:1\" cx=\"273.293\" cy=\"16.4526\" r=\"2\"/>\n",
       "<polygon clip-path=\"url(#clip00)\" points=\"\n",
       "228.799,60.051 271.315,60.051 271.315,14.691 228.799,14.691 \n",
       "  \" fill=\"#ffffff\" fill-opacity=\"1\"/>\n",
       "<polyline clip-path=\"url(#clip00)\" style=\"stroke:#000000; stroke-width:0.5; stroke-opacity:1; fill:none\" points=\"\n",
       "  228.799,60.051 271.315,60.051 271.315,14.691 228.799,14.691 228.799,60.051 \n",
       "  \"/>\n",
       "<polyline clip-path=\"url(#clip00)\" style=\"stroke:#009af9; stroke-width:2; stroke-opacity:1; fill:none\" points=\"\n",
       "  231.799,29.811 249.799,29.811 \n",
       "  \"/>\n",
       "<g clip-path=\"url(#clip00)\">\n",
       "<text style=\"fill:#000000; fill-opacity:1; font-family:Arial,Helvetica Neue,Helvetica,sans-serif; font-size:12; text-anchor:start;\" transform=\"rotate(0, 252.799, 34.311)\" x=\"252.799\" y=\"34.311\">y1</text>\n",
       "</g>\n",
       "<polyline clip-path=\"url(#clip00)\" style=\"stroke:#e26f46; stroke-width:0; stroke-opacity:1; fill:none\" points=\"\n",
       "  231.799,44.931 249.799,44.931 \n",
       "  \"/>\n",
       "<circle clip-path=\"url(#clip00)\" style=\"fill:#e26f46; stroke:none; fill-opacity:1\" cx=\"242.299\" cy=\"44.931\" r=\"5\"/>\n",
       "<g clip-path=\"url(#clip00)\">\n",
       "<text style=\"fill:#000000; fill-opacity:1; font-family:Arial,Helvetica Neue,Helvetica,sans-serif; font-size:12; text-anchor:start;\" transform=\"rotate(0, 252.799, 49.431)\" x=\"252.799\" y=\"49.431\">y2</text>\n",
       "</g>\n",
       "</svg>\n"
      ]
     },
     "execution_count": 19,
     "metadata": {},
     "output_type": "execute_result"
    }
   ],
   "source": [
    "y_pred = predict(opt.minimizer, x)\n",
    "plot(x[:], y_true[:],lw=2)\n",
    "plot!(x[:], y_pred[:],lw=0,\n",
    "    marker=:circle,markerstrokewidth = 0,markersize=3)"
   ]
  }
 ],
 "metadata": {
  "kernelspec": {
   "display_name": "Julia 0.6.0",
   "language": "julia",
   "name": "julia-0.6"
  },
  "language_info": {
   "file_extension": ".jl",
   "mimetype": "application/julia",
   "name": "julia",
   "version": "0.6.0"
  },
  "toc": {
   "nav_menu": {},
   "number_sections": true,
   "sideBar": true,
   "skip_h1_title": false,
   "toc_cell": false,
   "toc_position": {},
   "toc_section_display": "block",
   "toc_window_display": false
  }
 },
 "nbformat": 4,
 "nbformat_minor": 2
}
