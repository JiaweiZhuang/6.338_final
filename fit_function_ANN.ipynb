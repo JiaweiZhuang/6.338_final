{
 "cells": [
  {
   "cell_type": "code",
   "execution_count": 1,
   "metadata": {
    "collapsed": true
   },
   "outputs": [],
   "source": [
    "using Optim\n",
    "using Plots"
   ]
  },
  {
   "cell_type": "code",
   "execution_count": 2,
   "metadata": {
    "collapsed": true
   },
   "outputs": [],
   "source": [
    "default(size = (300, 200)) # plot size"
   ]
  },
  {
   "cell_type": "markdown",
   "metadata": {},
   "source": [
    "# Generate data"
   ]
  },
  {
   "cell_type": "code",
   "execution_count": 3,
   "metadata": {},
   "outputs": [
    {
     "data": {
      "text/plain": [
       "f1 (generic function with 1 method)"
      ]
     },
     "execution_count": 3,
     "metadata": {},
     "output_type": "execute_result"
    }
   ],
   "source": [
    "f1(x) = x^2/20 + sin(2*x)"
   ]
  },
  {
   "cell_type": "code",
   "execution_count": 4,
   "metadata": {},
   "outputs": [
    {
     "name": "stdout",
     "output_type": "stream",
     "text": [
      "(1, 201)(1, 201)"
     ]
    },
    {
     "data": {
      "text/html": [
       "<?xml version=\"1.0\" encoding=\"utf-8\"?>\n",
       "<svg xmlns=\"http://www.w3.org/2000/svg\" xmlns:xlink=\"http://www.w3.org/1999/xlink\" width=\"300\" height=\"200\" viewBox=\"0 0 300 200\">\n",
       "<defs>\n",
       "  <clipPath id=\"clip00\">\n",
       "    <rect x=\"0\" y=\"0\" width=\"300\" height=\"200\"/>\n",
       "  </clipPath>\n",
       "</defs>\n",
       "<polygon clip-path=\"url(#clip00)\" points=\"\n",
       "0,200 300,200 300,0 0,0 \n",
       "  \" fill=\"#ffffff\" fill-opacity=\"1\"/>\n",
       "<defs>\n",
       "  <clipPath id=\"clip01\">\n",
       "    <rect x=\"60\" y=\"0\" width=\"211\" height=\"200\"/>\n",
       "  </clipPath>\n",
       "</defs>\n",
       "<polygon clip-path=\"url(#clip00)\" points=\"\n",
       "22.3377,175.813 280.315,175.813 280.315,11.811 22.3377,11.811 \n",
       "  \" fill=\"#ffffff\" fill-opacity=\"1\"/>\n",
       "<defs>\n",
       "  <clipPath id=\"clip02\">\n",
       "    <rect x=\"22\" y=\"11\" width=\"259\" height=\"165\"/>\n",
       "  </clipPath>\n",
       "</defs>\n",
       "<polyline clip-path=\"url(#clip02)\" style=\"stroke:#000000; stroke-width:0.5; stroke-opacity:0.1; fill:none\" points=\"\n",
       "  22.3377,173.353 22.3377,14.2711 \n",
       "  \"/>\n",
       "<polyline clip-path=\"url(#clip02)\" style=\"stroke:#000000; stroke-width:0.5; stroke-opacity:0.1; fill:none\" points=\"\n",
       "  86.832,173.353 86.832,14.2711 \n",
       "  \"/>\n",
       "<polyline clip-path=\"url(#clip02)\" style=\"stroke:#000000; stroke-width:0.5; stroke-opacity:0.1; fill:none\" points=\"\n",
       "  151.326,173.353 151.326,14.2711 \n",
       "  \"/>\n",
       "<polyline clip-path=\"url(#clip02)\" style=\"stroke:#000000; stroke-width:0.5; stroke-opacity:0.1; fill:none\" points=\"\n",
       "  215.821,173.353 215.821,14.2711 \n",
       "  \"/>\n",
       "<polyline clip-path=\"url(#clip02)\" style=\"stroke:#000000; stroke-width:0.5; stroke-opacity:0.1; fill:none\" points=\"\n",
       "  280.315,173.353 280.315,14.2711 \n",
       "  \"/>\n",
       "<polyline clip-path=\"url(#clip02)\" style=\"stroke:#000000; stroke-width:0.5; stroke-opacity:0.1; fill:none\" points=\"\n",
       "  26.2073,152.751 276.445,152.751 \n",
       "  \"/>\n",
       "<polyline clip-path=\"url(#clip02)\" style=\"stroke:#000000; stroke-width:0.5; stroke-opacity:0.1; fill:none\" points=\"\n",
       "  26.2073,105.079 276.445,105.079 \n",
       "  \"/>\n",
       "<polyline clip-path=\"url(#clip02)\" style=\"stroke:#000000; stroke-width:0.5; stroke-opacity:0.1; fill:none\" points=\"\n",
       "  26.2073,57.4075 276.445,57.4075 \n",
       "  \"/>\n",
       "<polyline clip-path=\"url(#clip00)\" style=\"stroke:#000000; stroke-width:1; stroke-opacity:1; fill:none\" points=\"\n",
       "  22.3377,175.813 280.315,175.813 \n",
       "  \"/>\n",
       "<polyline clip-path=\"url(#clip00)\" style=\"stroke:#000000; stroke-width:1; stroke-opacity:1; fill:none\" points=\"\n",
       "  22.3377,175.813 22.3377,173.353 \n",
       "  \"/>\n",
       "<polyline clip-path=\"url(#clip00)\" style=\"stroke:#000000; stroke-width:1; stroke-opacity:1; fill:none\" points=\"\n",
       "  86.832,175.813 86.832,173.353 \n",
       "  \"/>\n",
       "<polyline clip-path=\"url(#clip00)\" style=\"stroke:#000000; stroke-width:1; stroke-opacity:1; fill:none\" points=\"\n",
       "  151.326,175.813 151.326,173.353 \n",
       "  \"/>\n",
       "<polyline clip-path=\"url(#clip00)\" style=\"stroke:#000000; stroke-width:1; stroke-opacity:1; fill:none\" points=\"\n",
       "  215.821,175.813 215.821,173.353 \n",
       "  \"/>\n",
       "<polyline clip-path=\"url(#clip00)\" style=\"stroke:#000000; stroke-width:1; stroke-opacity:1; fill:none\" points=\"\n",
       "  280.315,175.813 280.315,173.353 \n",
       "  \"/>\n",
       "<polyline clip-path=\"url(#clip00)\" style=\"stroke:#000000; stroke-width:1; stroke-opacity:1; fill:none\" points=\"\n",
       "  22.3377,175.813 22.3377,11.811 \n",
       "  \"/>\n",
       "<polyline clip-path=\"url(#clip00)\" style=\"stroke:#000000; stroke-width:1; stroke-opacity:1; fill:none\" points=\"\n",
       "  22.3377,152.751 26.2073,152.751 \n",
       "  \"/>\n",
       "<polyline clip-path=\"url(#clip00)\" style=\"stroke:#000000; stroke-width:1; stroke-opacity:1; fill:none\" points=\"\n",
       "  22.3377,105.079 26.2073,105.079 \n",
       "  \"/>\n",
       "<polyline clip-path=\"url(#clip00)\" style=\"stroke:#000000; stroke-width:1; stroke-opacity:1; fill:none\" points=\"\n",
       "  22.3377,57.4075 26.2073,57.4075 \n",
       "  \"/>\n",
       "<g clip-path=\"url(#clip00)\">\n",
       "<text style=\"fill:#000000; fill-opacity:1; font-family:Arial,Helvetica Neue,Helvetica,sans-serif; font-size:12; text-anchor:middle;\" transform=\"rotate(0, 22.3377, 188.113)\" x=\"22.3377\" y=\"188.113\">-10</text>\n",
       "</g>\n",
       "<g clip-path=\"url(#clip00)\">\n",
       "<text style=\"fill:#000000; fill-opacity:1; font-family:Arial,Helvetica Neue,Helvetica,sans-serif; font-size:12; text-anchor:middle;\" transform=\"rotate(0, 86.832, 188.113)\" x=\"86.832\" y=\"188.113\">-5</text>\n",
       "</g>\n",
       "<g clip-path=\"url(#clip00)\">\n",
       "<text style=\"fill:#000000; fill-opacity:1; font-family:Arial,Helvetica Neue,Helvetica,sans-serif; font-size:12; text-anchor:middle;\" transform=\"rotate(0, 151.326, 188.113)\" x=\"151.326\" y=\"188.113\">0</text>\n",
       "</g>\n",
       "<g clip-path=\"url(#clip00)\">\n",
       "<text style=\"fill:#000000; fill-opacity:1; font-family:Arial,Helvetica Neue,Helvetica,sans-serif; font-size:12; text-anchor:middle;\" transform=\"rotate(0, 215.821, 188.113)\" x=\"215.821\" y=\"188.113\">5</text>\n",
       "</g>\n",
       "<g clip-path=\"url(#clip00)\">\n",
       "<text style=\"fill:#000000; fill-opacity:1; font-family:Arial,Helvetica Neue,Helvetica,sans-serif; font-size:12; text-anchor:middle;\" transform=\"rotate(0, 280.315, 188.113)\" x=\"280.315\" y=\"188.113\">10</text>\n",
       "</g>\n",
       "<g clip-path=\"url(#clip00)\">\n",
       "<text style=\"fill:#000000; fill-opacity:1; font-family:Arial,Helvetica Neue,Helvetica,sans-serif; font-size:12; text-anchor:end;\" transform=\"rotate(0, 19.3377, 157.251)\" x=\"19.3377\" y=\"157.251\">0</text>\n",
       "</g>\n",
       "<g clip-path=\"url(#clip00)\">\n",
       "<text style=\"fill:#000000; fill-opacity:1; font-family:Arial,Helvetica Neue,Helvetica,sans-serif; font-size:12; text-anchor:end;\" transform=\"rotate(0, 19.3377, 109.579)\" x=\"19.3377\" y=\"109.579\">2</text>\n",
       "</g>\n",
       "<g clip-path=\"url(#clip00)\">\n",
       "<text style=\"fill:#000000; fill-opacity:1; font-family:Arial,Helvetica Neue,Helvetica,sans-serif; font-size:12; text-anchor:end;\" transform=\"rotate(0, 19.3377, 61.9075)\" x=\"19.3377\" y=\"61.9075\">4</text>\n",
       "</g>\n",
       "<polyline clip-path=\"url(#clip02)\" style=\"stroke:#009af9; stroke-width:1; stroke-opacity:1; fill:none\" points=\"\n",
       "  22.3377,55.3325 23.6275,55.338 24.9174,54.5464 26.2073,53.0829 27.4972,51.0986 28.7871,48.7641 30.077,46.2635 31.3669,43.786 32.6568,41.5194 33.9466,39.642 \n",
       "  35.2365,38.3154 36.5264,37.6786 37.8163,37.8421 39.1062,38.8833 40.3961,40.8441 41.686,43.7283 42.9758,47.5022 44.2657,52.0957 45.5556,57.405 46.8455,63.2968 \n",
       "  48.1354,69.6138 49.4253,76.1804 50.7152,82.8106 52.0051,89.3145 53.2949,95.5066 54.5848,101.213 55.8747,106.277 57.1646,110.568 58.4545,113.985 59.7444,116.461 \n",
       "  61.0343,117.965 62.3241,118.503 63.614,118.121 64.9039,116.899 66.1938,114.949 67.4837,112.413 68.7736,109.453 70.0635,106.25 71.3533,102.991 72.6432,99.8655 \n",
       "  73.9331,97.0566 75.223,94.7337 76.5129,93.0461 77.8028,92.1165 79.0927,92.0367 80.3826,92.8635 81.6724,94.6167 82.9623,97.2782 84.2522,100.793 85.5421,105.07 \n",
       "  86.832,109.989 88.1219,115.4 89.4118,121.137 90.7016,127.015 91.9915,132.845 93.2814,138.44 94.5713,143.62 95.8612,148.219 97.1511,152.097 98.441,155.14 \n",
       "  99.7309,157.264 101.021,158.425 102.311,158.612 103.601,157.856 104.89,156.223 106.18,153.811 107.47,150.751 108.76,147.198 110.05,143.325 111.34,139.317 \n",
       "  112.63,135.364 113.92,131.654 115.209,128.36 116.499,125.643 117.789,123.636 119.079,122.445 120.369,122.142 121.659,122.761 122.949,124.3 124.239,126.72 \n",
       "  125.529,129.944 126.818,133.864 128.108,138.341 129.398,143.215 130.688,148.308 131.978,153.433 133.268,158.399 134.558,163.024 135.848,167.135 137.138,170.58 \n",
       "  138.427,173.233 139.717,174.998 141.007,175.813 142.297,175.656 143.587,174.537 144.877,172.51 146.167,169.659 147.457,166.102 148.747,161.985 150.036,157.474 \n",
       "  151.326,152.751 152.616,148.003 153.906,143.421 155.196,139.185 156.486,135.461 157.776,132.396 159.066,130.106 160.356,128.678 161.645,128.162 162.935,128.573 \n",
       "  164.225,129.885 165.515,132.037 166.805,134.934 168.095,138.449 169.385,142.43 170.675,146.705 171.964,151.091 173.254,155.397 174.544,159.437 175.834,163.032 \n",
       "  177.124,166.022 178.414,168.269 179.704,169.665 180.994,170.131 182.284,169.63 183.573,168.159 184.863,165.752 186.153,162.482 187.443,158.454 188.733,153.802 \n",
       "  190.023,148.685 191.313,143.278 192.603,137.769 193.893,132.346 195.182,127.196 196.472,122.491 197.762,118.387 199.052,115.014 200.342,112.47 201.632,110.822 \n",
       "  202.922,110.1 204.212,110.294 205.502,111.357 206.791,113.21 208.081,115.736 209.371,118.794 210.661,122.22 211.951,125.833 213.241,129.447 214.531,132.871 \n",
       "  215.821,135.923 217.111,138.434 218.4,140.257 219.69,141.268 220.98,141.379 222.27,140.535 223.56,138.716 224.85,135.942 226.14,132.272 227.43,127.795 \n",
       "  228.72,122.636 230.009,116.943 231.299,110.886 232.589,104.647 233.879,98.4167 235.169,92.3825 236.459,86.7238 237.749,81.6038 239.039,77.1635 240.328,73.5158 \n",
       "  241.618,70.7411 242.908,68.8838 244.198,67.9511 245.488,67.9122 246.778,68.6997 248.068,70.2124 249.358,72.3192 250.648,74.8644 251.937,77.6738 253.227,80.5618 \n",
       "  254.517,83.3385 255.807,85.8179 257.097,87.8245 258.387,89.2009 259.677,89.8139 260.967,89.5595 262.257,88.3678 263.546,86.2049 264.836,83.0749 266.126,79.0195 \n",
       "  267.416,74.1161 268.706,68.4753 269.996,62.2358 271.286,55.5596 272.576,48.6249 273.866,41.6193 275.155,34.7322 276.445,28.1476 277.735,22.0361 279.025,16.5489 \n",
       "  280.315,11.811 \n",
       "  \"/>\n",
       "<polygon clip-path=\"url(#clip00)\" points=\"\n",
       "228.799,44.931 271.315,44.931 271.315,14.691 228.799,14.691 \n",
       "  \" fill=\"#ffffff\" fill-opacity=\"1\"/>\n",
       "<polyline clip-path=\"url(#clip00)\" style=\"stroke:#000000; stroke-width:0.5; stroke-opacity:1; fill:none\" points=\"\n",
       "  228.799,44.931 271.315,44.931 271.315,14.691 228.799,14.691 228.799,44.931 \n",
       "  \"/>\n",
       "<polyline clip-path=\"url(#clip00)\" style=\"stroke:#009af9; stroke-width:1; stroke-opacity:1; fill:none\" points=\"\n",
       "  231.799,29.811 249.799,29.811 \n",
       "  \"/>\n",
       "<g clip-path=\"url(#clip00)\">\n",
       "<text style=\"fill:#000000; fill-opacity:1; font-family:Arial,Helvetica Neue,Helvetica,sans-serif; font-size:12; text-anchor:start;\" transform=\"rotate(0, 252.799, 34.311)\" x=\"252.799\" y=\"34.311\">y1</text>\n",
       "</g>\n",
       "</svg>\n"
      ]
     },
     "execution_count": 4,
     "metadata": {},
     "output_type": "execute_result"
    }
   ],
   "source": [
    "x = reshape([-10:0.1:10;],1,:) # shape = [n_input,n_sample]\n",
    "y_true = f1.(x)\n",
    "print(size(x), size(y_true))\n",
    "plot(x[:], y_true[:])"
   ]
  },
  {
   "cell_type": "markdown",
   "metadata": {},
   "source": [
    "# Build NN"
   ]
  },
  {
   "cell_type": "code",
   "execution_count": 5,
   "metadata": {},
   "outputs": [
    {
     "data": {
      "text/plain": [
       "4-element Array{Array{Float64,N} where N,1}:\n",
       " [0.177902; -1.77137; … ; 1.36901; -0.175861]      \n",
       " [0.0, 0.0, 0.0, 0.0, 0.0, 0.0, 0.0, 0.0, 0.0, 0.0]\n",
       " [1.22351 -0.932874 … -0.920088 -0.529654]         \n",
       " [0.0]                                             "
      ]
     },
     "execution_count": 5,
     "metadata": {},
     "output_type": "execute_result"
    }
   ],
   "source": [
    "function init_weights(;n_in=1, n_hidden=10, n_out=1)\n",
    "    W1 = randn(n_hidden, n_in) # for left multiply W1*x\n",
    "    b1 = zeros(n_hidden)\n",
    "    W2 = randn(n_out, n_hidden)\n",
    "    b2 = zeros(n_out)\n",
    "    params = [W1, b1, W2, b2]\n",
    "    return params\n",
    "end\n",
    "\n",
    "params = init_weights()"
   ]
  },
  {
   "cell_type": "code",
   "execution_count": 6,
   "metadata": {},
   "outputs": [
    {
     "data": {
      "text/plain": [
       "4-element Array{Tuple{Int64,Vararg{Int64,N} where N},1}:\n",
       " (10, 1)\n",
       " (10,)  \n",
       " (1, 10)\n",
       " (1,)   "
      ]
     },
     "execution_count": 6,
     "metadata": {},
     "output_type": "execute_result"
    }
   ],
   "source": [
    "params_flat = collect(Iterators.flatten(params))\n",
    "sizes = map(size, params)"
   ]
  },
  {
   "cell_type": "code",
   "execution_count": 7,
   "metadata": {},
   "outputs": [
    {
     "data": {
      "text/plain": [
       "4-element Array{Tuple{Int64,Vararg{Int64,N} where N},1}:\n",
       " (10, 1)\n",
       " (10,)  \n",
       " (1, 10)\n",
       " (1,)   "
      ]
     },
     "execution_count": 7,
     "metadata": {},
     "output_type": "execute_result"
    }
   ],
   "source": [
    "const sizes_const = sizes"
   ]
  },
  {
   "cell_type": "code",
   "execution_count": 8,
   "metadata": {},
   "outputs": [
    {
     "data": {
      "text/plain": [
       "predict (generic function with 1 method)"
      ]
     },
     "execution_count": 8,
     "metadata": {},
     "output_type": "execute_result"
    }
   ],
   "source": [
    "function predict(params_flat, x; act=tanh)\n",
    "    # unflatten\n",
    "    params = []\n",
    "    i1 = 1\n",
    "    for s in sizes # sizes is global constant\n",
    "        l = reduce(*, s) # size -> length\n",
    "        i2 = i1+l\n",
    "        p = reshape(params_flat[i1:i2-1], s)\n",
    "        push!(params, p)\n",
    "        i1 = i2\n",
    "    end \n",
    "    \n",
    "    W1, b1, W2, b2 = params\n",
    "    \n",
    "    # normal NN calculation\n",
    "    \n",
    "    a = act.(W1*x .+ b1)\n",
    "    y = W2*a .+ b2\n",
    "    return y\n",
    "end"
   ]
  },
  {
   "cell_type": "code",
   "execution_count": 9,
   "metadata": {},
   "outputs": [
    {
     "data": {
      "text/plain": [
       "1×201 Array{Float64,2}:\n",
       " -3.33572  -3.3355  -3.33519  -3.33479  …  3.33479  3.33519  3.3355  3.33572"
      ]
     },
     "execution_count": 9,
     "metadata": {},
     "output_type": "execute_result"
    }
   ],
   "source": [
    "y_pred = predict(params_flat, x)"
   ]
  },
  {
   "cell_type": "code",
   "execution_count": 10,
   "metadata": {},
   "outputs": [
    {
     "data": {
      "text/html": [
       "<?xml version=\"1.0\" encoding=\"utf-8\"?>\n",
       "<svg xmlns=\"http://www.w3.org/2000/svg\" xmlns:xlink=\"http://www.w3.org/1999/xlink\" width=\"300\" height=\"200\" viewBox=\"0 0 300 200\">\n",
       "<defs>\n",
       "  <clipPath id=\"clip00\">\n",
       "    <rect x=\"0\" y=\"0\" width=\"300\" height=\"200\"/>\n",
       "  </clipPath>\n",
       "</defs>\n",
       "<polygon clip-path=\"url(#clip00)\" points=\"\n",
       "0,200 300,200 300,0 0,0 \n",
       "  \" fill=\"#ffffff\" fill-opacity=\"1\"/>\n",
       "<defs>\n",
       "  <clipPath id=\"clip01\">\n",
       "    <rect x=\"60\" y=\"0\" width=\"211\" height=\"200\"/>\n",
       "  </clipPath>\n",
       "</defs>\n",
       "<polygon clip-path=\"url(#clip00)\" points=\"\n",
       "29.2591,175.813 280.315,175.813 280.315,11.811 29.2591,11.811 \n",
       "  \" fill=\"#ffffff\" fill-opacity=\"1\"/>\n",
       "<defs>\n",
       "  <clipPath id=\"clip02\">\n",
       "    <rect x=\"29\" y=\"11\" width=\"252\" height=\"165\"/>\n",
       "  </clipPath>\n",
       "</defs>\n",
       "<polyline clip-path=\"url(#clip02)\" style=\"stroke:#000000; stroke-width:0.5; stroke-opacity:0.1; fill:none\" points=\"\n",
       "  29.2591,173.353 29.2591,14.2711 \n",
       "  \"/>\n",
       "<polyline clip-path=\"url(#clip02)\" style=\"stroke:#000000; stroke-width:0.5; stroke-opacity:0.1; fill:none\" points=\"\n",
       "  92.0231,173.353 92.0231,14.2711 \n",
       "  \"/>\n",
       "<polyline clip-path=\"url(#clip02)\" style=\"stroke:#000000; stroke-width:0.5; stroke-opacity:0.1; fill:none\" points=\"\n",
       "  154.787,173.353 154.787,14.2711 \n",
       "  \"/>\n",
       "<polyline clip-path=\"url(#clip02)\" style=\"stroke:#000000; stroke-width:0.5; stroke-opacity:0.1; fill:none\" points=\"\n",
       "  217.551,173.353 217.551,14.2711 \n",
       "  \"/>\n",
       "<polyline clip-path=\"url(#clip02)\" style=\"stroke:#000000; stroke-width:0.5; stroke-opacity:0.1; fill:none\" points=\"\n",
       "  280.315,173.353 280.315,14.2711 \n",
       "  \"/>\n",
       "<polyline clip-path=\"url(#clip02)\" style=\"stroke:#000000; stroke-width:0.5; stroke-opacity:0.1; fill:none\" points=\"\n",
       "  33.025,142.978 276.549,142.978 \n",
       "  \"/>\n",
       "<polyline clip-path=\"url(#clip02)\" style=\"stroke:#000000; stroke-width:0.5; stroke-opacity:0.1; fill:none\" points=\"\n",
       "  33.025,93.8122 276.549,93.8122 \n",
       "  \"/>\n",
       "<polyline clip-path=\"url(#clip02)\" style=\"stroke:#000000; stroke-width:0.5; stroke-opacity:0.1; fill:none\" points=\"\n",
       "  33.025,44.6467 276.549,44.6467 \n",
       "  \"/>\n",
       "<polyline clip-path=\"url(#clip00)\" style=\"stroke:#000000; stroke-width:1; stroke-opacity:1; fill:none\" points=\"\n",
       "  29.2591,175.813 280.315,175.813 \n",
       "  \"/>\n",
       "<polyline clip-path=\"url(#clip00)\" style=\"stroke:#000000; stroke-width:1; stroke-opacity:1; fill:none\" points=\"\n",
       "  29.2591,175.813 29.2591,173.353 \n",
       "  \"/>\n",
       "<polyline clip-path=\"url(#clip00)\" style=\"stroke:#000000; stroke-width:1; stroke-opacity:1; fill:none\" points=\"\n",
       "  92.0231,175.813 92.0231,173.353 \n",
       "  \"/>\n",
       "<polyline clip-path=\"url(#clip00)\" style=\"stroke:#000000; stroke-width:1; stroke-opacity:1; fill:none\" points=\"\n",
       "  154.787,175.813 154.787,173.353 \n",
       "  \"/>\n",
       "<polyline clip-path=\"url(#clip00)\" style=\"stroke:#000000; stroke-width:1; stroke-opacity:1; fill:none\" points=\"\n",
       "  217.551,175.813 217.551,173.353 \n",
       "  \"/>\n",
       "<polyline clip-path=\"url(#clip00)\" style=\"stroke:#000000; stroke-width:1; stroke-opacity:1; fill:none\" points=\"\n",
       "  280.315,175.813 280.315,173.353 \n",
       "  \"/>\n",
       "<polyline clip-path=\"url(#clip00)\" style=\"stroke:#000000; stroke-width:1; stroke-opacity:1; fill:none\" points=\"\n",
       "  29.2591,175.813 29.2591,11.811 \n",
       "  \"/>\n",
       "<polyline clip-path=\"url(#clip00)\" style=\"stroke:#000000; stroke-width:1; stroke-opacity:1; fill:none\" points=\"\n",
       "  29.2591,142.978 33.025,142.978 \n",
       "  \"/>\n",
       "<polyline clip-path=\"url(#clip00)\" style=\"stroke:#000000; stroke-width:1; stroke-opacity:1; fill:none\" points=\"\n",
       "  29.2591,93.8122 33.025,93.8122 \n",
       "  \"/>\n",
       "<polyline clip-path=\"url(#clip00)\" style=\"stroke:#000000; stroke-width:1; stroke-opacity:1; fill:none\" points=\"\n",
       "  29.2591,44.6467 33.025,44.6467 \n",
       "  \"/>\n",
       "<g clip-path=\"url(#clip00)\">\n",
       "<text style=\"fill:#000000; fill-opacity:1; font-family:Arial,Helvetica Neue,Helvetica,sans-serif; font-size:12; text-anchor:middle;\" transform=\"rotate(0, 29.2591, 188.113)\" x=\"29.2591\" y=\"188.113\">-10</text>\n",
       "</g>\n",
       "<g clip-path=\"url(#clip00)\">\n",
       "<text style=\"fill:#000000; fill-opacity:1; font-family:Arial,Helvetica Neue,Helvetica,sans-serif; font-size:12; text-anchor:middle;\" transform=\"rotate(0, 92.0231, 188.113)\" x=\"92.0231\" y=\"188.113\">-5</text>\n",
       "</g>\n",
       "<g clip-path=\"url(#clip00)\">\n",
       "<text style=\"fill:#000000; fill-opacity:1; font-family:Arial,Helvetica Neue,Helvetica,sans-serif; font-size:12; text-anchor:middle;\" transform=\"rotate(0, 154.787, 188.113)\" x=\"154.787\" y=\"188.113\">0</text>\n",
       "</g>\n",
       "<g clip-path=\"url(#clip00)\">\n",
       "<text style=\"fill:#000000; fill-opacity:1; font-family:Arial,Helvetica Neue,Helvetica,sans-serif; font-size:12; text-anchor:middle;\" transform=\"rotate(0, 217.551, 188.113)\" x=\"217.551\" y=\"188.113\">5</text>\n",
       "</g>\n",
       "<g clip-path=\"url(#clip00)\">\n",
       "<text style=\"fill:#000000; fill-opacity:1; font-family:Arial,Helvetica Neue,Helvetica,sans-serif; font-size:12; text-anchor:middle;\" transform=\"rotate(0, 280.315, 188.113)\" x=\"280.315\" y=\"188.113\">10</text>\n",
       "</g>\n",
       "<g clip-path=\"url(#clip00)\">\n",
       "<text style=\"fill:#000000; fill-opacity:1; font-family:Arial,Helvetica Neue,Helvetica,sans-serif; font-size:12; text-anchor:end;\" transform=\"rotate(0, 26.2591, 147.478)\" x=\"26.2591\" y=\"147.478\">-2</text>\n",
       "</g>\n",
       "<g clip-path=\"url(#clip00)\">\n",
       "<text style=\"fill:#000000; fill-opacity:1; font-family:Arial,Helvetica Neue,Helvetica,sans-serif; font-size:12; text-anchor:end;\" transform=\"rotate(0, 26.2591, 98.3122)\" x=\"26.2591\" y=\"98.3122\">0</text>\n",
       "</g>\n",
       "<g clip-path=\"url(#clip00)\">\n",
       "<text style=\"fill:#000000; fill-opacity:1; font-family:Arial,Helvetica Neue,Helvetica,sans-serif; font-size:12; text-anchor:end;\" transform=\"rotate(0, 26.2591, 49.1467)\" x=\"26.2591\" y=\"49.1467\">2</text>\n",
       "</g>\n",
       "<polyline clip-path=\"url(#clip02)\" style=\"stroke:#009af9; stroke-width:1; stroke-opacity:1; fill:none\" points=\"\n",
       "  29.2591,175.813 30.5144,175.808 31.7697,175.801 33.025,175.791 34.2803,175.778 35.5355,175.764 36.7908,175.746 38.0461,175.726 39.3014,175.703 40.5567,175.676 \n",
       "  41.8119,175.647 43.0672,175.614 44.3225,175.578 45.5778,175.537 46.833,175.493 48.0883,175.445 49.3436,175.393 50.5989,175.336 51.8542,175.274 53.1094,175.208 \n",
       "  54.3647,175.137 55.62,175.06 56.8753,174.978 58.1306,174.89 59.3858,174.796 60.6411,174.696 61.8964,174.589 63.1517,174.476 64.407,174.356 65.6622,174.228 \n",
       "  66.9175,174.093 68.1728,173.95 69.4281,173.798 70.6834,173.638 71.9386,173.47 73.1939,173.292 74.4492,173.104 75.7045,172.907 76.9597,172.7 78.215,172.482 \n",
       "  79.4703,172.253 80.7256,172.012 81.9809,171.76 83.2361,171.496 84.4914,171.219 85.7467,170.929 87.002,170.625 88.2573,170.308 89.5125,169.977 90.7678,169.63 \n",
       "  92.0231,169.269 93.2784,168.891 94.5337,168.498 95.7889,168.087 97.0442,167.659 98.2995,167.214 99.5548,166.75 100.81,166.267 102.065,165.765 103.321,165.242 \n",
       "  104.576,164.699 105.831,164.134 107.086,163.547 108.342,162.937 109.597,162.304 110.852,161.646 112.108,160.962 113.363,160.252 114.618,159.514 115.873,158.748 \n",
       "  117.129,157.951 118.384,157.123 119.639,156.262 120.895,155.366 122.15,154.432 123.405,153.459 124.66,152.444 125.916,151.383 127.171,150.274 128.426,149.113 \n",
       "  129.681,147.896 130.937,146.617 132.192,145.273 133.447,143.856 134.703,142.361 135.958,140.781 137.213,139.108 138.468,137.332 139.724,135.443 140.979,133.428 \n",
       "  142.234,131.268 143.49,128.941 144.745,126.415 146,123.647 147.255,120.585 148.511,117.164 149.766,113.324 151.021,109.024 152.276,104.272 153.532,99.1481 \n",
       "  154.787,93.8122 156.042,88.4764 157.298,83.3524 158.553,78.6001 159.808,74.3002 161.063,70.4603 162.319,67.0399 163.574,63.9773 164.829,61.2098 166.085,58.6836 \n",
       "  167.34,56.3564 168.595,54.1967 169.85,52.1811 171.106,50.2922 172.361,48.5165 173.616,46.8432 174.872,45.2631 176.127,43.7683 177.382,42.3517 178.637,41.0071 \n",
       "  179.893,39.7286 181.148,38.5111 182.403,37.3501 183.658,36.2412 184.914,35.1808 186.169,34.1655 187.424,33.1924 188.68,32.2588 189.935,31.3624 191.19,30.5011 \n",
       "  192.445,29.673 193.701,28.8765 194.956,28.1101 196.211,27.3725 197.467,26.6624 198.722,25.9788 199.977,25.3207 201.232,24.6872 202.488,24.0773 203.743,23.4904 \n",
       "  204.998,22.9256 206.253,22.3823 207.509,21.8597 208.764,21.3573 210.019,20.8745 211.275,20.4106 212.53,19.965 213.785,19.5373 215.04,19.1269 216.296,18.7332 \n",
       "  217.551,18.3558 218.806,17.9942 220.062,17.6478 221.317,17.3162 222.572,16.999 223.827,16.6957 225.083,16.4057 226.338,16.1288 227.593,15.8645 228.849,15.6123 \n",
       "  230.104,15.3719 231.359,15.1429 232.614,14.9248 233.87,14.7173 235.125,14.52 236.38,14.3326 237.635,14.1547 238.891,13.986 240.146,13.8262 241.401,13.6748 \n",
       "  242.657,13.5316 243.912,13.3964 245.167,13.2687 246.422,13.1483 247.678,13.035 248.933,12.9284 250.188,12.8283 251.444,12.7344 252.699,12.6465 253.954,12.5644 \n",
       "  255.209,12.4877 256.465,12.4163 257.72,12.35 258.975,12.2885 260.23,12.2317 261.486,12.1793 262.741,12.1312 263.996,12.0871 265.252,12.0469 266.507,12.0105 \n",
       "  267.762,11.9776 269.017,11.948 270.273,11.9217 271.528,11.8985 272.783,11.8783 274.039,11.8608 275.294,11.846 276.549,11.8338 277.804,11.8239 279.06,11.8164 \n",
       "  280.315,11.811 \n",
       "  \"/>\n",
       "<polygon clip-path=\"url(#clip00)\" points=\"\n",
       "228.799,44.931 271.315,44.931 271.315,14.691 228.799,14.691 \n",
       "  \" fill=\"#ffffff\" fill-opacity=\"1\"/>\n",
       "<polyline clip-path=\"url(#clip00)\" style=\"stroke:#000000; stroke-width:0.5; stroke-opacity:1; fill:none\" points=\"\n",
       "  228.799,44.931 271.315,44.931 271.315,14.691 228.799,14.691 228.799,44.931 \n",
       "  \"/>\n",
       "<polyline clip-path=\"url(#clip00)\" style=\"stroke:#009af9; stroke-width:1; stroke-opacity:1; fill:none\" points=\"\n",
       "  231.799,29.811 249.799,29.811 \n",
       "  \"/>\n",
       "<g clip-path=\"url(#clip00)\">\n",
       "<text style=\"fill:#000000; fill-opacity:1; font-family:Arial,Helvetica Neue,Helvetica,sans-serif; font-size:12; text-anchor:start;\" transform=\"rotate(0, 252.799, 34.311)\" x=\"252.799\" y=\"34.311\">y1</text>\n",
       "</g>\n",
       "</svg>\n"
      ]
     },
     "execution_count": 10,
     "metadata": {},
     "output_type": "execute_result"
    }
   ],
   "source": [
    "plot(x[:], y_pred[:])"
   ]
  },
  {
   "cell_type": "code",
   "execution_count": 11,
   "metadata": {},
   "outputs": [
    {
     "data": {
      "text/plain": [
       "loss_func (generic function with 1 method)"
      ]
     },
     "execution_count": 11,
     "metadata": {},
     "output_type": "execute_result"
    }
   ],
   "source": [
    "function loss_func(params_flat, x, y_true)\n",
    "    y_pred = predict(params_flat, x)\n",
    "    loss = mean(abs2 ,y_pred - y_true)\n",
    "    return loss\n",
    "end"
   ]
  },
  {
   "cell_type": "code",
   "execution_count": 12,
   "metadata": {},
   "outputs": [
    {
     "data": {
      "text/plain": [
       "13.685127558542781"
      ]
     },
     "execution_count": 12,
     "metadata": {},
     "output_type": "execute_result"
    }
   ],
   "source": [
    "loss_func(params_flat, x, y_true)"
   ]
  },
  {
   "cell_type": "markdown",
   "metadata": {},
   "source": [
    "# Optim.jl"
   ]
  },
  {
   "cell_type": "code",
   "execution_count": 13,
   "metadata": {
    "scrolled": true
   },
   "outputs": [
    {
     "data": {
      "text/plain": [
       "loss_wrap (generic function with 1 method)"
      ]
     },
     "execution_count": 13,
     "metadata": {},
     "output_type": "execute_result"
    }
   ],
   "source": [
    "# use global x and y for now\n",
    "loss_wrap(params_flat) = loss_func(params_flat, x, y_true)"
   ]
  },
  {
   "cell_type": "code",
   "execution_count": 14,
   "metadata": {},
   "outputs": [],
   "source": [
    "params = init_weights(n_hidden = 10) # re-initialize weight\n",
    "params_flat = collect(Iterators.flatten(params));"
   ]
  },
  {
   "cell_type": "code",
   "execution_count": 15,
   "metadata": {},
   "outputs": [
    {
     "data": {
      "text/plain": [
       "Optim.Options{Void}(1.0e-32, 1.0e-32, 1.0e-8, 0, 0, 0, false, 2000, false, false, false, 1, nothing, NaN)"
      ]
     },
     "execution_count": 15,
     "metadata": {},
     "output_type": "execute_result"
    }
   ],
   "source": [
    "option = Optim.Options(iterations = 2000)"
   ]
  },
  {
   "cell_type": "code",
   "execution_count": 16,
   "metadata": {},
   "outputs": [
    {
     "name": "stdout",
     "output_type": "stream",
     "text": [
      " 30.022794 seconds (30.32 M allocations: 12.413 GiB, 6.05% gc time)\n"
     ]
    },
    {
     "data": {
      "text/plain": [
       "Results of Optimization Algorithm\n",
       " * Algorithm: BFGS\n",
       " * Starting Point: [-0.0014598533367757788,-1.7767793156770935, ...]\n",
       " * Minimizer: [0.8413179480694707,-0.3771537230331488, ...]\n",
       " * Minimum: 5.249643e-04\n",
       " * Iterations: 2000\n",
       " * Convergence: false\n",
       "   * |x - x'| < 1.0e-32: false \n",
       "     |x - x'| = 8.83e-02 \n",
       "   * |f(x) - f(x')| / |f(x)| < 1.0e-32: false\n",
       "     |f(x) - f(x')| / |f(x)| = NaN \n",
       "   * |g(x)| < 1.0e-08: false \n",
       "     |g(x)| = 3.91e-02 \n",
       "   * stopped by an increasing objective: false\n",
       "   * Reached Maximum Number of Iterations: true\n",
       " * Objective Calls: 5042\n",
       " * Gradient Calls: 5042"
      ]
     },
     "execution_count": 16,
     "metadata": {},
     "output_type": "execute_result"
    }
   ],
   "source": [
    "@time opt = optimize(loss_wrap, params_flat, BFGS(), option)"
   ]
  },
  {
   "cell_type": "code",
   "execution_count": 17,
   "metadata": {},
   "outputs": [
    {
     "data": {
      "text/plain": [
       "0.0005249642960746887"
      ]
     },
     "execution_count": 17,
     "metadata": {},
     "output_type": "execute_result"
    }
   ],
   "source": [
    "loss_wrap(opt.minimizer)"
   ]
  },
  {
   "cell_type": "code",
   "execution_count": 18,
   "metadata": {},
   "outputs": [
    {
     "data": {
      "text/plain": [
       "1×201 Array{Float64,2}:\n",
       " 3.92036  4.02945  4.13717  4.24251  …  5.21609  5.46376  5.70045  5.936"
      ]
     },
     "execution_count": 18,
     "metadata": {},
     "output_type": "execute_result"
    }
   ],
   "source": [
    "y_pred = predict(opt.minimizer, x)"
   ]
  },
  {
   "cell_type": "code",
   "execution_count": 19,
   "metadata": {},
   "outputs": [
    {
     "data": {
      "text/html": [
       "<?xml version=\"1.0\" encoding=\"utf-8\"?>\n",
       "<svg xmlns=\"http://www.w3.org/2000/svg\" xmlns:xlink=\"http://www.w3.org/1999/xlink\" width=\"300\" height=\"200\" viewBox=\"0 0 300 200\">\n",
       "<defs>\n",
       "  <clipPath id=\"clip00\">\n",
       "    <rect x=\"0\" y=\"0\" width=\"300\" height=\"200\"/>\n",
       "  </clipPath>\n",
       "</defs>\n",
       "<polygon clip-path=\"url(#clip00)\" points=\"\n",
       "0,200 300,200 300,0 0,0 \n",
       "  \" fill=\"#ffffff\" fill-opacity=\"1\"/>\n",
       "<defs>\n",
       "  <clipPath id=\"clip01\">\n",
       "    <rect x=\"60\" y=\"0\" width=\"211\" height=\"200\"/>\n",
       "  </clipPath>\n",
       "</defs>\n",
       "<polygon clip-path=\"url(#clip00)\" points=\"\n",
       "32.2221,175.813 280.315,175.813 280.315,11.811 32.2221,11.811 \n",
       "  \" fill=\"#ffffff\" fill-opacity=\"1\"/>\n",
       "<defs>\n",
       "  <clipPath id=\"clip02\">\n",
       "    <rect x=\"32\" y=\"11\" width=\"249\" height=\"165\"/>\n",
       "  </clipPath>\n",
       "</defs>\n",
       "<polyline clip-path=\"url(#clip02)\" style=\"stroke:#000000; stroke-width:0.5; stroke-opacity:0.1; fill:none\" points=\"\n",
       "  39.2436,173.353 39.2436,14.2711 \n",
       "  \"/>\n",
       "<polyline clip-path=\"url(#clip02)\" style=\"stroke:#000000; stroke-width:0.5; stroke-opacity:0.1; fill:none\" points=\"\n",
       "  156.269,173.353 156.269,14.2711 \n",
       "  \"/>\n",
       "<polyline clip-path=\"url(#clip02)\" style=\"stroke:#000000; stroke-width:0.5; stroke-opacity:0.1; fill:none\" points=\"\n",
       "  273.293,173.353 273.293,14.2711 \n",
       "  \"/>\n",
       "<polyline clip-path=\"url(#clip02)\" style=\"stroke:#000000; stroke-width:0.5; stroke-opacity:0.1; fill:none\" points=\"\n",
       "  35.9435,149.251 276.594,149.251 \n",
       "  \"/>\n",
       "<polyline clip-path=\"url(#clip02)\" style=\"stroke:#000000; stroke-width:0.5; stroke-opacity:0.1; fill:none\" points=\"\n",
       "  35.9435,93.3216 276.594,93.3216 \n",
       "  \"/>\n",
       "<polyline clip-path=\"url(#clip02)\" style=\"stroke:#000000; stroke-width:0.5; stroke-opacity:0.1; fill:none\" points=\"\n",
       "  35.9435,37.3925 276.594,37.3925 \n",
       "  \"/>\n",
       "<polyline clip-path=\"url(#clip00)\" style=\"stroke:#000000; stroke-width:1; stroke-opacity:1; fill:none\" points=\"\n",
       "  32.2221,175.813 280.315,175.813 \n",
       "  \"/>\n",
       "<polyline clip-path=\"url(#clip00)\" style=\"stroke:#000000; stroke-width:1; stroke-opacity:1; fill:none\" points=\"\n",
       "  39.2436,175.813 39.2436,173.353 \n",
       "  \"/>\n",
       "<polyline clip-path=\"url(#clip00)\" style=\"stroke:#000000; stroke-width:1; stroke-opacity:1; fill:none\" points=\"\n",
       "  156.269,175.813 156.269,173.353 \n",
       "  \"/>\n",
       "<polyline clip-path=\"url(#clip00)\" style=\"stroke:#000000; stroke-width:1; stroke-opacity:1; fill:none\" points=\"\n",
       "  273.293,175.813 273.293,173.353 \n",
       "  \"/>\n",
       "<polyline clip-path=\"url(#clip00)\" style=\"stroke:#000000; stroke-width:1; stroke-opacity:1; fill:none\" points=\"\n",
       "  32.2221,175.813 32.2221,11.811 \n",
       "  \"/>\n",
       "<polyline clip-path=\"url(#clip00)\" style=\"stroke:#000000; stroke-width:1; stroke-opacity:1; fill:none\" points=\"\n",
       "  32.2221,149.251 35.9435,149.251 \n",
       "  \"/>\n",
       "<polyline clip-path=\"url(#clip00)\" style=\"stroke:#000000; stroke-width:1; stroke-opacity:1; fill:none\" points=\"\n",
       "  32.2221,93.3216 35.9435,93.3216 \n",
       "  \"/>\n",
       "<polyline clip-path=\"url(#clip00)\" style=\"stroke:#000000; stroke-width:1; stroke-opacity:1; fill:none\" points=\"\n",
       "  32.2221,37.3925 35.9435,37.3925 \n",
       "  \"/>\n",
       "<g clip-path=\"url(#clip00)\">\n",
       "<text style=\"fill:#000000; fill-opacity:1; font-family:Arial,Helvetica Neue,Helvetica,sans-serif; font-size:12; text-anchor:middle;\" transform=\"rotate(0, 39.2436, 188.113)\" x=\"39.2436\" y=\"188.113\">-10</text>\n",
       "</g>\n",
       "<g clip-path=\"url(#clip00)\">\n",
       "<text style=\"fill:#000000; fill-opacity:1; font-family:Arial,Helvetica Neue,Helvetica,sans-serif; font-size:12; text-anchor:middle;\" transform=\"rotate(0, 156.269, 188.113)\" x=\"156.269\" y=\"188.113\">0</text>\n",
       "</g>\n",
       "<g clip-path=\"url(#clip00)\">\n",
       "<text style=\"fill:#000000; fill-opacity:1; font-family:Arial,Helvetica Neue,Helvetica,sans-serif; font-size:12; text-anchor:middle;\" transform=\"rotate(0, 273.293, 188.113)\" x=\"273.293\" y=\"188.113\">10</text>\n",
       "</g>\n",
       "<g clip-path=\"url(#clip00)\">\n",
       "<text style=\"fill:#000000; fill-opacity:1; font-family:Arial,Helvetica Neue,Helvetica,sans-serif; font-size:12; text-anchor:end;\" transform=\"rotate(0, 29.2221, 153.751)\" x=\"29.2221\" y=\"153.751\">0.0</text>\n",
       "</g>\n",
       "<g clip-path=\"url(#clip00)\">\n",
       "<text style=\"fill:#000000; fill-opacity:1; font-family:Arial,Helvetica Neue,Helvetica,sans-serif; font-size:12; text-anchor:end;\" transform=\"rotate(0, 29.2221, 97.8216)\" x=\"29.2221\" y=\"97.8216\">2.5</text>\n",
       "</g>\n",
       "<g clip-path=\"url(#clip00)\">\n",
       "<text style=\"fill:#000000; fill-opacity:1; font-family:Arial,Helvetica Neue,Helvetica,sans-serif; font-size:12; text-anchor:end;\" transform=\"rotate(0, 29.2221, 41.8925)\" x=\"29.2221\" y=\"41.8925\">5.0</text>\n",
       "</g>\n",
       "<polyline clip-path=\"url(#clip02)\" style=\"stroke:#009af9; stroke-width:2; stroke-opacity:1; fill:none\" points=\"\n",
       "  39.2436,57.8166 40.4139,57.8217 41.5841,57.0787 42.7543,55.7051 43.9246,53.8427 45.0948,51.6517 46.2651,49.3046 47.4353,46.9793 48.6056,44.8519 49.7758,43.0898 \n",
       "  50.9461,41.8447 52.1163,41.247 53.2866,41.4005 54.4568,42.3778 55.6271,44.2181 56.7973,46.9251 57.9676,50.4672 59.1378,54.7786 60.3081,59.7617 61.4783,65.2917 \n",
       "  62.6486,71.2206 63.8188,77.3839 64.9891,83.6068 66.1593,89.7113 67.3296,95.523 68.4998,100.879 69.6701,105.632 70.8403,109.659 72.0106,112.867 73.1808,115.191 \n",
       "  74.3511,116.602 75.5213,117.107 76.6916,116.748 77.8618,115.601 79.0321,113.771 80.2023,111.391 81.3726,108.613 82.5428,105.606 83.7131,102.548 84.8833,99.6141 \n",
       "  86.0536,96.9778 87.2238,94.7976 88.3941,93.2136 89.5643,92.3411 90.7346,92.2662 91.9048,93.0422 93.0751,94.6877 94.2453,97.1858 95.4156,100.484 96.5858,104.499 \n",
       "  97.7561,109.116 98.9263,114.195 100.097,119.579 101.267,125.096 102.437,130.568 103.607,135.819 104.778,140.681 105.948,144.998 107.118,148.638 108.288,151.493 \n",
       "  109.459,153.487 110.629,154.576 111.799,154.752 112.969,154.043 114.14,152.51 115.31,150.246 116.48,147.374 117.65,144.039 118.821,140.404 119.991,136.642 \n",
       "  121.161,132.933 122.331,129.45 123.502,126.359 124.672,123.808 125.842,121.925 127.012,120.807 128.183,120.522 129.353,121.103 130.523,122.548 131.693,124.819 \n",
       "  132.864,127.846 134.034,131.524 135.204,135.727 136.374,140.301 137.545,145.081 138.715,149.891 139.885,154.553 141.055,158.893 142.226,162.751 143.396,165.985 \n",
       "  144.566,168.475 145.736,170.131 146.907,170.897 148.077,170.749 149.247,169.699 150.417,167.796 151.588,165.12 152.758,161.782 153.928,157.918 155.098,153.684 \n",
       "  156.269,149.251 157.439,144.795 158.609,140.494 159.779,136.518 160.95,133.023 162.12,130.146 163.29,127.997 164.46,126.657 165.631,126.173 166.801,126.558 \n",
       "  167.971,127.79 169.141,129.81 170.312,132.529 171.482,135.828 172.652,139.564 173.822,143.577 174.993,147.693 176.163,151.735 177.333,155.527 178.503,158.901 \n",
       "  179.674,161.707 180.844,163.816 182.014,165.126 183.184,165.564 184.355,165.094 185.525,163.712 186.695,161.454 187.865,158.384 189.036,154.604 190.206,150.237 \n",
       "  191.376,145.435 192.546,140.36 193.717,135.189 194.887,130.1 196.057,125.266 197.227,120.85 198.398,116.998 199.568,113.832 200.738,111.444 201.908,109.898 \n",
       "  203.079,109.22 204.249,109.402 205.419,110.4 206.589,112.139 207.76,114.509 208.93,117.38 210.1,120.595 211.27,123.987 212.441,127.379 213.611,130.592 \n",
       "  214.781,133.457 215.951,135.814 217.121,137.524 218.292,138.474 219.462,138.578 220.632,137.785 221.802,136.078 222.973,133.475 224.143,130.03 225.313,125.828 \n",
       "  226.483,120.986 227.654,115.643 228.824,109.957 229.994,104.102 231.164,98.2544 232.335,92.5908 233.505,87.2796 234.675,82.4742 235.845,78.3066 237.016,74.883 \n",
       "  238.186,72.2787 239.356,70.5355 240.526,69.6601 241.697,69.6235 242.867,70.3627 244.037,71.7825 245.207,73.7599 246.378,76.1487 247.548,78.7856 248.718,81.4961 \n",
       "  249.888,84.1024 251.059,86.4294 252.229,88.3128 253.399,89.6046 254.569,90.1799 255.74,89.9412 256.91,88.8227 258.08,86.7927 259.25,83.8549 260.421,80.0486 \n",
       "  261.591,75.4464 262.761,70.152 263.931,64.2959 265.102,58.0297 266.272,51.521 267.442,44.9456 268.612,38.4816 269.783,32.3014 270.953,26.5654 272.123,21.4152 \n",
       "  273.293,16.9683 \n",
       "  \"/>\n",
       "<polyline clip-path=\"url(#clip02)\" style=\"stroke:#e26f46; stroke-width:0; stroke-opacity:1; fill:none\" points=\"\n",
       "  39.2436,61.5458 40.4139,59.1053 41.5841,56.6953 42.7543,54.3388 43.9246,52.064 45.0948,49.9048 46.2651,47.9018 47.4353,46.103 48.6056,44.5641 49.7758,43.3492 \n",
       "  50.9461,42.5299 52.1163,42.1844 53.2866,42.3949 54.4568,43.2437 55.6271,44.8071 56.7973,47.1481 57.9676,50.3064 59.1378,54.2887 60.3081,59.0584 61.4783,64.5288 \n",
       "  62.6486,70.5604 63.8188,76.965 64.9891,83.5168 66.1593,89.9701 67.3296,96.0804 68.4998,101.626 69.6701,106.424 70.8403,110.346 72.0106,113.316 73.1808,115.315 \n",
       "  74.3511,116.371 75.5213,116.548 76.6916,115.94 77.8618,114.659 79.0321,112.83 80.2023,110.583 81.3726,108.05 82.5428,105.366 83.7131,102.663 84.8833,100.07 \n",
       "  86.0536,97.7133 87.2238,95.7168 88.3941,94.1968 89.5643,93.2613 90.7346,93.0061 91.9048,93.51 93.0751,94.8295 94.2453,96.9929 95.4156,99.9947 96.5858,103.791 \n",
       "  97.7561,108.297 98.9263,113.386 100.097,118.895 101.267,124.63 102.437,130.379 103.607,135.921 104.778,141.044 105.948,145.558 107.118,149.303 108.288,152.163 \n",
       "  109.459,154.067 110.629,154.99 111.799,154.953 112.969,154.015 114.14,152.27 115.31,149.841 116.48,146.867 117.65,143.504 118.821,139.911 119.991,136.254 \n",
       "  121.161,132.691 122.331,129.377 123.502,126.453 124.672,124.046 125.842,122.266 127.012,121.2 128.183,120.912 129.353,121.44 130.523,122.79 131.693,124.94 \n",
       "  132.864,127.835 134.034,131.392 135.204,135.496 136.374,140.01 137.545,144.771 138.715,149.607 139.885,154.332 141.055,158.765 142.226,162.731 143.396,166.071 \n",
       "  144.566,168.654 145.736,170.376 146.907,171.172 148.077,171.016 149.247,169.922 150.417,167.944 151.588,165.175 152.758,161.736 153.928,157.779 155.098,153.47 \n",
       "  156.269,148.989 157.439,144.52 158.609,140.24 159.779,136.317 160.95,132.9 162.12,130.115 163.29,128.063 164.46,126.812 165.631,126.399 166.801,126.828 \n",
       "  167.971,128.073 169.141,130.075 170.312,132.745 171.482,135.971 172.652,139.62 173.822,143.539 174.993,147.568 176.163,151.537 177.333,155.279 178.503,158.632 \n",
       "  179.674,161.447 180.844,163.593 182.014,164.964 183.184,165.479 184.355,165.094 185.525,163.796 186.695,161.609 187.865,158.592 189.036,154.84 190.206,150.474 \n",
       "  191.376,145.646 192.546,140.523 193.717,135.287 194.887,130.125 196.057,125.218 197.227,120.738 198.398,116.838 199.568,113.644 200.738,111.253 201.908,109.726 \n",
       "  203.079,109.086 204.249,109.321 205.419,110.38 206.589,112.178 207.76,114.601 208.93,117.508 210.1,120.743 211.27,124.134 212.441,127.505 213.611,130.682 \n",
       "  214.781,133.5 215.951,135.806 217.121,137.468 218.292,138.379 219.462,138.46 220.632,137.663 221.802,135.97 222.973,133.398 224.143,129.997 225.313,125.845 \n",
       "  226.483,121.052 227.654,115.748 228.824,110.086 229.994,104.234 231.164,98.3673 232.335,92.6648 233.505,87.2998 234.675,82.4339 235.845,78.2095 237.016,74.7429 \n",
       "  238.186,72.1186 239.356,70.3839 240.526,69.5462 241.697,69.5719 242.867,70.3872 244.037,71.8823 245.207,73.9178 246.378,76.3328 247.548,78.9545 248.718,81.6082 \n",
       "  249.888,84.1258 251.059,86.3523 252.229,88.149 253.399,89.3938 254.569,89.9795 255.74,89.8118 256.91,88.8095 258.08,86.9088 259.25,84.0721 260.421,80.3007 \n",
       "  261.591,75.6466 262.761,70.2208 263.931,64.1922 265.102,57.7747 266.272,51.2036 267.442,44.7037 268.612,38.4544 269.783,32.5582 270.953,27.0173 272.123,21.7222 \n",
       "  273.293,16.4526 \n",
       "  \"/>\n",
       "<circle clip-path=\"url(#clip02)\" style=\"fill:#e26f46; stroke:none; fill-opacity:1\" cx=\"39.2436\" cy=\"61.5458\" r=\"2\"/>\n",
       "<circle clip-path=\"url(#clip02)\" style=\"fill:#e26f46; stroke:none; fill-opacity:1\" cx=\"40.4139\" cy=\"59.1053\" r=\"2\"/>\n",
       "<circle clip-path=\"url(#clip02)\" style=\"fill:#e26f46; stroke:none; fill-opacity:1\" cx=\"41.5841\" cy=\"56.6953\" r=\"2\"/>\n",
       "<circle clip-path=\"url(#clip02)\" style=\"fill:#e26f46; stroke:none; fill-opacity:1\" cx=\"42.7543\" cy=\"54.3388\" r=\"2\"/>\n",
       "<circle clip-path=\"url(#clip02)\" style=\"fill:#e26f46; stroke:none; fill-opacity:1\" cx=\"43.9246\" cy=\"52.064\" r=\"2\"/>\n",
       "<circle clip-path=\"url(#clip02)\" style=\"fill:#e26f46; stroke:none; fill-opacity:1\" cx=\"45.0948\" cy=\"49.9048\" r=\"2\"/>\n",
       "<circle clip-path=\"url(#clip02)\" style=\"fill:#e26f46; stroke:none; fill-opacity:1\" cx=\"46.2651\" cy=\"47.9018\" r=\"2\"/>\n",
       "<circle clip-path=\"url(#clip02)\" style=\"fill:#e26f46; stroke:none; fill-opacity:1\" cx=\"47.4353\" cy=\"46.103\" r=\"2\"/>\n",
       "<circle clip-path=\"url(#clip02)\" style=\"fill:#e26f46; stroke:none; fill-opacity:1\" cx=\"48.6056\" cy=\"44.5641\" r=\"2\"/>\n",
       "<circle clip-path=\"url(#clip02)\" style=\"fill:#e26f46; stroke:none; fill-opacity:1\" cx=\"49.7758\" cy=\"43.3492\" r=\"2\"/>\n",
       "<circle clip-path=\"url(#clip02)\" style=\"fill:#e26f46; stroke:none; fill-opacity:1\" cx=\"50.9461\" cy=\"42.5299\" r=\"2\"/>\n",
       "<circle clip-path=\"url(#clip02)\" style=\"fill:#e26f46; stroke:none; fill-opacity:1\" cx=\"52.1163\" cy=\"42.1844\" r=\"2\"/>\n",
       "<circle clip-path=\"url(#clip02)\" style=\"fill:#e26f46; stroke:none; fill-opacity:1\" cx=\"53.2866\" cy=\"42.3949\" r=\"2\"/>\n",
       "<circle clip-path=\"url(#clip02)\" style=\"fill:#e26f46; stroke:none; fill-opacity:1\" cx=\"54.4568\" cy=\"43.2437\" r=\"2\"/>\n",
       "<circle clip-path=\"url(#clip02)\" style=\"fill:#e26f46; stroke:none; fill-opacity:1\" cx=\"55.6271\" cy=\"44.8071\" r=\"2\"/>\n",
       "<circle clip-path=\"url(#clip02)\" style=\"fill:#e26f46; stroke:none; fill-opacity:1\" cx=\"56.7973\" cy=\"47.1481\" r=\"2\"/>\n",
       "<circle clip-path=\"url(#clip02)\" style=\"fill:#e26f46; stroke:none; fill-opacity:1\" cx=\"57.9676\" cy=\"50.3064\" r=\"2\"/>\n",
       "<circle clip-path=\"url(#clip02)\" style=\"fill:#e26f46; stroke:none; fill-opacity:1\" cx=\"59.1378\" cy=\"54.2887\" r=\"2\"/>\n",
       "<circle clip-path=\"url(#clip02)\" style=\"fill:#e26f46; stroke:none; fill-opacity:1\" cx=\"60.3081\" cy=\"59.0584\" r=\"2\"/>\n",
       "<circle clip-path=\"url(#clip02)\" style=\"fill:#e26f46; stroke:none; fill-opacity:1\" cx=\"61.4783\" cy=\"64.5288\" r=\"2\"/>\n",
       "<circle clip-path=\"url(#clip02)\" style=\"fill:#e26f46; stroke:none; fill-opacity:1\" cx=\"62.6486\" cy=\"70.5604\" r=\"2\"/>\n",
       "<circle clip-path=\"url(#clip02)\" style=\"fill:#e26f46; stroke:none; fill-opacity:1\" cx=\"63.8188\" cy=\"76.965\" r=\"2\"/>\n",
       "<circle clip-path=\"url(#clip02)\" style=\"fill:#e26f46; stroke:none; fill-opacity:1\" cx=\"64.9891\" cy=\"83.5168\" r=\"2\"/>\n",
       "<circle clip-path=\"url(#clip02)\" style=\"fill:#e26f46; stroke:none; fill-opacity:1\" cx=\"66.1593\" cy=\"89.9701\" r=\"2\"/>\n",
       "<circle clip-path=\"url(#clip02)\" style=\"fill:#e26f46; stroke:none; fill-opacity:1\" cx=\"67.3296\" cy=\"96.0804\" r=\"2\"/>\n",
       "<circle clip-path=\"url(#clip02)\" style=\"fill:#e26f46; stroke:none; fill-opacity:1\" cx=\"68.4998\" cy=\"101.626\" r=\"2\"/>\n",
       "<circle clip-path=\"url(#clip02)\" style=\"fill:#e26f46; stroke:none; fill-opacity:1\" cx=\"69.6701\" cy=\"106.424\" r=\"2\"/>\n",
       "<circle clip-path=\"url(#clip02)\" style=\"fill:#e26f46; stroke:none; fill-opacity:1\" cx=\"70.8403\" cy=\"110.346\" r=\"2\"/>\n",
       "<circle clip-path=\"url(#clip02)\" style=\"fill:#e26f46; stroke:none; fill-opacity:1\" cx=\"72.0106\" cy=\"113.316\" r=\"2\"/>\n",
       "<circle clip-path=\"url(#clip02)\" style=\"fill:#e26f46; stroke:none; fill-opacity:1\" cx=\"73.1808\" cy=\"115.315\" r=\"2\"/>\n",
       "<circle clip-path=\"url(#clip02)\" style=\"fill:#e26f46; stroke:none; fill-opacity:1\" cx=\"74.3511\" cy=\"116.371\" r=\"2\"/>\n",
       "<circle clip-path=\"url(#clip02)\" style=\"fill:#e26f46; stroke:none; fill-opacity:1\" cx=\"75.5213\" cy=\"116.548\" r=\"2\"/>\n",
       "<circle clip-path=\"url(#clip02)\" style=\"fill:#e26f46; stroke:none; fill-opacity:1\" cx=\"76.6916\" cy=\"115.94\" r=\"2\"/>\n",
       "<circle clip-path=\"url(#clip02)\" style=\"fill:#e26f46; stroke:none; fill-opacity:1\" cx=\"77.8618\" cy=\"114.659\" r=\"2\"/>\n",
       "<circle clip-path=\"url(#clip02)\" style=\"fill:#e26f46; stroke:none; fill-opacity:1\" cx=\"79.0321\" cy=\"112.83\" r=\"2\"/>\n",
       "<circle clip-path=\"url(#clip02)\" style=\"fill:#e26f46; stroke:none; fill-opacity:1\" cx=\"80.2023\" cy=\"110.583\" r=\"2\"/>\n",
       "<circle clip-path=\"url(#clip02)\" style=\"fill:#e26f46; stroke:none; fill-opacity:1\" cx=\"81.3726\" cy=\"108.05\" r=\"2\"/>\n",
       "<circle clip-path=\"url(#clip02)\" style=\"fill:#e26f46; stroke:none; fill-opacity:1\" cx=\"82.5428\" cy=\"105.366\" r=\"2\"/>\n",
       "<circle clip-path=\"url(#clip02)\" style=\"fill:#e26f46; stroke:none; fill-opacity:1\" cx=\"83.7131\" cy=\"102.663\" r=\"2\"/>\n",
       "<circle clip-path=\"url(#clip02)\" style=\"fill:#e26f46; stroke:none; fill-opacity:1\" cx=\"84.8833\" cy=\"100.07\" r=\"2\"/>\n",
       "<circle clip-path=\"url(#clip02)\" style=\"fill:#e26f46; stroke:none; fill-opacity:1\" cx=\"86.0536\" cy=\"97.7133\" r=\"2\"/>\n",
       "<circle clip-path=\"url(#clip02)\" style=\"fill:#e26f46; stroke:none; fill-opacity:1\" cx=\"87.2238\" cy=\"95.7168\" r=\"2\"/>\n",
       "<circle clip-path=\"url(#clip02)\" style=\"fill:#e26f46; stroke:none; fill-opacity:1\" cx=\"88.3941\" cy=\"94.1968\" r=\"2\"/>\n",
       "<circle clip-path=\"url(#clip02)\" style=\"fill:#e26f46; stroke:none; fill-opacity:1\" cx=\"89.5643\" cy=\"93.2613\" r=\"2\"/>\n",
       "<circle clip-path=\"url(#clip02)\" style=\"fill:#e26f46; stroke:none; fill-opacity:1\" cx=\"90.7346\" cy=\"93.0061\" r=\"2\"/>\n",
       "<circle clip-path=\"url(#clip02)\" style=\"fill:#e26f46; stroke:none; fill-opacity:1\" cx=\"91.9048\" cy=\"93.51\" r=\"2\"/>\n",
       "<circle clip-path=\"url(#clip02)\" style=\"fill:#e26f46; stroke:none; fill-opacity:1\" cx=\"93.0751\" cy=\"94.8295\" r=\"2\"/>\n",
       "<circle clip-path=\"url(#clip02)\" style=\"fill:#e26f46; stroke:none; fill-opacity:1\" cx=\"94.2453\" cy=\"96.9929\" r=\"2\"/>\n",
       "<circle clip-path=\"url(#clip02)\" style=\"fill:#e26f46; stroke:none; fill-opacity:1\" cx=\"95.4156\" cy=\"99.9947\" r=\"2\"/>\n",
       "<circle clip-path=\"url(#clip02)\" style=\"fill:#e26f46; stroke:none; fill-opacity:1\" cx=\"96.5858\" cy=\"103.791\" r=\"2\"/>\n",
       "<circle clip-path=\"url(#clip02)\" style=\"fill:#e26f46; stroke:none; fill-opacity:1\" cx=\"97.7561\" cy=\"108.297\" r=\"2\"/>\n",
       "<circle clip-path=\"url(#clip02)\" style=\"fill:#e26f46; stroke:none; fill-opacity:1\" cx=\"98.9263\" cy=\"113.386\" r=\"2\"/>\n",
       "<circle clip-path=\"url(#clip02)\" style=\"fill:#e26f46; stroke:none; fill-opacity:1\" cx=\"100.097\" cy=\"118.895\" r=\"2\"/>\n",
       "<circle clip-path=\"url(#clip02)\" style=\"fill:#e26f46; stroke:none; fill-opacity:1\" cx=\"101.267\" cy=\"124.63\" r=\"2\"/>\n",
       "<circle clip-path=\"url(#clip02)\" style=\"fill:#e26f46; stroke:none; fill-opacity:1\" cx=\"102.437\" cy=\"130.379\" r=\"2\"/>\n",
       "<circle clip-path=\"url(#clip02)\" style=\"fill:#e26f46; stroke:none; fill-opacity:1\" cx=\"103.607\" cy=\"135.921\" r=\"2\"/>\n",
       "<circle clip-path=\"url(#clip02)\" style=\"fill:#e26f46; stroke:none; fill-opacity:1\" cx=\"104.778\" cy=\"141.044\" r=\"2\"/>\n",
       "<circle clip-path=\"url(#clip02)\" style=\"fill:#e26f46; stroke:none; fill-opacity:1\" cx=\"105.948\" cy=\"145.558\" r=\"2\"/>\n",
       "<circle clip-path=\"url(#clip02)\" style=\"fill:#e26f46; stroke:none; fill-opacity:1\" cx=\"107.118\" cy=\"149.303\" r=\"2\"/>\n",
       "<circle clip-path=\"url(#clip02)\" style=\"fill:#e26f46; stroke:none; fill-opacity:1\" cx=\"108.288\" cy=\"152.163\" r=\"2\"/>\n",
       "<circle clip-path=\"url(#clip02)\" style=\"fill:#e26f46; stroke:none; fill-opacity:1\" cx=\"109.459\" cy=\"154.067\" r=\"2\"/>\n",
       "<circle clip-path=\"url(#clip02)\" style=\"fill:#e26f46; stroke:none; fill-opacity:1\" cx=\"110.629\" cy=\"154.99\" r=\"2\"/>\n",
       "<circle clip-path=\"url(#clip02)\" style=\"fill:#e26f46; stroke:none; fill-opacity:1\" cx=\"111.799\" cy=\"154.953\" r=\"2\"/>\n",
       "<circle clip-path=\"url(#clip02)\" style=\"fill:#e26f46; stroke:none; fill-opacity:1\" cx=\"112.969\" cy=\"154.015\" r=\"2\"/>\n",
       "<circle clip-path=\"url(#clip02)\" style=\"fill:#e26f46; stroke:none; fill-opacity:1\" cx=\"114.14\" cy=\"152.27\" r=\"2\"/>\n",
       "<circle clip-path=\"url(#clip02)\" style=\"fill:#e26f46; stroke:none; fill-opacity:1\" cx=\"115.31\" cy=\"149.841\" r=\"2\"/>\n",
       "<circle clip-path=\"url(#clip02)\" style=\"fill:#e26f46; stroke:none; fill-opacity:1\" cx=\"116.48\" cy=\"146.867\" r=\"2\"/>\n",
       "<circle clip-path=\"url(#clip02)\" style=\"fill:#e26f46; stroke:none; fill-opacity:1\" cx=\"117.65\" cy=\"143.504\" r=\"2\"/>\n",
       "<circle clip-path=\"url(#clip02)\" style=\"fill:#e26f46; stroke:none; fill-opacity:1\" cx=\"118.821\" cy=\"139.911\" r=\"2\"/>\n",
       "<circle clip-path=\"url(#clip02)\" style=\"fill:#e26f46; stroke:none; fill-opacity:1\" cx=\"119.991\" cy=\"136.254\" r=\"2\"/>\n",
       "<circle clip-path=\"url(#clip02)\" style=\"fill:#e26f46; stroke:none; fill-opacity:1\" cx=\"121.161\" cy=\"132.691\" r=\"2\"/>\n",
       "<circle clip-path=\"url(#clip02)\" style=\"fill:#e26f46; stroke:none; fill-opacity:1\" cx=\"122.331\" cy=\"129.377\" r=\"2\"/>\n",
       "<circle clip-path=\"url(#clip02)\" style=\"fill:#e26f46; stroke:none; fill-opacity:1\" cx=\"123.502\" cy=\"126.453\" r=\"2\"/>\n",
       "<circle clip-path=\"url(#clip02)\" style=\"fill:#e26f46; stroke:none; fill-opacity:1\" cx=\"124.672\" cy=\"124.046\" r=\"2\"/>\n",
       "<circle clip-path=\"url(#clip02)\" style=\"fill:#e26f46; stroke:none; fill-opacity:1\" cx=\"125.842\" cy=\"122.266\" r=\"2\"/>\n",
       "<circle clip-path=\"url(#clip02)\" style=\"fill:#e26f46; stroke:none; fill-opacity:1\" cx=\"127.012\" cy=\"121.2\" r=\"2\"/>\n",
       "<circle clip-path=\"url(#clip02)\" style=\"fill:#e26f46; stroke:none; fill-opacity:1\" cx=\"128.183\" cy=\"120.912\" r=\"2\"/>\n",
       "<circle clip-path=\"url(#clip02)\" style=\"fill:#e26f46; stroke:none; fill-opacity:1\" cx=\"129.353\" cy=\"121.44\" r=\"2\"/>\n",
       "<circle clip-path=\"url(#clip02)\" style=\"fill:#e26f46; stroke:none; fill-opacity:1\" cx=\"130.523\" cy=\"122.79\" r=\"2\"/>\n",
       "<circle clip-path=\"url(#clip02)\" style=\"fill:#e26f46; stroke:none; fill-opacity:1\" cx=\"131.693\" cy=\"124.94\" r=\"2\"/>\n",
       "<circle clip-path=\"url(#clip02)\" style=\"fill:#e26f46; stroke:none; fill-opacity:1\" cx=\"132.864\" cy=\"127.835\" r=\"2\"/>\n",
       "<circle clip-path=\"url(#clip02)\" style=\"fill:#e26f46; stroke:none; fill-opacity:1\" cx=\"134.034\" cy=\"131.392\" r=\"2\"/>\n",
       "<circle clip-path=\"url(#clip02)\" style=\"fill:#e26f46; stroke:none; fill-opacity:1\" cx=\"135.204\" cy=\"135.496\" r=\"2\"/>\n",
       "<circle clip-path=\"url(#clip02)\" style=\"fill:#e26f46; stroke:none; fill-opacity:1\" cx=\"136.374\" cy=\"140.01\" r=\"2\"/>\n",
       "<circle clip-path=\"url(#clip02)\" style=\"fill:#e26f46; stroke:none; fill-opacity:1\" cx=\"137.545\" cy=\"144.771\" r=\"2\"/>\n",
       "<circle clip-path=\"url(#clip02)\" style=\"fill:#e26f46; stroke:none; fill-opacity:1\" cx=\"138.715\" cy=\"149.607\" r=\"2\"/>\n",
       "<circle clip-path=\"url(#clip02)\" style=\"fill:#e26f46; stroke:none; fill-opacity:1\" cx=\"139.885\" cy=\"154.332\" r=\"2\"/>\n",
       "<circle clip-path=\"url(#clip02)\" style=\"fill:#e26f46; stroke:none; fill-opacity:1\" cx=\"141.055\" cy=\"158.765\" r=\"2\"/>\n",
       "<circle clip-path=\"url(#clip02)\" style=\"fill:#e26f46; stroke:none; fill-opacity:1\" cx=\"142.226\" cy=\"162.731\" r=\"2\"/>\n",
       "<circle clip-path=\"url(#clip02)\" style=\"fill:#e26f46; stroke:none; fill-opacity:1\" cx=\"143.396\" cy=\"166.071\" r=\"2\"/>\n",
       "<circle clip-path=\"url(#clip02)\" style=\"fill:#e26f46; stroke:none; fill-opacity:1\" cx=\"144.566\" cy=\"168.654\" r=\"2\"/>\n",
       "<circle clip-path=\"url(#clip02)\" style=\"fill:#e26f46; stroke:none; fill-opacity:1\" cx=\"145.736\" cy=\"170.376\" r=\"2\"/>\n",
       "<circle clip-path=\"url(#clip02)\" style=\"fill:#e26f46; stroke:none; fill-opacity:1\" cx=\"146.907\" cy=\"171.172\" r=\"2\"/>\n",
       "<circle clip-path=\"url(#clip02)\" style=\"fill:#e26f46; stroke:none; fill-opacity:1\" cx=\"148.077\" cy=\"171.016\" r=\"2\"/>\n",
       "<circle clip-path=\"url(#clip02)\" style=\"fill:#e26f46; stroke:none; fill-opacity:1\" cx=\"149.247\" cy=\"169.922\" r=\"2\"/>\n",
       "<circle clip-path=\"url(#clip02)\" style=\"fill:#e26f46; stroke:none; fill-opacity:1\" cx=\"150.417\" cy=\"167.944\" r=\"2\"/>\n",
       "<circle clip-path=\"url(#clip02)\" style=\"fill:#e26f46; stroke:none; fill-opacity:1\" cx=\"151.588\" cy=\"165.175\" r=\"2\"/>\n",
       "<circle clip-path=\"url(#clip02)\" style=\"fill:#e26f46; stroke:none; fill-opacity:1\" cx=\"152.758\" cy=\"161.736\" r=\"2\"/>\n",
       "<circle clip-path=\"url(#clip02)\" style=\"fill:#e26f46; stroke:none; fill-opacity:1\" cx=\"153.928\" cy=\"157.779\" r=\"2\"/>\n",
       "<circle clip-path=\"url(#clip02)\" style=\"fill:#e26f46; stroke:none; fill-opacity:1\" cx=\"155.098\" cy=\"153.47\" r=\"2\"/>\n",
       "<circle clip-path=\"url(#clip02)\" style=\"fill:#e26f46; stroke:none; fill-opacity:1\" cx=\"156.269\" cy=\"148.989\" r=\"2\"/>\n",
       "<circle clip-path=\"url(#clip02)\" style=\"fill:#e26f46; stroke:none; fill-opacity:1\" cx=\"157.439\" cy=\"144.52\" r=\"2\"/>\n",
       "<circle clip-path=\"url(#clip02)\" style=\"fill:#e26f46; stroke:none; fill-opacity:1\" cx=\"158.609\" cy=\"140.24\" r=\"2\"/>\n",
       "<circle clip-path=\"url(#clip02)\" style=\"fill:#e26f46; stroke:none; fill-opacity:1\" cx=\"159.779\" cy=\"136.317\" r=\"2\"/>\n",
       "<circle clip-path=\"url(#clip02)\" style=\"fill:#e26f46; stroke:none; fill-opacity:1\" cx=\"160.95\" cy=\"132.9\" r=\"2\"/>\n",
       "<circle clip-path=\"url(#clip02)\" style=\"fill:#e26f46; stroke:none; fill-opacity:1\" cx=\"162.12\" cy=\"130.115\" r=\"2\"/>\n",
       "<circle clip-path=\"url(#clip02)\" style=\"fill:#e26f46; stroke:none; fill-opacity:1\" cx=\"163.29\" cy=\"128.063\" r=\"2\"/>\n",
       "<circle clip-path=\"url(#clip02)\" style=\"fill:#e26f46; stroke:none; fill-opacity:1\" cx=\"164.46\" cy=\"126.812\" r=\"2\"/>\n",
       "<circle clip-path=\"url(#clip02)\" style=\"fill:#e26f46; stroke:none; fill-opacity:1\" cx=\"165.631\" cy=\"126.399\" r=\"2\"/>\n",
       "<circle clip-path=\"url(#clip02)\" style=\"fill:#e26f46; stroke:none; fill-opacity:1\" cx=\"166.801\" cy=\"126.828\" r=\"2\"/>\n",
       "<circle clip-path=\"url(#clip02)\" style=\"fill:#e26f46; stroke:none; fill-opacity:1\" cx=\"167.971\" cy=\"128.073\" r=\"2\"/>\n",
       "<circle clip-path=\"url(#clip02)\" style=\"fill:#e26f46; stroke:none; fill-opacity:1\" cx=\"169.141\" cy=\"130.075\" r=\"2\"/>\n",
       "<circle clip-path=\"url(#clip02)\" style=\"fill:#e26f46; stroke:none; fill-opacity:1\" cx=\"170.312\" cy=\"132.745\" r=\"2\"/>\n",
       "<circle clip-path=\"url(#clip02)\" style=\"fill:#e26f46; stroke:none; fill-opacity:1\" cx=\"171.482\" cy=\"135.971\" r=\"2\"/>\n",
       "<circle clip-path=\"url(#clip02)\" style=\"fill:#e26f46; stroke:none; fill-opacity:1\" cx=\"172.652\" cy=\"139.62\" r=\"2\"/>\n",
       "<circle clip-path=\"url(#clip02)\" style=\"fill:#e26f46; stroke:none; fill-opacity:1\" cx=\"173.822\" cy=\"143.539\" r=\"2\"/>\n",
       "<circle clip-path=\"url(#clip02)\" style=\"fill:#e26f46; stroke:none; fill-opacity:1\" cx=\"174.993\" cy=\"147.568\" r=\"2\"/>\n",
       "<circle clip-path=\"url(#clip02)\" style=\"fill:#e26f46; stroke:none; fill-opacity:1\" cx=\"176.163\" cy=\"151.537\" r=\"2\"/>\n",
       "<circle clip-path=\"url(#clip02)\" style=\"fill:#e26f46; stroke:none; fill-opacity:1\" cx=\"177.333\" cy=\"155.279\" r=\"2\"/>\n",
       "<circle clip-path=\"url(#clip02)\" style=\"fill:#e26f46; stroke:none; fill-opacity:1\" cx=\"178.503\" cy=\"158.632\" r=\"2\"/>\n",
       "<circle clip-path=\"url(#clip02)\" style=\"fill:#e26f46; stroke:none; fill-opacity:1\" cx=\"179.674\" cy=\"161.447\" r=\"2\"/>\n",
       "<circle clip-path=\"url(#clip02)\" style=\"fill:#e26f46; stroke:none; fill-opacity:1\" cx=\"180.844\" cy=\"163.593\" r=\"2\"/>\n",
       "<circle clip-path=\"url(#clip02)\" style=\"fill:#e26f46; stroke:none; fill-opacity:1\" cx=\"182.014\" cy=\"164.964\" r=\"2\"/>\n",
       "<circle clip-path=\"url(#clip02)\" style=\"fill:#e26f46; stroke:none; fill-opacity:1\" cx=\"183.184\" cy=\"165.479\" r=\"2\"/>\n",
       "<circle clip-path=\"url(#clip02)\" style=\"fill:#e26f46; stroke:none; fill-opacity:1\" cx=\"184.355\" cy=\"165.094\" r=\"2\"/>\n",
       "<circle clip-path=\"url(#clip02)\" style=\"fill:#e26f46; stroke:none; fill-opacity:1\" cx=\"185.525\" cy=\"163.796\" r=\"2\"/>\n",
       "<circle clip-path=\"url(#clip02)\" style=\"fill:#e26f46; stroke:none; fill-opacity:1\" cx=\"186.695\" cy=\"161.609\" r=\"2\"/>\n",
       "<circle clip-path=\"url(#clip02)\" style=\"fill:#e26f46; stroke:none; fill-opacity:1\" cx=\"187.865\" cy=\"158.592\" r=\"2\"/>\n",
       "<circle clip-path=\"url(#clip02)\" style=\"fill:#e26f46; stroke:none; fill-opacity:1\" cx=\"189.036\" cy=\"154.84\" r=\"2\"/>\n",
       "<circle clip-path=\"url(#clip02)\" style=\"fill:#e26f46; stroke:none; fill-opacity:1\" cx=\"190.206\" cy=\"150.474\" r=\"2\"/>\n",
       "<circle clip-path=\"url(#clip02)\" style=\"fill:#e26f46; stroke:none; fill-opacity:1\" cx=\"191.376\" cy=\"145.646\" r=\"2\"/>\n",
       "<circle clip-path=\"url(#clip02)\" style=\"fill:#e26f46; stroke:none; fill-opacity:1\" cx=\"192.546\" cy=\"140.523\" r=\"2\"/>\n",
       "<circle clip-path=\"url(#clip02)\" style=\"fill:#e26f46; stroke:none; fill-opacity:1\" cx=\"193.717\" cy=\"135.287\" r=\"2\"/>\n",
       "<circle clip-path=\"url(#clip02)\" style=\"fill:#e26f46; stroke:none; fill-opacity:1\" cx=\"194.887\" cy=\"130.125\" r=\"2\"/>\n",
       "<circle clip-path=\"url(#clip02)\" style=\"fill:#e26f46; stroke:none; fill-opacity:1\" cx=\"196.057\" cy=\"125.218\" r=\"2\"/>\n",
       "<circle clip-path=\"url(#clip02)\" style=\"fill:#e26f46; stroke:none; fill-opacity:1\" cx=\"197.227\" cy=\"120.738\" r=\"2\"/>\n",
       "<circle clip-path=\"url(#clip02)\" style=\"fill:#e26f46; stroke:none; fill-opacity:1\" cx=\"198.398\" cy=\"116.838\" r=\"2\"/>\n",
       "<circle clip-path=\"url(#clip02)\" style=\"fill:#e26f46; stroke:none; fill-opacity:1\" cx=\"199.568\" cy=\"113.644\" r=\"2\"/>\n",
       "<circle clip-path=\"url(#clip02)\" style=\"fill:#e26f46; stroke:none; fill-opacity:1\" cx=\"200.738\" cy=\"111.253\" r=\"2\"/>\n",
       "<circle clip-path=\"url(#clip02)\" style=\"fill:#e26f46; stroke:none; fill-opacity:1\" cx=\"201.908\" cy=\"109.726\" r=\"2\"/>\n",
       "<circle clip-path=\"url(#clip02)\" style=\"fill:#e26f46; stroke:none; fill-opacity:1\" cx=\"203.079\" cy=\"109.086\" r=\"2\"/>\n",
       "<circle clip-path=\"url(#clip02)\" style=\"fill:#e26f46; stroke:none; fill-opacity:1\" cx=\"204.249\" cy=\"109.321\" r=\"2\"/>\n",
       "<circle clip-path=\"url(#clip02)\" style=\"fill:#e26f46; stroke:none; fill-opacity:1\" cx=\"205.419\" cy=\"110.38\" r=\"2\"/>\n",
       "<circle clip-path=\"url(#clip02)\" style=\"fill:#e26f46; stroke:none; fill-opacity:1\" cx=\"206.589\" cy=\"112.178\" r=\"2\"/>\n",
       "<circle clip-path=\"url(#clip02)\" style=\"fill:#e26f46; stroke:none; fill-opacity:1\" cx=\"207.76\" cy=\"114.601\" r=\"2\"/>\n",
       "<circle clip-path=\"url(#clip02)\" style=\"fill:#e26f46; stroke:none; fill-opacity:1\" cx=\"208.93\" cy=\"117.508\" r=\"2\"/>\n",
       "<circle clip-path=\"url(#clip02)\" style=\"fill:#e26f46; stroke:none; fill-opacity:1\" cx=\"210.1\" cy=\"120.743\" r=\"2\"/>\n",
       "<circle clip-path=\"url(#clip02)\" style=\"fill:#e26f46; stroke:none; fill-opacity:1\" cx=\"211.27\" cy=\"124.134\" r=\"2\"/>\n",
       "<circle clip-path=\"url(#clip02)\" style=\"fill:#e26f46; stroke:none; fill-opacity:1\" cx=\"212.441\" cy=\"127.505\" r=\"2\"/>\n",
       "<circle clip-path=\"url(#clip02)\" style=\"fill:#e26f46; stroke:none; fill-opacity:1\" cx=\"213.611\" cy=\"130.682\" r=\"2\"/>\n",
       "<circle clip-path=\"url(#clip02)\" style=\"fill:#e26f46; stroke:none; fill-opacity:1\" cx=\"214.781\" cy=\"133.5\" r=\"2\"/>\n",
       "<circle clip-path=\"url(#clip02)\" style=\"fill:#e26f46; stroke:none; fill-opacity:1\" cx=\"215.951\" cy=\"135.806\" r=\"2\"/>\n",
       "<circle clip-path=\"url(#clip02)\" style=\"fill:#e26f46; stroke:none; fill-opacity:1\" cx=\"217.121\" cy=\"137.468\" r=\"2\"/>\n",
       "<circle clip-path=\"url(#clip02)\" style=\"fill:#e26f46; stroke:none; fill-opacity:1\" cx=\"218.292\" cy=\"138.379\" r=\"2\"/>\n",
       "<circle clip-path=\"url(#clip02)\" style=\"fill:#e26f46; stroke:none; fill-opacity:1\" cx=\"219.462\" cy=\"138.46\" r=\"2\"/>\n",
       "<circle clip-path=\"url(#clip02)\" style=\"fill:#e26f46; stroke:none; fill-opacity:1\" cx=\"220.632\" cy=\"137.663\" r=\"2\"/>\n",
       "<circle clip-path=\"url(#clip02)\" style=\"fill:#e26f46; stroke:none; fill-opacity:1\" cx=\"221.802\" cy=\"135.97\" r=\"2\"/>\n",
       "<circle clip-path=\"url(#clip02)\" style=\"fill:#e26f46; stroke:none; fill-opacity:1\" cx=\"222.973\" cy=\"133.398\" r=\"2\"/>\n",
       "<circle clip-path=\"url(#clip02)\" style=\"fill:#e26f46; stroke:none; fill-opacity:1\" cx=\"224.143\" cy=\"129.997\" r=\"2\"/>\n",
       "<circle clip-path=\"url(#clip02)\" style=\"fill:#e26f46; stroke:none; fill-opacity:1\" cx=\"225.313\" cy=\"125.845\" r=\"2\"/>\n",
       "<circle clip-path=\"url(#clip02)\" style=\"fill:#e26f46; stroke:none; fill-opacity:1\" cx=\"226.483\" cy=\"121.052\" r=\"2\"/>\n",
       "<circle clip-path=\"url(#clip02)\" style=\"fill:#e26f46; stroke:none; fill-opacity:1\" cx=\"227.654\" cy=\"115.748\" r=\"2\"/>\n",
       "<circle clip-path=\"url(#clip02)\" style=\"fill:#e26f46; stroke:none; fill-opacity:1\" cx=\"228.824\" cy=\"110.086\" r=\"2\"/>\n",
       "<circle clip-path=\"url(#clip02)\" style=\"fill:#e26f46; stroke:none; fill-opacity:1\" cx=\"229.994\" cy=\"104.234\" r=\"2\"/>\n",
       "<circle clip-path=\"url(#clip02)\" style=\"fill:#e26f46; stroke:none; fill-opacity:1\" cx=\"231.164\" cy=\"98.3673\" r=\"2\"/>\n",
       "<circle clip-path=\"url(#clip02)\" style=\"fill:#e26f46; stroke:none; fill-opacity:1\" cx=\"232.335\" cy=\"92.6648\" r=\"2\"/>\n",
       "<circle clip-path=\"url(#clip02)\" style=\"fill:#e26f46; stroke:none; fill-opacity:1\" cx=\"233.505\" cy=\"87.2998\" r=\"2\"/>\n",
       "<circle clip-path=\"url(#clip02)\" style=\"fill:#e26f46; stroke:none; fill-opacity:1\" cx=\"234.675\" cy=\"82.4339\" r=\"2\"/>\n",
       "<circle clip-path=\"url(#clip02)\" style=\"fill:#e26f46; stroke:none; fill-opacity:1\" cx=\"235.845\" cy=\"78.2095\" r=\"2\"/>\n",
       "<circle clip-path=\"url(#clip02)\" style=\"fill:#e26f46; stroke:none; fill-opacity:1\" cx=\"237.016\" cy=\"74.7429\" r=\"2\"/>\n",
       "<circle clip-path=\"url(#clip02)\" style=\"fill:#e26f46; stroke:none; fill-opacity:1\" cx=\"238.186\" cy=\"72.1186\" r=\"2\"/>\n",
       "<circle clip-path=\"url(#clip02)\" style=\"fill:#e26f46; stroke:none; fill-opacity:1\" cx=\"239.356\" cy=\"70.3839\" r=\"2\"/>\n",
       "<circle clip-path=\"url(#clip02)\" style=\"fill:#e26f46; stroke:none; fill-opacity:1\" cx=\"240.526\" cy=\"69.5462\" r=\"2\"/>\n",
       "<circle clip-path=\"url(#clip02)\" style=\"fill:#e26f46; stroke:none; fill-opacity:1\" cx=\"241.697\" cy=\"69.5719\" r=\"2\"/>\n",
       "<circle clip-path=\"url(#clip02)\" style=\"fill:#e26f46; stroke:none; fill-opacity:1\" cx=\"242.867\" cy=\"70.3872\" r=\"2\"/>\n",
       "<circle clip-path=\"url(#clip02)\" style=\"fill:#e26f46; stroke:none; fill-opacity:1\" cx=\"244.037\" cy=\"71.8823\" r=\"2\"/>\n",
       "<circle clip-path=\"url(#clip02)\" style=\"fill:#e26f46; stroke:none; fill-opacity:1\" cx=\"245.207\" cy=\"73.9178\" r=\"2\"/>\n",
       "<circle clip-path=\"url(#clip02)\" style=\"fill:#e26f46; stroke:none; fill-opacity:1\" cx=\"246.378\" cy=\"76.3328\" r=\"2\"/>\n",
       "<circle clip-path=\"url(#clip02)\" style=\"fill:#e26f46; stroke:none; fill-opacity:1\" cx=\"247.548\" cy=\"78.9545\" r=\"2\"/>\n",
       "<circle clip-path=\"url(#clip02)\" style=\"fill:#e26f46; stroke:none; fill-opacity:1\" cx=\"248.718\" cy=\"81.6082\" r=\"2\"/>\n",
       "<circle clip-path=\"url(#clip02)\" style=\"fill:#e26f46; stroke:none; fill-opacity:1\" cx=\"249.888\" cy=\"84.1258\" r=\"2\"/>\n",
       "<circle clip-path=\"url(#clip02)\" style=\"fill:#e26f46; stroke:none; fill-opacity:1\" cx=\"251.059\" cy=\"86.3523\" r=\"2\"/>\n",
       "<circle clip-path=\"url(#clip02)\" style=\"fill:#e26f46; stroke:none; fill-opacity:1\" cx=\"252.229\" cy=\"88.149\" r=\"2\"/>\n",
       "<circle clip-path=\"url(#clip02)\" style=\"fill:#e26f46; stroke:none; fill-opacity:1\" cx=\"253.399\" cy=\"89.3938\" r=\"2\"/>\n",
       "<circle clip-path=\"url(#clip02)\" style=\"fill:#e26f46; stroke:none; fill-opacity:1\" cx=\"254.569\" cy=\"89.9795\" r=\"2\"/>\n",
       "<circle clip-path=\"url(#clip02)\" style=\"fill:#e26f46; stroke:none; fill-opacity:1\" cx=\"255.74\" cy=\"89.8118\" r=\"2\"/>\n",
       "<circle clip-path=\"url(#clip02)\" style=\"fill:#e26f46; stroke:none; fill-opacity:1\" cx=\"256.91\" cy=\"88.8095\" r=\"2\"/>\n",
       "<circle clip-path=\"url(#clip02)\" style=\"fill:#e26f46; stroke:none; fill-opacity:1\" cx=\"258.08\" cy=\"86.9088\" r=\"2\"/>\n",
       "<circle clip-path=\"url(#clip02)\" style=\"fill:#e26f46; stroke:none; fill-opacity:1\" cx=\"259.25\" cy=\"84.0721\" r=\"2\"/>\n",
       "<circle clip-path=\"url(#clip02)\" style=\"fill:#e26f46; stroke:none; fill-opacity:1\" cx=\"260.421\" cy=\"80.3007\" r=\"2\"/>\n",
       "<circle clip-path=\"url(#clip02)\" style=\"fill:#e26f46; stroke:none; fill-opacity:1\" cx=\"261.591\" cy=\"75.6466\" r=\"2\"/>\n",
       "<circle clip-path=\"url(#clip02)\" style=\"fill:#e26f46; stroke:none; fill-opacity:1\" cx=\"262.761\" cy=\"70.2208\" r=\"2\"/>\n",
       "<circle clip-path=\"url(#clip02)\" style=\"fill:#e26f46; stroke:none; fill-opacity:1\" cx=\"263.931\" cy=\"64.1922\" r=\"2\"/>\n",
       "<circle clip-path=\"url(#clip02)\" style=\"fill:#e26f46; stroke:none; fill-opacity:1\" cx=\"265.102\" cy=\"57.7747\" r=\"2\"/>\n",
       "<circle clip-path=\"url(#clip02)\" style=\"fill:#e26f46; stroke:none; fill-opacity:1\" cx=\"266.272\" cy=\"51.2036\" r=\"2\"/>\n",
       "<circle clip-path=\"url(#clip02)\" style=\"fill:#e26f46; stroke:none; fill-opacity:1\" cx=\"267.442\" cy=\"44.7037\" r=\"2\"/>\n",
       "<circle clip-path=\"url(#clip02)\" style=\"fill:#e26f46; stroke:none; fill-opacity:1\" cx=\"268.612\" cy=\"38.4544\" r=\"2\"/>\n",
       "<circle clip-path=\"url(#clip02)\" style=\"fill:#e26f46; stroke:none; fill-opacity:1\" cx=\"269.783\" cy=\"32.5582\" r=\"2\"/>\n",
       "<circle clip-path=\"url(#clip02)\" style=\"fill:#e26f46; stroke:none; fill-opacity:1\" cx=\"270.953\" cy=\"27.0173\" r=\"2\"/>\n",
       "<circle clip-path=\"url(#clip02)\" style=\"fill:#e26f46; stroke:none; fill-opacity:1\" cx=\"272.123\" cy=\"21.7222\" r=\"2\"/>\n",
       "<circle clip-path=\"url(#clip02)\" style=\"fill:#e26f46; stroke:none; fill-opacity:1\" cx=\"273.293\" cy=\"16.4526\" r=\"2\"/>\n",
       "<polygon clip-path=\"url(#clip00)\" points=\"\n",
       "228.799,60.051 271.315,60.051 271.315,14.691 228.799,14.691 \n",
       "  \" fill=\"#ffffff\" fill-opacity=\"1\"/>\n",
       "<polyline clip-path=\"url(#clip00)\" style=\"stroke:#000000; stroke-width:0.5; stroke-opacity:1; fill:none\" points=\"\n",
       "  228.799,60.051 271.315,60.051 271.315,14.691 228.799,14.691 228.799,60.051 \n",
       "  \"/>\n",
       "<polyline clip-path=\"url(#clip00)\" style=\"stroke:#009af9; stroke-width:2; stroke-opacity:1; fill:none\" points=\"\n",
       "  231.799,29.811 249.799,29.811 \n",
       "  \"/>\n",
       "<g clip-path=\"url(#clip00)\">\n",
       "<text style=\"fill:#000000; fill-opacity:1; font-family:Arial,Helvetica Neue,Helvetica,sans-serif; font-size:12; text-anchor:start;\" transform=\"rotate(0, 252.799, 34.311)\" x=\"252.799\" y=\"34.311\">y1</text>\n",
       "</g>\n",
       "<polyline clip-path=\"url(#clip00)\" style=\"stroke:#e26f46; stroke-width:0; stroke-opacity:1; fill:none\" points=\"\n",
       "  231.799,44.931 249.799,44.931 \n",
       "  \"/>\n",
       "<circle clip-path=\"url(#clip00)\" style=\"fill:#e26f46; stroke:none; fill-opacity:1\" cx=\"242.299\" cy=\"44.931\" r=\"5\"/>\n",
       "<g clip-path=\"url(#clip00)\">\n",
       "<text style=\"fill:#000000; fill-opacity:1; font-family:Arial,Helvetica Neue,Helvetica,sans-serif; font-size:12; text-anchor:start;\" transform=\"rotate(0, 252.799, 49.431)\" x=\"252.799\" y=\"49.431\">y2</text>\n",
       "</g>\n",
       "</svg>\n"
      ]
     },
     "execution_count": 19,
     "metadata": {},
     "output_type": "execute_result"
    }
   ],
   "source": [
    "plot(x[:], y_true[:],lw=2)\n",
    "plot!(x[:], y_pred[:],lw=0,\n",
    "    marker=:circle,markerstrokewidth = 0,markersize=3)"
   ]
  },
  {
   "cell_type": "code",
   "execution_count": null,
   "metadata": {
    "collapsed": true
   },
   "outputs": [],
   "source": []
  }
 ],
 "metadata": {
  "kernelspec": {
   "display_name": "Julia 0.6.0",
   "language": "julia",
   "name": "julia-0.6"
  },
  "language_info": {
   "file_extension": ".jl",
   "mimetype": "application/julia",
   "name": "julia",
   "version": "0.6.0"
  },
  "toc": {
   "nav_menu": {},
   "number_sections": true,
   "sideBar": true,
   "skip_h1_title": false,
   "toc_cell": false,
   "toc_position": {},
   "toc_section_display": "block",
   "toc_window_display": false
  }
 },
 "nbformat": 4,
 "nbformat_minor": 2
}
